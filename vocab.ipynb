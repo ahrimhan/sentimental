{
 "cells": [
  {
   "cell_type": "code",
   "execution_count": 1,
   "metadata": {},
   "outputs": [],
   "source": [
    "import string\n",
    "from nltk.corpus import stopwords\n",
    "from nltk.corpus import words\n",
    "from nltk.tokenize import word_tokenize\n",
    "import glob\n",
    "from tqdm import tqdm\n",
    "from nltk.stem.porter import PorterStemmer\n",
    "from collections import Counter\n",
    "from operator import itemgetter\n",
    "import matplotlib.pyplot as plt\n",
    "import numpy as np"
   ]
  },
  {
   "cell_type": "code",
   "execution_count": 2,
   "metadata": {},
   "outputs": [],
   "source": [
    "remove_punctuation_table = str.maketrans('', '', '\\'\"!.,?:;')\n",
    "stop_words = set(stopwords.words('english'))\n",
    "\n",
    "def read_tokens_from_file(file_name):\n",
    "    with open(file_name) as f:\n",
    "        doc = f.read()\n",
    "        # Tokenize\n",
    "        tokens = word_tokenize(doc)\n",
    "\n",
    "        # Remove punctuations\n",
    "        tokens = [w.translate(remove_punctuation_table) for w in tokens]\n",
    "\n",
    "        # Remove short words\n",
    "        # Remove word including number characters\n",
    "        # Make the word into lowercase\n",
    "        tokens = [w.lower() for w in tokens if len(w) > 1 and w.isalpha()]\n",
    "\n",
    "        # Filter out stop words\n",
    "        tokens = [w for w in tokens if not w in stop_words]\n",
    "\n",
    "        # Stemming\n",
    "        porter = PorterStemmer()\n",
    "        tokens = [porter.stem(w) for w in tokens]\n",
    "\n",
    "        return tokens"
   ]
  },
  {
   "cell_type": "code",
   "execution_count": 3,
   "metadata": {},
   "outputs": [
    {
     "name": "stderr",
     "output_type": "stream",
     "text": [
      "100%|██████████| 25000/25000 [01:29<00:00, 278.69it/s]\n"
     ]
    }
   ],
   "source": [
    "vocab_set = set()\n",
    "file_list = glob.glob('./data/train/neg/*.txt')\n",
    "file_list = file_list + glob.glob('./data/train/pos/*.txt')\n",
    "\n",
    "vocab_counter = Counter()\n",
    "\n",
    "for file_name in tqdm(file_list):\n",
    "    tokens = read_tokens_from_file(file_name)\n",
    "    vocab_counter.update(tokens)\n",
    "\n",
    "vocab_occurrence_list = list(vocab_counter.items())\n",
    "\n",
    "# Sort vocab_occurrence_list with \n",
    "#    the number of occurrence of each word and\n",
    "#    lexicographic orders of word\n",
    "vocab_occurrence_list = sorted(vocab_occurrence_list, key=itemgetter(0))\n",
    "vocab_occurrence_list = sorted(vocab_occurrence_list, key=itemgetter(1))\n",
    "\n",
    "# Write the sorted vocab occurrence list into a file\n",
    "with open('./vocab/vocab_counter.txt', 'w') as f:\n",
    "    for k, c in vocab_occurrence_list:\n",
    "        print (\"%d, %s\" % (c, k), file=f)\n",
    "\n",
    "# Remove rare words (in this case, the word which appeared less than 2 times)        \n",
    "min_occurrence = 2\n",
    "vocab_list = [k for k, c in vocab_occurrence_list if c >= min_occurrence]\n",
    "\n",
    "with open('./vocab/vocab.txt', \"w\") as f:\n",
    "    for term in  vocab_list:\n",
    "        print (term, file=f)"
   ]
  },
  {
   "cell_type": "code",
   "execution_count": 4,
   "metadata": {},
   "outputs": [
    {
     "name": "stdout",
     "output_type": "stream",
     "text": [
      "The number of vocabularies:  52826\n",
      "30 Most common words\n",
      "[('br', 101871), ('movi', 50895), ('film', 47472), ('nt', 33378), ('one', 27028), ('like', 22281), ('time', 15633), ('good', 15009), ('make', 14573), ('get', 14081), ('charact', 14050), ('see', 13944), ('watch', 13830), ('would', 13389), ('stori', 12938), ('even', 12860), ('realli', 11714), ('scene', 10469), ('well', 10059), ('show', 9782), ('look', 9756), ('much', 9690), ('end', 9490), ('could', 9386), ('peopl', 9356), ('bad', 9169), ('also', 9118), ('go', 9108), ('great', 9102), ('first', 8907)]\n"
     ]
    }
   ],
   "source": [
    "print(\"The number of vocabularies: \", len(vocab_counter))\n",
    "print(\"30 Most common words\")\n",
    "most_common = vocab_counter.most_common(30)\n",
    "print(most_common)"
   ]
  },
  {
   "cell_type": "code",
   "execution_count": 7,
   "metadata": {},
   "outputs": [
    {
     "data": {
      "image/png": "[encoded data removed]",
      "text/plain": [
       "<Figure size 1440x360 with 1 Axes>"
      ]
     },
     "metadata": {
      "needs_background": "light"
     },
     "output_type": "display_data"
    }
   ],
   "source": [
    "# plt.bar(most_common.keys(), most_common.values())\n",
    "# plt.show()\n",
    "plt.rcParams[\"figure.figsize\"] = (20,5)\n",
    "labels, values = zip(*most_common)\n",
    "\n",
    "indexes = np.arange(len(labels))\n",
    "width = 1\n",
    "\n",
    "plt.bar(indexes, values, width)\n",
    "plt.xticks(indexes + width * 0.5, labels)\n",
    "plt.title('Most frequent 30 words')\n",
    "plt.ylabel('frequency')\n",
    "plt.xlabel('word')\n",
    "   \n",
    "plt.show()"
   ]
  },
  {
   "cell_type": "code",
   "execution_count": 6,
   "metadata": {},
   "outputs": [
    {
     "name": "stdout",
     "output_type": "stream",
     "text": [
      "The number of vocabularies after removing non-frequent words:\n",
      "30819\n"
     ]
    }
   ],
   "source": [
    "print(\"The number of vocabularies after removing non-frequent words:\")\n",
    "print(len(vocab_list))"
   ]
  }
 ],
 "metadata": {
  "kernelspec": {
   "display_name": "Python 3",
   "language": "python",
   "name": "python3"
  },
  "language_info": {
   "codemirror_mode": {
    "name": "ipython",
    "version": 3
   },
   "file_extension": ".py",
   "mimetype": "text/x-python",
   "name": "python",
   "nbconvert_exporter": "python",
   "pygments_lexer": "ipython3",
   "version": "3.7.3"
  }
 },
 "nbformat": 4,
 "nbformat_minor": 2
}
