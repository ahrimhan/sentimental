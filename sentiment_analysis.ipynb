{
 "cells": [
  {
   "cell_type": "code",
   "execution_count": 1,
   "metadata": {},
   "outputs": [
    {
     "name": "stderr",
     "output_type": "stream",
     "text": [
      "Using TensorFlow backend.\n"
     ]
    }
   ],
   "source": [
    "from string import punctuation\n",
    "from os import listdir\n",
    "from numpy import array\n",
    "from keras.preprocessing.text import Tokenizer\n",
    "from keras.preprocessing.sequence import pad_sequences\n",
    "from keras.models import Sequential\n",
    "from keras.layers import Dense\n",
    "from keras.layers import Flatten\n",
    "from keras.layers import Embedding\n",
    "from keras.layers.convolutional import Conv1D\n",
    "from keras.layers.convolutional import MaxPooling1D\n",
    "import keras.backend.tensorflow_backend as K\n",
    "import tensorflow as tf\n",
    "from nltk.tokenize import word_tokenize\n",
    "from nltk.stem.porter import PorterStemmer\n",
    "\n",
    "import string\n",
    "from nltk.corpus import stopwords\n",
    "from nltk.corpus import words\n",
    "from nltk.tokenize import word_tokenize\n",
    "import glob\n",
    "from tqdm import tqdm\n",
    "from nltk.stem.porter import PorterStemmer\n",
    "from collections import Counter\n",
    "from operator import itemgetter"
   ]
  },
  {
   "cell_type": "code",
   "execution_count": 2,
   "metadata": {},
   "outputs": [],
   "source": [
    "remove_punctuation_table = str.maketrans('', '', '\\'\"!.,?:;')\n",
    "stop_words = set(stopwords.words('english'))\n",
    "\n",
    "def read_tokens_from_file(file_name):\n",
    "    with open(file_name) as f:\n",
    "        doc = f.read()\n",
    "        # Tokenize\n",
    "        tokens = word_tokenize(doc)\n",
    "\n",
    "        # Remove punctuations\n",
    "        tokens = [w.translate(remove_punctuation_table) for w in tokens]\n",
    "\n",
    "        # Remove short words\n",
    "        # Remove word including number characters\n",
    "        # Make the word into lowercase\n",
    "        tokens = [w.lower() for w in tokens if len(w) > 1 and w.isalpha()]\n",
    "\n",
    "        # Filter out stop words\n",
    "        tokens = [w for w in tokens if not w in stop_words]\n",
    "\n",
    "        # Stemming\n",
    "        #porter = PorterStemmer()\n",
    "        #tokens = [porter.stem(w) for w in tokens]\n",
    "\n",
    "        return tokens"
   ]
  },
  {
   "cell_type": "code",
   "execution_count": 3,
   "metadata": {},
   "outputs": [
    {
     "name": "stderr",
     "output_type": "stream",
     "text": [
      "100%|██████████| 25000/25000 [00:37<00:00, 664.23it/s]\n"
     ]
    }
   ],
   "source": [
    "vocab_set = set()\n",
    "file_list = glob.glob('./data/train/neg/*.txt')\n",
    "file_list = file_list + glob.glob('./data/train/pos/*.txt')\n",
    "\n",
    "vocab_counter = Counter()\n",
    "\n",
    "for file_name in tqdm(file_list):\n",
    "    tokens = read_tokens_from_file(file_name)\n",
    "    vocab_counter.update(tokens)\n",
    "\n",
    "vocab_occurrence_list = list(vocab_counter.items())\n",
    "\n",
    "# Remove rare words (in this case, the word which appeared less than 2 times)        \n",
    "min_occurrence = 2\n",
    "vocab_set = {k for k, c in vocab_occurrence_list if c >= min_occurrence}\n"
   ]
  },
  {
   "cell_type": "code",
   "execution_count": 4,
   "metadata": {},
   "outputs": [],
   "source": [
    "config = tf.ConfigProto(allow_soft_placement=True)\n",
    "config.gpu_options.per_process_gpu_memory_fraction = 0.9\n",
    "config.gpu_options.allow_growth = True\n",
    "sess = tf.Session(config=config)\n",
    "K.set_session(sess)"
   ]
  },
  {
   "cell_type": "code",
   "execution_count": 5,
   "metadata": {},
   "outputs": [],
   "source": [
    "\n",
    "# load doc into memory\n",
    "def load_doc(filename):\n",
    "    # open the file as read only\n",
    "    file = open(filename, 'r')\n",
    "    # read all text\n",
    "    text = file.read()\n",
    "    # close the file\n",
    "    file.close()\n",
    "    return text\n",
    "\n",
    "# turn a doc into clean tokens\n",
    "def clean_doc(doc, vocab):\n",
    "    # split into tokens by white space\n",
    "    tokens = word_tokenize(doc)\n",
    "    # remove punctuation from each token\n",
    "    tokens = [w.translate(remove_punctuation_table) for w in tokens]\n",
    "    #porter = PorterStemmer()\n",
    "    #tokens = [porter.stem(w.lower()) for w in tokens]\n",
    "\n",
    "    # filter out tokens not in vocab\n",
    "    tokens = [w for w in tokens if w in vocab]\n",
    "    tokens = ' '.join(tokens)\n",
    "    return tokens\n",
    "\n",
    "# load all docs in a directory\n",
    "def process_docs(directory, vocab):\n",
    "    documents = list()\n",
    "    # walk through all files in the folder\n",
    "    for filename in listdir(directory):\n",
    "        # create the full path of the file to open\n",
    "        path = directory + '/' + filename\n",
    "        # load the doc\n",
    "        doc = load_doc(path)\n",
    "        # clean doc\n",
    "        tokens = clean_doc(doc, vocab)\n",
    "        # add to list\n",
    "        documents.append(tokens)\n",
    "    return documents"
   ]
  },
  {
   "cell_type": "code",
   "execution_count": 6,
   "metadata": {},
   "outputs": [],
   "source": [
    "# load the vocabulary\n",
    "vocab = vocab_set"
   ]
  },
  {
   "cell_type": "code",
   "execution_count": 7,
   "metadata": {},
   "outputs": [],
   "source": [
    "# load all training reviews\n",
    "positive_docs = process_docs('data/train/pos', vocab)\n",
    "negative_docs = process_docs('data/train/neg', vocab)\n",
    "train_docs = negative_docs + positive_docs\n",
    "\n",
    "# create the tokenizer\n",
    "tokenizer = Tokenizer()\n",
    "# fit the tokenizer on the documents\n",
    "tokenizer.fit_on_texts(train_docs)\n",
    "\n",
    "# sequence encode\n",
    "encoded_docs = tokenizer.texts_to_sequences(train_docs)\n",
    "# pad sequences\n",
    "max_length = max([len(s.split()) for s in train_docs])\n",
    "Xtrain = pad_sequences(encoded_docs, maxlen=max_length, padding='post')\n",
    "# define training labels\n",
    "ytrain = array(([0] * len(negative_docs)) + ([1] * len(positive_docs)))"
   ]
  },
  {
   "cell_type": "code",
   "execution_count": 8,
   "metadata": {},
   "outputs": [],
   "source": [
    "# load all test reviews\n",
    "positive_docs = process_docs('data/test/pos', vocab)\n",
    "negative_docs = process_docs('data/test/neg', vocab)\n",
    "test_docs = negative_docs + positive_docs\n",
    "# sequence encode\n",
    "encoded_docs = tokenizer.texts_to_sequences(test_docs)\n",
    "# pad sequences\n",
    "Xtest = pad_sequences(encoded_docs, maxlen=max_length, padding='post')\n",
    "# define test labels\n",
    "ytest = array(([0] * len(negative_docs)) + ([1] * len(positive_docs)))"
   ]
  },
  {
   "cell_type": "code",
   "execution_count": 14,
   "metadata": {},
   "outputs": [
    {
     "name": "stdout",
     "output_type": "stream",
     "text": [
      "_________________________________________________________________\n",
      "Layer (type)                 Output Shape              Param #   \n",
      "=================================================================\n",
      "embedding_2 (Embedding)      (None, 891, 128)          4267904   \n",
      "_________________________________________________________________\n",
      "conv1d_2 (Conv1D)            (None, 888, 8)            4104      \n",
      "_________________________________________________________________\n",
      "max_pooling1d_2 (MaxPooling1 (None, 296, 8)            0         \n",
      "_________________________________________________________________\n",
      "flatten_2 (Flatten)          (None, 2368)              0         \n",
      "_________________________________________________________________\n",
      "dense_3 (Dense)              (None, 8)                 18952     \n",
      "_________________________________________________________________\n",
      "dense_4 (Dense)              (None, 1)                 9         \n",
      "=================================================================\n",
      "Total params: 4,290,969\n",
      "Trainable params: 4,290,969\n",
      "Non-trainable params: 0\n",
      "_________________________________________________________________\n",
      "None\n"
     ]
    }
   ],
   "source": [
    "# define vocabulary size (largest integer value)\n",
    "vocab_size = len(tokenizer.word_index) + 1\n",
    "\n",
    "# define model\n",
    "model = Sequential()\n",
    "model.add(Embedding(vocab_size, 128, input_length=max_length))\n",
    "model.add(Conv1D(filters=8, kernel_size=4, activation='relu'))\n",
    "model.add(MaxPooling1D(pool_size=3))\n",
    "model.add(Flatten())\n",
    "model.add(Dense(8, activation='relu'))\n",
    "model.add(Dense(1, activation='sigmoid'))\n",
    "#model.add(Dense(1, activation='softmax'))\n",
    "print(model.summary())"
   ]
  },
  {
   "cell_type": "code",
   "execution_count": 15,
   "metadata": {},
   "outputs": [],
   "source": [
    "# compile network\n",
    "model.compile(loss='binary_crossentropy', optimizer='adam', metrics=['accuracy'])"
   ]
  },
  {
   "cell_type": "code",
   "execution_count": 16,
   "metadata": {},
   "outputs": [
    {
     "name": "stdout",
     "output_type": "stream",
     "text": [
      "Train on 25000 samples, validate on 25000 samples\n",
      "Epoch 1/6\n",
      " - 7s - loss: 0.4016 - acc: 0.8037 - val_loss: 0.2951 - val_acc: 0.8786\n",
      "Epoch 2/6\n",
      " - 6s - loss: 0.1642 - acc: 0.9408 - val_loss: 0.3323 - val_acc: 0.8639\n",
      "Epoch 3/6\n",
      " - 6s - loss: 0.0595 - acc: 0.9826 - val_loss: 0.4500 - val_acc: 0.8622\n",
      "Epoch 4/6\n",
      " - 6s - loss: 0.0164 - acc: 0.9964 - val_loss: 0.5635 - val_acc: 0.8580\n",
      "Epoch 5/6\n",
      " - 6s - loss: 0.0041 - acc: 0.9995 - val_loss: 0.6641 - val_acc: 0.8577\n",
      "Epoch 6/6\n",
      " - 6s - loss: 0.0013 - acc: 0.9998 - val_loss: 0.7376 - val_acc: 0.8578\n"
     ]
    },
    {
     "data": {
      "text/plain": [
       "<keras.callbacks.History at 0x7f67081149e8>"
      ]
     },
     "execution_count": 16,
     "metadata": {},
     "output_type": "execute_result"
    }
   ],
   "source": [
    "# fit network (Training)\n",
    "model.fit(Xtrain, ytrain, epochs=6, verbose=2, validation_data=(Xtest, ytest))\n"
   ]
  },
  {
   "cell_type": "code",
   "execution_count": 12,
   "metadata": {},
   "outputs": [
    {
     "name": "stdout",
     "output_type": "stream",
     "text": [
      "Test Accuracy: 86.260000\n"
     ]
    }
   ],
   "source": [
    "# evaluate\n",
    "loss, acc = model.evaluate(Xtest, ytest, verbose=0)\n",
    "print('Test Accuracy: %f' % (acc*100))"
   ]
  },
  {
   "cell_type": "code",
   "execution_count": null,
   "metadata": {},
   "outputs": [],
   "source": []
  }
 ],
 "metadata": {
  "kernelspec": {
   "display_name": "Python 3",
   "language": "python",
   "name": "python3"
  },
  "language_info": {
   "codemirror_mode": {
    "name": "ipython",
    "version": 3
   },
   "file_extension": ".py",
   "mimetype": "text/x-python",
   "name": "python",
   "nbconvert_exporter": "python",
   "pygments_lexer": "ipython3",
   "version": "3.7.3"
  }
 },
 "nbformat": 4,
 "nbformat_minor": 2
}
