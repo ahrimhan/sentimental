{
 "cells": [
  {
   "cell_type": "markdown",
   "metadata": {},
   "source": [
    "# Data Set (Training and Test set)\n",
    "\n",
    "We used IMDb Dataset which can be downloaded from [here](https://ai.stanford.edu/~amaas/data/sentiment/).\n",
    "This data set contains 50,000 reviews which is evenly split into two groups: 25,000 reviews for each of training and testing. The reviews for training and testing data sets contain a disjoint set of movies. Therefore, we can assume that the validation result with testing data set can be applicable for other movie reviews.\n",
    "\n",
    "Each group has the same number of positive and negative reviews: a positive review has a score from 7 to 10 while a negative review has a score from 1 to 4. The reviews having score 5 or 6 are excluded to avoid vagueness.\n"
   ]
  },
  {
   "cell_type": "markdown",
   "metadata": {},
   "source": [
    "# Environment\n",
    "\n",
    "For this project, we used my own Linux machine having AMD Ryzen 7 2700X, 16GB Memory, Geforce RTX 2070.\n",
    "In addition, Keras with Tensorflow backend is used for making a deep learning model."
   ]
  },
  {
   "cell_type": "code",
   "execution_count": 1,
   "metadata": {},
   "outputs": [
    {
     "name": "stderr",
     "output_type": "stream",
     "text": [
      "Using TensorFlow backend.\n"
     ]
    }
   ],
   "source": [
    "from string import punctuation\n",
    "import os \n",
    "#from os import listdir\n",
    "from numpy import array\n",
    "from keras.preprocessing.text import Tokenizer\n",
    "from keras.preprocessing.sequence import pad_sequences\n",
    "from keras.models import Sequential\n",
    "from keras.layers import Dense\n",
    "#\n",
    "from keras.layers import Dropout\n",
    "from keras.layers import Flatten\n",
    "from keras.layers import Embedding\n",
    "from keras.layers.convolutional import Conv1D\n",
    "from keras.layers.convolutional import MaxPooling1D\n",
    "#\n",
    "from keras.callbacks import EarlyStopping, ModelCheckpoint\n",
    "import keras.backend.tensorflow_backend as K\n",
    "import tensorflow as tf\n",
    "from nltk.tokenize import word_tokenize\n",
    "from nltk.stem.porter import PorterStemmer\n",
    "\n",
    "import string\n",
    "from nltk.corpus import stopwords\n",
    "from nltk.corpus import words\n",
    "from nltk.tokenize import word_tokenize\n",
    "import glob\n",
    "#from tqdm import tqdm\n",
    "from tqdm import tqdm_notebook as tqdm\n",
    "from nltk.stem.porter import PorterStemmer\n",
    "from collections import Counter\n",
    "from operator import itemgetter\n",
    "import numpy as np\n",
    "from multiprocessing import Pool\n",
    "import sys\n",
    "\n",
    "from IPython.display import HTML, display\n",
    "import tabulate\n",
    "import pandas as pd\n",
    "from keras_tqdm import TQDMNotebookCallback\n"
   ]
  },
  {
   "cell_type": "markdown",
   "metadata": {},
   "source": [
    "# Tensorflow initial setup\n",
    "\n",
    "To allow Tensorflow to use enough GPU memory, *allow_growth* option is turned on."
   ]
  },
  {
   "cell_type": "code",
   "execution_count": 2,
   "metadata": {},
   "outputs": [],
   "source": [
    "config = tf.ConfigProto()\n",
    "config.gpu_options.allow_growth = True\n",
    "sess = tf.Session(config=config)\n",
    "K.set_session(sess)"
   ]
  },
  {
   "cell_type": "markdown",
   "metadata": {},
   "source": [
    "# Loading data set files\n",
    "\n",
    "First of all, all the documents are loaded. The data sets for training and testing are stored in *data/train* and *data/test*, respectively. For each data set, positive and negative reviews are stored in *pos* and *neg* sub-directories.\n",
    "\n",
    "I have attached the progress bars using the [tqdm](https://github.com/tqdm/tqdm), which is useful in dealting with large data by allowing us to estimate each time of the stages.\n",
    "\n",
    "Referenced article for tqdm: https://towardsdatascience.com/progress-bars-in-python-4b44e8a4c482"
   ]
  },
  {
   "cell_type": "code",
   "execution_count": 3,
   "metadata": {},
   "outputs": [
    {
     "name": "stdout",
     "output_type": "stream",
     "text": [
      "Loading training-positive-docs\n"
     ]
    },
    {
     "data": {
      "application/vnd.jupyter.widget-view+json": {
       "model_id": "455631773b2f4911a4f4243ab06fdb7d",
       "version_major": 2,
       "version_minor": 0
      },
      "text/plain": [
       "HBox(children=(IntProgress(value=0, max=12500), HTML(value='')))"
      ]
     },
     "metadata": {},
     "output_type": "display_data"
    },
    {
     "name": "stdout",
     "output_type": "stream",
     "text": [
      "\n",
      "Loading training-negative-docs\n"
     ]
    },
    {
     "data": {
      "application/vnd.jupyter.widget-view+json": {
       "model_id": "8653cbeb11564a85b60c5bc08a107a81",
       "version_major": 2,
       "version_minor": 0
      },
      "text/plain": [
       "HBox(children=(IntProgress(value=0, max=12500), HTML(value='')))"
      ]
     },
     "metadata": {},
     "output_type": "display_data"
    },
    {
     "name": "stdout",
     "output_type": "stream",
     "text": [
      "\n",
      "Loading test-positive-docs\n"
     ]
    },
    {
     "data": {
      "application/vnd.jupyter.widget-view+json": {
       "model_id": "67c0709efcc246d79f5b848e993c516e",
       "version_major": 2,
       "version_minor": 0
      },
      "text/plain": [
       "HBox(children=(IntProgress(value=0, max=12500), HTML(value='')))"
      ]
     },
     "metadata": {},
     "output_type": "display_data"
    },
    {
     "name": "stdout",
     "output_type": "stream",
     "text": [
      "\n",
      "Loading test-negative-docs\n"
     ]
    },
    {
     "data": {
      "application/vnd.jupyter.widget-view+json": {
       "model_id": "6249f144a44d4dbcbcd2c86b8bb44808",
       "version_major": 2,
       "version_minor": 0
      },
      "text/plain": [
       "HBox(children=(IntProgress(value=0, max=12500), HTML(value='')))"
      ]
     },
     "metadata": {},
     "output_type": "display_data"
    },
    {
     "name": "stdout",
     "output_type": "stream",
     "text": [
      "\n"
     ]
    }
   ],
   "source": [
    "# load all docs in a directory\n",
    "def load_docs(directory):\n",
    "    documents = list()\n",
    "    # walk through all files in the folder\n",
    "    for filename in tqdm(os.listdir(directory)):\n",
    "        # create the full path of the file to open\n",
    "        path = directory + '/' + filename\n",
    "        with open(path, 'r') as f:\n",
    "            # load the doc\n",
    "            doc = f.read()\n",
    "            # add to list\n",
    "            documents.append(doc)\n",
    "    return documents\n",
    "\n",
    "# load all training reviews\n",
    "print(\"Loading training-positive-docs\")\n",
    "global_train_positive_docs = load_docs('data/train/pos')\n",
    "print(\"Loading training-negative-docs\")\n",
    "global_train_negative_docs = load_docs('data/train/neg')\n",
    "# load all test reviews\n",
    "print(\"Loading test-positive-docs\")\n",
    "global_test_positive_docs = load_docs('data/test/pos')\n",
    "print(\"Loading test-negative-docs\")\n",
    "global_test_negative_docs = load_docs('data/test/neg')"
   ]
  },
  {
   "cell_type": "markdown",
   "metadata": {},
   "source": [
    "# Cleaning documents\n",
    "\n",
    "### Pre-processing techniques\n",
    "\n",
    "In most of NLP releated works, documents are normally pre-processed to get better performance.\n",
    "We tried to apply several techniques which are well-known as follows:\n",
    "\n",
    "**1. Removing punctuations**  \n",
    "Normally punctuations do not have any meaning, but they exist for understandability. Therefore, such punctuations should be removed. But, we did not remove the apostrophe mark (') since such removing caused the incorrect stemming.\n",
    "\n",
    "**2. Removing stopwords**  \n",
    "We filtered out the stopwords.\n",
    "The stop words are those words that do not contribute to the deeper meaning of the phrase.\n",
    "They are the most common words such as: “the“, “a“, and “is“.\n",
    "NLTK provides a list of commonly agreed upon stop words for a variety of languages.\n",
    "\n",
    "**3. Stemming**    \n",
    "The *PorterStemmer* is provided in *NLTK python package*.\n",
    "We made the words into lowercases and used the stemming method in order to both reduce the vocabulary and to focus on the sense or sentiment of a document rather than deeper meaning.\n",
    "\n",
    "**4. Removing non-frequent words**   \n",
    "It is important to define a vocabulary of known words when using a bag-of-words or embedding model.\n",
    "The more words, the larger the representation of documents, therefore it is important to constrain the words to only those believed to be predictive. \n",
    "\n",
    "In this project, **we set up the vocabulary dictionary by removing the non-frequent words to prevent a model from overfitting.** \n",
    "This is implemeted in [*vocab.ipynb*](https://github.com/ahrimhan/data-science-project/tree/master/project2/src/vocab.ipynb).\n",
    "\n",
    "* After removing all words that have a length <= 1 character, we first construct the vocabulary dictionary based on only reviews in the training dataset (Number of vocabularies: 52,826).\n",
    "* Then, we iterate the vocabulary dictionary again for counting the word occurrences and removing the non-frequent words that have a low occurrence, such as only being used once or none. Thus, remaining vocabularies have the two or more occurrences (Number of filtered vocabularies: 30,819). These filtered vocabularies are saved in [*vocab.txt*](https://github.com/ahrimhan/data-science-project/tree/master/project2/src/vocab.txt)."
   ]
  },
  {
   "cell_type": "code",
   "execution_count": 4,
   "metadata": {},
   "outputs": [],
   "source": [
    "remove_punctuation_table = str.maketrans('', '', '\\'\"!.,?:;')\n",
    "stop_words = set(stopwords.words('english'))\n",
    "# turn a doc into clean tokens\n",
    "vocab = []\n",
    "\n",
    "with open('./vocab/vocab.txt') as f:\n",
    "    vocab = f.read().split() \n",
    "    \n",
    "def clean_doc(doc):\n",
    "    # split into tokens by white space\n",
    "    tokens = word_tokenize(doc)\n",
    "    \n",
    "    # remove punctuation from each token\n",
    "    tokens = [w.translate(remove_punctuation_table) for w in tokens]\n",
    "    \n",
    "    # remove stop words\n",
    "    tokens = [w for w in tokens if w not in stop_words]\n",
    "    \n",
    "    # stemming\n",
    "    porter = PorterStemmer()\n",
    "    tokens = [porter.stem(w.lower()) for w in tokens]\n",
    "\n",
    "    # filter out tokens not in vocab\n",
    "    if len(vocab) > 0:\n",
    "        tokens = [w for w in tokens if w in vocab]\n",
    "    \n",
    "    tokens = ' '.join(tokens)\n",
    "    return tokens"
   ]
  },
  {
   "cell_type": "markdown",
   "metadata": {},
   "source": [
    "### Multiprocessing\n",
    "\n",
    "Pre-processing mentioned above requires heavy computation. \n",
    "To improve the speed, we parallelized the pre-processing using the *Pool module* in *multiprocessing package*.\n",
    "Since we use a CPU having 8 cores, the size of Pool is set as 8.\n",
    "By using this technique, **we could achieve 6~7 times speed up.** \n",
    "Using the single thread, it takes 10~12 minutes for cleaning up 12500 documents, whereas, using the multiple threads, it takes only 1 minute and 20~40 seconds."
   ]
  },
  {
   "cell_type": "code",
   "execution_count": 5,
   "metadata": {},
   "outputs": [
    {
     "name": "stdout",
     "output_type": "stream",
     "text": [
      "Cleaning up for training-positive-docs\n"
     ]
    },
    {
     "data": {
      "application/vnd.jupyter.widget-view+json": {
       "model_id": "24e3bd63b7b24befa31bf1f37bd8ece5",
       "version_major": 2,
       "version_minor": 0
      },
      "text/plain": [
       "HBox(children=(IntProgress(value=0, max=12500), HTML(value='')))"
      ]
     },
     "metadata": {},
     "output_type": "display_data"
    },
    {
     "name": "stdout",
     "output_type": "stream",
     "text": [
      "\n",
      "Cleaning up for training-negative-docs\n"
     ]
    },
    {
     "data": {
      "application/vnd.jupyter.widget-view+json": {
       "model_id": "f0c7908996ee49e98393c2e441d5868e",
       "version_major": 2,
       "version_minor": 0
      },
      "text/plain": [
       "HBox(children=(IntProgress(value=0, max=12500), HTML(value='')))"
      ]
     },
     "metadata": {},
     "output_type": "display_data"
    },
    {
     "name": "stdout",
     "output_type": "stream",
     "text": [
      "\n",
      "Cleaning up for test-positive-docs\n"
     ]
    },
    {
     "data": {
      "application/vnd.jupyter.widget-view+json": {
       "model_id": "506fe2cfb24049289528566e12496ac2",
       "version_major": 2,
       "version_minor": 0
      },
      "text/plain": [
       "HBox(children=(IntProgress(value=0, max=12500), HTML(value='')))"
      ]
     },
     "metadata": {},
     "output_type": "display_data"
    },
    {
     "name": "stdout",
     "output_type": "stream",
     "text": [
      "\n",
      "Cleaning up for test-negative-docs\n"
     ]
    },
    {
     "data": {
      "application/vnd.jupyter.widget-view+json": {
       "model_id": "fd720b06599c4d2fa522141c04d162ea",
       "version_major": 2,
       "version_minor": 0
      },
      "text/plain": [
       "HBox(children=(IntProgress(value=0, max=12500), HTML(value='')))"
      ]
     },
     "metadata": {},
     "output_type": "display_data"
    },
    {
     "name": "stdout",
     "output_type": "stream",
     "text": [
      "\n"
     ]
    }
   ],
   "source": [
    "# Serial version of clean_docs function\n",
    "# def clean_docs(documents):\n",
    "#     for doc in tqdm(documents):\n",
    "#         clean_doc(doc)\n",
    "\n",
    "# Parallel version of clean_docs function\n",
    "def clean_docs(documents):\n",
    "    # Since we use a CPU having 8 cores, the size of Pool is set as 8\n",
    "    with Pool(8) as p:\n",
    "        return list(tqdm(p.imap(clean_doc, documents), total=len(documents)))\n",
    "\n",
    "print(\"Cleaning up for training-positive-docs\")\n",
    "cleaned_train_positive_docs = clean_docs(global_train_positive_docs)\n",
    "print(\"Cleaning up for training-negative-docs\")\n",
    "cleaned_train_negative_docs = clean_docs(global_train_negative_docs)\n",
    "print(\"Cleaning up for test-positive-docs\")\n",
    "cleaned_test_positive_docs = clean_docs(global_test_positive_docs)\n",
    "print(\"Cleaning up for test-negative-docs\")\n",
    "cleaned_test_negative_docs = clean_docs(global_test_negative_docs) "
   ]
  },
  {
   "cell_type": "code",
   "execution_count": 6,
   "metadata": {},
   "outputs": [
    {
     "name": "stdout",
     "output_type": "stream",
     "text": [
      "['nt', 'realli', 'consid', 'conserv', 'nt', 'person', 'offend', 'film', 'pretti', 'clear', 'plot', 'character', 'film', 'secondari', 'messag', 'and', 'messag', 'conserv', 'either', 'evil', 'stupid', 'charact', 'either', 'good', 'american', 'brainless', 'greedi', 'evil', 'conserv', 'there', 'noth', 'clever', 'creativ', 'nt', 'realli', 'mind', 'polit', 'bia', 'nt', 'purpos', 'behind', 'movi', 'and', 'clearli', 'br', 'br', 'on', 'posit', 'side', 'cast', 'wonder', 'chri', 'cooper', 'impress', 'funni', 'first', 'two', 'three', 'time', 'old', 'joke', 'told', 'br', 'br', 'so', 'realli', 'hate', 'conserv', 'probabl', 'enjoy', 'film', 'look', 'someth', 'realist', 'charact', 'stori', 'less', 'better', 'watch', 'someth', 'els']\n"
     ]
    }
   ],
   "source": [
    "print(cleaned_test_negative_docs[0].split()[0:100])"
   ]
  },
  {
   "cell_type": "markdown",
   "metadata": {},
   "source": [
    "# Encoding data set into sequence\n",
    "\n",
    "To use documents as an input of a model, each document is encoded as a sequence object of Keras.\n",
    "The function below encodes the documents as sequence objects as well as creates a list of labels: '0' for negative reviews and '1' for positive reviews.\n",
    "We do not need the one hot encoding process (a function called *to_categorical()* in Keras) because there is only two classes of positive and negative."
   ]
  },
  {
   "cell_type": "code",
   "execution_count": 7,
   "metadata": {},
   "outputs": [],
   "source": [
    "def encode_data_set(tokenizer, positive_docs, negative_docs, max_word_length):\n",
    "    docs = negative_docs + positive_docs\n",
    "    # sequence encode\n",
    "    encoded_docs = tokenizer.texts_to_sequences(docs)\n",
    "    # pad sequences\n",
    "    x = pad_sequences(encoded_docs, maxlen=max_word_length, padding='post')\n",
    "    # define training labels\n",
    "    y = array(([0] * len(negative_docs)) + ([1] * len(positive_docs)))\n",
    "    return x, y"
   ]
  },
  {
   "cell_type": "markdown",
   "metadata": {},
   "source": [
    "# Word Embedding\n",
    "Word embedding is a common technique to deal with texts in Deep Learning.\n",
    "To compare the effectiveness of use of pre-trained word embedding, here, both of pre-trained word embedding and new (not-trained) embedding will be used.\n",
    "\n",
    "## Pre-trained word embedding\n",
    "In this project, we will be using GloVe embeddings, which you can read about [here](https://nlp.stanford.edu/projects/glove/). GloVe stands for \"Global Vectors for Word Representation\". It's a somewhat popular embedding technique based on factorizing a matrix of word co-occurence statistics.\n",
    "\n",
    "Specifically, we will use the 200-dimensional GloVe embeddings of 400k words computed on a 2014 dump of English Wikipedia. You can download them [here](http://nlp.stanford.edu/data/glove.6B.zip).\n",
    "\n",
    "In addition, to check whether the pre-trained word embedding needs to be trained or not, we made the function below configurable for *trainable* parameter of Embedding object."
   ]
  },
  {
   "cell_type": "code",
   "execution_count": 8,
   "metadata": {},
   "outputs": [],
   "source": [
    "EMBEDDING_DIM = 200\n",
    "def load_pre_trained_embedding(word_index, max_word_length, trainable_for_embedding):\n",
    "    embeddings_index = {}\n",
    "    with open('./glove/glove.6B.200d.txt') as f:\n",
    "        for line in f:\n",
    "            values = line.split()\n",
    "            word = values[0]\n",
    "            coefs = np.asarray(values[1:], dtype='float32')\n",
    "            embeddings_index[word] = coefs\n",
    "\n",
    "    embedding_matrix = np.zeros((len(word_index) + 1, EMBEDDING_DIM))\n",
    "    for word, i in word_index.items():\n",
    "        embedding_vector = embeddings_index.get(word)\n",
    "        if embedding_vector is not None:\n",
    "            # words not found in embedding index will be all-zeros.\n",
    "            embedding_matrix[i] = embedding_vector\n",
    "    return Embedding(len(word_index) + 1, EMBEDDING_DIM, input_length=max_word_length, weights=[embedding_matrix], trainable=trainable_for_embedding)"
   ]
  },
  {
   "cell_type": "markdown",
   "metadata": {},
   "source": [
    "## New (not-trained) word embedding\n",
    "New word embedding is created with no pre-trained weights, and it should be trainable always."
   ]
  },
  {
   "cell_type": "code",
   "execution_count": 9,
   "metadata": {},
   "outputs": [],
   "source": [
    "def new_embedding(word_index, max_word_length, trainable_for_embedding):\n",
    "    # This is new embedding layer, so trainable must be True regardless the value of trainable_for_embedding\n",
    "    return Embedding(len(word_index) + 1, EMBEDDING_DIM, input_length=max_word_length, trainable=True)"
   ]
  },
  {
   "cell_type": "markdown",
   "metadata": {},
   "source": [
    "# Building a Deep Learning Model\n",
    "\n",
    "To build a deep learning model, we basically use the sequential model of Keras.\n",
    "\n",
    "First, the Embedding layer is located. There are two options of setting embedding layers: using the pre-trained word embedding or training new embedding from scratch.\n",
    "\n",
    "Second, a series of convolution 1D and pooling layers are added according to typical CNN for text analysis. \n",
    "\n",
    "In order to check the effects of the number of convolution layers, we made the function below configurable to set the number of additional convolution layers.\n",
    "\n",
    "Then, after flattening layer, fully connected dense layers are added.\n",
    "Since this is a binary classification problem, we use the sigmoid function as an activation function for the final dense layer. If you try to predict a score of a review, it would be better to use 'softmax' function as the activation function."
   ]
  },
  {
   "cell_type": "code",
   "execution_count": 10,
   "metadata": {},
   "outputs": [],
   "source": [
    "def build_model(word_index, max_word_length, number_of_additional_conv_layers, use_pre_trained_embedding, trainable_for_embedding, number_of_filters, use_dropout):\n",
    "    # define model\n",
    "    model = Sequential()\n",
    "    embedding_func = new_embedding\n",
    "    if use_pre_trained_embedding: \n",
    "        embedding_func = load_pre_trained_embedding\n",
    "    model.add(embedding_func(word_index, max_word_length, trainable_for_embedding))\n",
    "    if use_dropout:\n",
    "        model.add(Dropout(0.5))\n",
    "    \n",
    "    for i in range(number_of_additional_conv_layers):\n",
    "        model.add(Conv1D(filters=number_of_filters, kernel_size=5, activation='relu'))\n",
    "        model.add(MaxPooling1D(pool_size=4))\n",
    "        if use_dropout:\n",
    "            model.add(Dropout(0.5))\n",
    "    \n",
    "    model.add(Conv1D(filters=number_of_filters, kernel_size=5, activation='relu'))\n",
    "    model.add(MaxPooling1D(pool_size=10))\n",
    "    if use_dropout:\n",
    "        model.add(Dropout(0.5))\n",
    "\n",
    "    model.add(Flatten())\n",
    "    model.add(Dense(128, activation='relu'))\n",
    "    model.add(Dense(1, activation='sigmoid'))\n",
    "    model.summary()\n",
    "    # compile network\n",
    "    model.compile(loss='binary_crossentropy', optimizer='adam', metrics=['accuracy'])\n",
    "    return model"
   ]
  },
  {
   "cell_type": "markdown",
   "metadata": {},
   "source": [
    "# Building Deep Learning Models using Various Parameters"
   ]
  },
  {
   "cell_type": "markdown",
   "metadata": {},
   "source": [
    "Now, all the functions defined before are combined in the function *build_and_train_model* as below.\n",
    "To compare ML results under each combination of settings, it takes four parameters, then makes a model and train it according to the parameters. The length of combinations is 12.\n",
    "\n",
    "The meaning of the parameters are as follows:\n",
    "* **use_cleaned_docs**: cleaning review documents or not. \n",
    "* **number_of_additional_conv_layers**: the number of additional convolution layers. Basically, one convolution layer is used, but if you want to add more convolution layers, set this parameter to 1 or higher number.\n",
    "* **use_pre_trained_embedding**: Using pre-trained embedding or not. If True, the GloVe embedding will be used as mentioned above.\n",
    "* **trainable_for_embedding**: Training the embedding layer with training data set or freezing. Note, when using the new embedding layer, then trainable_for_embedding should be True. "
   ]
  },
  {
   "cell_type": "code",
   "execution_count": 11,
   "metadata": {},
   "outputs": [],
   "source": [
    "MODEL_DIR = './model/'\n",
    "if not os.path.exists(MODEL_DIR):\n",
    "    os.mkdir(MODEL_DIR)\n",
    "    \n",
    "#modelpath = \"./model/{epoch:02d}-{val_loss:.4f}.hdf5\"\n",
    "modelpath = \"./model/{epoch:02d}-{val_acc:.4f}.hdf5\"\n",
    "checkpointer = ModelCheckpoint(filepath=modelpath, monitor='val_acc', verbose=1, save_best_only=True)\n",
    "#early_stopping_callback = EarlyStopping(monitor='val_loss', mode='min', patience=10)\n",
    "early_stopping_callback = EarlyStopping(monitor='val_acc', mode='max', patience=2)"
   ]
  },
  {
   "cell_type": "code",
   "execution_count": 12,
   "metadata": {},
   "outputs": [],
   "source": [
    "def build_and_train_model(use_cleaned_docs=False, \n",
    "                          number_of_additional_conv_layers=2, \n",
    "                          use_pre_trained_embedding=True,\n",
    "                          trainable_for_embedding=True,\n",
    "                          number_of_filters=64, \n",
    "                          use_dropout=True):\n",
    "    train_positive_docs = global_train_positive_docs\n",
    "    train_negative_docs = global_train_negative_docs\n",
    "    test_positive_docs = global_test_positive_docs\n",
    "    test_negative_docs = global_test_negative_docs\n",
    "    \n",
    "    # clean up documents if required\n",
    "    if use_cleaned_docs:\n",
    "        train_positive_docs = cleaned_train_positive_docs\n",
    "        train_negative_docs = cleaned_train_negative_docs\n",
    "        test_positive_docs = cleaned_test_positive_docs\n",
    "        test_negative_docs = cleaned_test_negative_docs\n",
    "    \n",
    "    # create the tokenizer\n",
    "    tokenizer = Tokenizer()\n",
    "    train_docs = train_positive_docs + train_negative_docs\n",
    "    # fit the tokenizer on the documents\n",
    "    tokenizer.fit_on_texts(train_docs)\n",
    "    #\n",
    "    print('Fitted tokenizer on {} documents'.format(tokenizer.document_count))\n",
    "    #print('{} words in dictionary'.format(tokenizer.num_words))\n",
    "    print('Top 5 most common words are:', Counter(tokenizer.word_counts).most_common(5))\n",
    "    \n",
    "    # calculate maximum length of words in training docs\n",
    "    max_word_length = max([len(s.split()) for s in train_docs])\n",
    "    # get word_index\n",
    "    word_index = tokenizer.word_index\n",
    "    #print('Found %s unique tokens.' % len(word_index))\n",
    "\n",
    "    # encode data into two sequences: x = input, y = output\n",
    "    x_train, y_train = encode_data_set(tokenizer, train_positive_docs, train_negative_docs, max_word_length)\n",
    "    x_test, y_test = encode_data_set(tokenizer, test_positive_docs, test_negative_docs, max_word_length)\n",
    "\n",
    "    # build a model\n",
    "    model = build_model(word_index, max_word_length, number_of_additional_conv_layers, use_pre_trained_embedding, trainable_for_embedding, number_of_filters, use_dropout)\n",
    "    # fit network (Training)\n",
    "    history = model.fit(x_train, y_train, epochs=16, verbose=2, validation_data=(x_test, y_test), batch_size=96, callbacks=[TQDMNotebookCallback(), early_stopping_callback, checkpointer])\n",
    "    # evaluate\n",
    "    loss, acc = model.evaluate(x_test, y_test, verbose=0)\n",
    "    print('Test Accuracy: %.2f%%' % (acc*100))\n",
    "    return history"
   ]
  },
  {
   "cell_type": "code",
   "execution_count": 13,
   "metadata": {},
   "outputs": [
    {
     "data": {
      "text/html": [
       "<div>\n",
       "<style scoped>\n",
       "    .dataframe tbody tr th:only-of-type {\n",
       "        vertical-align: middle;\n",
       "    }\n",
       "\n",
       "    .dataframe tbody tr th {\n",
       "        vertical-align: top;\n",
       "    }\n",
       "\n",
       "    .dataframe thead th {\n",
       "        text-align: right;\n",
       "    }\n",
       "</style>\n",
       "<table border=\"1\" class=\"dataframe\">\n",
       "  <thead>\n",
       "    <tr style=\"text-align: right;\">\n",
       "      <th></th>\n",
       "      <th>use_cleaned_docs</th>\n",
       "      <th>number_of_additional_conv_layers</th>\n",
       "      <th>use_pre_trained_embedding</th>\n",
       "      <th>trainable_for_embedding</th>\n",
       "      <th>number_of_filters</th>\n",
       "      <th>use_dropout</th>\n",
       "    </tr>\n",
       "  </thead>\n",
       "  <tbody>\n",
       "    <tr>\n",
       "      <th>0</th>\n",
       "      <td>False</td>\n",
       "      <td>2</td>\n",
       "      <td>True</td>\n",
       "      <td>True</td>\n",
       "      <td>48</td>\n",
       "      <td>True</td>\n",
       "    </tr>\n",
       "    <tr>\n",
       "      <th>1</th>\n",
       "      <td>False</td>\n",
       "      <td>2</td>\n",
       "      <td>True</td>\n",
       "      <td>True</td>\n",
       "      <td>48</td>\n",
       "      <td>False</td>\n",
       "    </tr>\n",
       "    <tr>\n",
       "      <th>2</th>\n",
       "      <td>False</td>\n",
       "      <td>2</td>\n",
       "      <td>True</td>\n",
       "      <td>True</td>\n",
       "      <td>96</td>\n",
       "      <td>True</td>\n",
       "    </tr>\n",
       "    <tr>\n",
       "      <th>3</th>\n",
       "      <td>False</td>\n",
       "      <td>2</td>\n",
       "      <td>True</td>\n",
       "      <td>True</td>\n",
       "      <td>96</td>\n",
       "      <td>False</td>\n",
       "    </tr>\n",
       "    <tr>\n",
       "      <th>4</th>\n",
       "      <td>False</td>\n",
       "      <td>2</td>\n",
       "      <td>True</td>\n",
       "      <td>False</td>\n",
       "      <td>48</td>\n",
       "      <td>True</td>\n",
       "    </tr>\n",
       "    <tr>\n",
       "      <th>5</th>\n",
       "      <td>False</td>\n",
       "      <td>2</td>\n",
       "      <td>True</td>\n",
       "      <td>False</td>\n",
       "      <td>48</td>\n",
       "      <td>False</td>\n",
       "    </tr>\n",
       "    <tr>\n",
       "      <th>6</th>\n",
       "      <td>False</td>\n",
       "      <td>2</td>\n",
       "      <td>True</td>\n",
       "      <td>False</td>\n",
       "      <td>96</td>\n",
       "      <td>True</td>\n",
       "    </tr>\n",
       "    <tr>\n",
       "      <th>7</th>\n",
       "      <td>False</td>\n",
       "      <td>2</td>\n",
       "      <td>True</td>\n",
       "      <td>False</td>\n",
       "      <td>96</td>\n",
       "      <td>False</td>\n",
       "    </tr>\n",
       "    <tr>\n",
       "      <th>8</th>\n",
       "      <td>False</td>\n",
       "      <td>2</td>\n",
       "      <td>False</td>\n",
       "      <td>True</td>\n",
       "      <td>48</td>\n",
       "      <td>True</td>\n",
       "    </tr>\n",
       "    <tr>\n",
       "      <th>9</th>\n",
       "      <td>False</td>\n",
       "      <td>2</td>\n",
       "      <td>False</td>\n",
       "      <td>True</td>\n",
       "      <td>48</td>\n",
       "      <td>False</td>\n",
       "    </tr>\n",
       "    <tr>\n",
       "      <th>10</th>\n",
       "      <td>False</td>\n",
       "      <td>2</td>\n",
       "      <td>False</td>\n",
       "      <td>True</td>\n",
       "      <td>96</td>\n",
       "      <td>True</td>\n",
       "    </tr>\n",
       "    <tr>\n",
       "      <th>11</th>\n",
       "      <td>False</td>\n",
       "      <td>2</td>\n",
       "      <td>False</td>\n",
       "      <td>True</td>\n",
       "      <td>96</td>\n",
       "      <td>False</td>\n",
       "    </tr>\n",
       "    <tr>\n",
       "      <th>12</th>\n",
       "      <td>False</td>\n",
       "      <td>0</td>\n",
       "      <td>True</td>\n",
       "      <td>True</td>\n",
       "      <td>48</td>\n",
       "      <td>True</td>\n",
       "    </tr>\n",
       "    <tr>\n",
       "      <th>13</th>\n",
       "      <td>False</td>\n",
       "      <td>0</td>\n",
       "      <td>True</td>\n",
       "      <td>True</td>\n",
       "      <td>48</td>\n",
       "      <td>False</td>\n",
       "    </tr>\n",
       "    <tr>\n",
       "      <th>14</th>\n",
       "      <td>False</td>\n",
       "      <td>0</td>\n",
       "      <td>True</td>\n",
       "      <td>True</td>\n",
       "      <td>96</td>\n",
       "      <td>True</td>\n",
       "    </tr>\n",
       "    <tr>\n",
       "      <th>15</th>\n",
       "      <td>False</td>\n",
       "      <td>0</td>\n",
       "      <td>True</td>\n",
       "      <td>True</td>\n",
       "      <td>96</td>\n",
       "      <td>False</td>\n",
       "    </tr>\n",
       "    <tr>\n",
       "      <th>16</th>\n",
       "      <td>False</td>\n",
       "      <td>0</td>\n",
       "      <td>True</td>\n",
       "      <td>False</td>\n",
       "      <td>48</td>\n",
       "      <td>True</td>\n",
       "    </tr>\n",
       "    <tr>\n",
       "      <th>17</th>\n",
       "      <td>False</td>\n",
       "      <td>0</td>\n",
       "      <td>True</td>\n",
       "      <td>False</td>\n",
       "      <td>48</td>\n",
       "      <td>False</td>\n",
       "    </tr>\n",
       "    <tr>\n",
       "      <th>18</th>\n",
       "      <td>False</td>\n",
       "      <td>0</td>\n",
       "      <td>True</td>\n",
       "      <td>False</td>\n",
       "      <td>96</td>\n",
       "      <td>True</td>\n",
       "    </tr>\n",
       "    <tr>\n",
       "      <th>19</th>\n",
       "      <td>False</td>\n",
       "      <td>0</td>\n",
       "      <td>True</td>\n",
       "      <td>False</td>\n",
       "      <td>96</td>\n",
       "      <td>False</td>\n",
       "    </tr>\n",
       "    <tr>\n",
       "      <th>20</th>\n",
       "      <td>False</td>\n",
       "      <td>0</td>\n",
       "      <td>False</td>\n",
       "      <td>True</td>\n",
       "      <td>48</td>\n",
       "      <td>True</td>\n",
       "    </tr>\n",
       "    <tr>\n",
       "      <th>21</th>\n",
       "      <td>False</td>\n",
       "      <td>0</td>\n",
       "      <td>False</td>\n",
       "      <td>True</td>\n",
       "      <td>48</td>\n",
       "      <td>False</td>\n",
       "    </tr>\n",
       "    <tr>\n",
       "      <th>22</th>\n",
       "      <td>False</td>\n",
       "      <td>0</td>\n",
       "      <td>False</td>\n",
       "      <td>True</td>\n",
       "      <td>96</td>\n",
       "      <td>True</td>\n",
       "    </tr>\n",
       "    <tr>\n",
       "      <th>23</th>\n",
       "      <td>False</td>\n",
       "      <td>0</td>\n",
       "      <td>False</td>\n",
       "      <td>True</td>\n",
       "      <td>96</td>\n",
       "      <td>False</td>\n",
       "    </tr>\n",
       "  </tbody>\n",
       "</table>\n",
       "</div>"
      ],
      "text/plain": [
       "    use_cleaned_docs  number_of_additional_conv_layers  \\\n",
       "0              False                                 2   \n",
       "1              False                                 2   \n",
       "2              False                                 2   \n",
       "3              False                                 2   \n",
       "4              False                                 2   \n",
       "5              False                                 2   \n",
       "6              False                                 2   \n",
       "7              False                                 2   \n",
       "8              False                                 2   \n",
       "9              False                                 2   \n",
       "10             False                                 2   \n",
       "11             False                                 2   \n",
       "12             False                                 0   \n",
       "13             False                                 0   \n",
       "14             False                                 0   \n",
       "15             False                                 0   \n",
       "16             False                                 0   \n",
       "17             False                                 0   \n",
       "18             False                                 0   \n",
       "19             False                                 0   \n",
       "20             False                                 0   \n",
       "21             False                                 0   \n",
       "22             False                                 0   \n",
       "23             False                                 0   \n",
       "\n",
       "    use_pre_trained_embedding  trainable_for_embedding  number_of_filters  \\\n",
       "0                        True                     True                 48   \n",
       "1                        True                     True                 48   \n",
       "2                        True                     True                 96   \n",
       "3                        True                     True                 96   \n",
       "4                        True                    False                 48   \n",
       "5                        True                    False                 48   \n",
       "6                        True                    False                 96   \n",
       "7                        True                    False                 96   \n",
       "8                       False                     True                 48   \n",
       "9                       False                     True                 48   \n",
       "10                      False                     True                 96   \n",
       "11                      False                     True                 96   \n",
       "12                       True                     True                 48   \n",
       "13                       True                     True                 48   \n",
       "14                       True                     True                 96   \n",
       "15                       True                     True                 96   \n",
       "16                       True                    False                 48   \n",
       "17                       True                    False                 48   \n",
       "18                       True                    False                 96   \n",
       "19                       True                    False                 96   \n",
       "20                      False                     True                 48   \n",
       "21                      False                     True                 48   \n",
       "22                      False                     True                 96   \n",
       "23                      False                     True                 96   \n",
       "\n",
       "    use_dropout  \n",
       "0          True  \n",
       "1         False  \n",
       "2          True  \n",
       "3         False  \n",
       "4          True  \n",
       "5         False  \n",
       "6          True  \n",
       "7         False  \n",
       "8          True  \n",
       "9         False  \n",
       "10         True  \n",
       "11        False  \n",
       "12         True  \n",
       "13        False  \n",
       "14         True  \n",
       "15        False  \n",
       "16         True  \n",
       "17        False  \n",
       "18         True  \n",
       "19        False  \n",
       "20         True  \n",
       "21        False  \n",
       "22         True  \n",
       "23        False  "
      ]
     },
     "execution_count": 13,
     "metadata": {},
     "output_type": "execute_result"
    }
   ],
   "source": [
    "exp_conditions = []\n",
    "for use_cleaned_docs in [False]:\n",
    "    for number_of_additional_conv_layers in [2, 0]:\n",
    "        for use_pre_trained_embedding in [True, False]:\n",
    "            for trainable_for_embedding in [True, False]:\n",
    "                if (not use_pre_trained_embedding) and (not trainable_for_embedding):\n",
    "                    continue\n",
    "                for number_of_filters in [48, 96]:\n",
    "                    for use_dropout in [True, False]:\n",
    "                        exp_conditions.append({\n",
    "                            'use_cleaned_docs': use_cleaned_docs, \n",
    "                            'number_of_additional_conv_layers': number_of_additional_conv_layers,\n",
    "                            'use_pre_trained_embedding': use_pre_trained_embedding,\n",
    "                            'trainable_for_embedding': trainable_for_embedding,\n",
    "                            'number_of_filters': number_of_filters,\n",
    "                            'use_dropout': use_dropout\n",
    "                        })\n",
    "     \n",
    "\n",
    "columns_display = ['use_cleaned_docs','number_of_additional_conv_layers', 'use_pre_trained_embedding', 'trainable_for_embedding','number_of_filters','use_dropout']\n",
    "exp_cond_df = pd.DataFrame(exp_conditions, columns=columns_display)\n",
    "exp_cond_df"
   ]
  },
  {
   "cell_type": "markdown",
   "metadata": {},
   "source": [
    "The final combinations are 12, because the cases when no embedding layers \n",
    "(`use_pre_trained_embedding`= **False** and `trainable_for_embedding` = **False**)\n",
    "will produce error and should be eliminated."
   ]
  },
  {
   "cell_type": "code",
   "execution_count": 14,
   "metadata": {},
   "outputs": [
    {
     "name": "stdout",
     "output_type": "stream",
     "text": [
      "24\n"
     ]
    }
   ],
   "source": [
    "print(len(exp_cond_df))"
   ]
  },
  {
   "cell_type": "code",
   "execution_count": null,
   "metadata": {
    "scrolled": false
   },
   "outputs": [
    {
     "data": {
      "text/html": [
       "<div>\n",
       "<style scoped>\n",
       "    .dataframe tbody tr th:only-of-type {\n",
       "        vertical-align: middle;\n",
       "    }\n",
       "\n",
       "    .dataframe tbody tr th {\n",
       "        vertical-align: top;\n",
       "    }\n",
       "\n",
       "    .dataframe thead th {\n",
       "        text-align: right;\n",
       "    }\n",
       "</style>\n",
       "<table border=\"1\" class=\"dataframe\">\n",
       "  <thead>\n",
       "    <tr style=\"text-align: right;\">\n",
       "      <th></th>\n",
       "      <th>use_cleaned_docs</th>\n",
       "      <th>number_of_additional_conv_layers</th>\n",
       "      <th>use_pre_trained_embedding</th>\n",
       "      <th>trainable_for_embedding</th>\n",
       "      <th>number_of_filters</th>\n",
       "      <th>use_dropout</th>\n",
       "    </tr>\n",
       "  </thead>\n",
       "  <tbody>\n",
       "    <tr>\n",
       "      <th>0</th>\n",
       "      <td>False</td>\n",
       "      <td>2</td>\n",
       "      <td>True</td>\n",
       "      <td>True</td>\n",
       "      <td>48</td>\n",
       "      <td>True</td>\n",
       "    </tr>\n",
       "  </tbody>\n",
       "</table>\n",
       "</div>"
      ],
      "text/plain": [
       "   use_cleaned_docs  number_of_additional_conv_layers  \\\n",
       "0             False                                 2   \n",
       "\n",
       "   use_pre_trained_embedding  trainable_for_embedding  number_of_filters  \\\n",
       "0                       True                     True                 48   \n",
       "\n",
       "   use_dropout  \n",
       "0         True  "
      ]
     },
     "metadata": {},
     "output_type": "display_data"
    },
    {
     "name": "stdout",
     "output_type": "stream",
     "text": [
      "Fitted tokenizer on 25000 documents\n",
      "Top 5 most common words are: [('the', 336148), ('and', 164097), ('a', 163040), ('of', 145847), ('to', 135708)]\n",
      "WARNING:tensorflow:From /home/igsong/.local/lib/python3.7/site-packages/tensorflow/python/framework/op_def_library.py:263: colocate_with (from tensorflow.python.framework.ops) is deprecated and will be removed in a future version.\n",
      "Instructions for updating:\n",
      "Colocations handled automatically by placer.\n",
      "WARNING:tensorflow:From /usr/local/lib/python3.7/dist-packages/keras/backend/tensorflow_backend.py:3445: calling dropout (from tensorflow.python.ops.nn_ops) with keep_prob is deprecated and will be removed in a future version.\n",
      "Instructions for updating:\n",
      "Please use `rate` instead of `keep_prob`. Rate should be set to `rate = 1 - keep_prob`.\n",
      "_________________________________________________________________\n",
      "Layer (type)                 Output Shape              Param #   \n",
      "=================================================================\n",
      "embedding_1 (Embedding)      (None, 2470, 200)         17716600  \n",
      "_________________________________________________________________\n",
      "dropout_1 (Dropout)          (None, 2470, 200)         0         \n",
      "_________________________________________________________________\n",
      "conv1d_1 (Conv1D)            (None, 2466, 48)          48048     \n",
      "_________________________________________________________________\n",
      "max_pooling1d_1 (MaxPooling1 (None, 493, 48)           0         \n",
      "_________________________________________________________________\n",
      "dropout_2 (Dropout)          (None, 493, 48)           0         \n",
      "_________________________________________________________________\n",
      "conv1d_2 (Conv1D)            (None, 489, 48)           11568     \n",
      "_________________________________________________________________\n",
      "max_pooling1d_2 (MaxPooling1 (None, 97, 48)            0         \n",
      "_________________________________________________________________\n",
      "dropout_3 (Dropout)          (None, 97, 48)            0         \n",
      "_________________________________________________________________\n",
      "conv1d_3 (Conv1D)            (None, 93, 48)            11568     \n",
      "_________________________________________________________________\n",
      "max_pooling1d_3 (MaxPooling1 (None, 9, 48)             0         \n",
      "_________________________________________________________________\n",
      "dropout_4 (Dropout)          (None, 9, 48)             0         \n",
      "_________________________________________________________________\n",
      "flatten_1 (Flatten)          (None, 432)               0         \n",
      "_________________________________________________________________\n",
      "dense_1 (Dense)              (None, 128)               55424     \n",
      "_________________________________________________________________\n",
      "dense_2 (Dense)              (None, 1)                 129       \n",
      "=================================================================\n",
      "Total params: 17,843,337\n",
      "Trainable params: 17,843,337\n",
      "Non-trainable params: 0\n",
      "_________________________________________________________________\n",
      "WARNING:tensorflow:From /home/igsong/.local/lib/python3.7/site-packages/tensorflow/python/ops/math_ops.py:3066: to_int32 (from tensorflow.python.ops.math_ops) is deprecated and will be removed in a future version.\n",
      "Instructions for updating:\n",
      "Use tf.cast instead.\n",
      "Train on 25000 samples, validate on 25000 samples\n"
     ]
    },
    {
     "data": {
      "application/vnd.jupyter.widget-view+json": {
       "model_id": "4b8cdec05f014fcf9cdb83b7c9152c65",
       "version_major": 2,
       "version_minor": 0
      },
      "text/plain": [
       "HBox(children=(IntProgress(value=0, description='Training', max=16, style=ProgressStyle(description_width='ini…"
      ]
     },
     "metadata": {},
     "output_type": "display_data"
    },
    {
     "name": "stdout",
     "output_type": "stream",
     "text": [
      "Epoch 1/16\n"
     ]
    },
    {
     "data": {
      "application/vnd.jupyter.widget-view+json": {
       "model_id": "",
       "version_major": 2,
       "version_minor": 0
      },
      "text/plain": [
       "HBox(children=(IntProgress(value=0, description='Epoch 0', max=25000, style=ProgressStyle(description_width='i…"
      ]
     },
     "metadata": {},
     "output_type": "display_data"
    },
    {
     "name": "stdout",
     "output_type": "stream",
     "text": [
      " - 20s - loss: 0.6915 - acc: 0.5357 - val_loss: 0.6372 - val_acc: 0.6770\n",
      "\n",
      "Epoch 00001: val_acc improved from -inf to 0.67696, saving model to ./model/01-0.6770.hdf5\n",
      "Epoch 2/16\n"
     ]
    },
    {
     "data": {
      "application/vnd.jupyter.widget-view+json": {
       "model_id": "",
       "version_major": 2,
       "version_minor": 0
      },
      "text/plain": [
       "HBox(children=(IntProgress(value=0, description='Epoch 1', max=25000, style=ProgressStyle(description_width='i…"
      ]
     },
     "metadata": {},
     "output_type": "display_data"
    },
    {
     "name": "stdout",
     "output_type": "stream",
     "text": [
      " - 16s - loss: 0.4743 - acc: 0.7781 - val_loss: 0.3933 - val_acc: 0.8651\n",
      "\n",
      "Epoch 00002: val_acc improved from 0.67696 to 0.86508, saving model to ./model/02-0.8651.hdf5\n",
      "Epoch 3/16\n"
     ]
    },
    {
     "data": {
      "application/vnd.jupyter.widget-view+json": {
       "model_id": "",
       "version_major": 2,
       "version_minor": 0
      },
      "text/plain": [
       "HBox(children=(IntProgress(value=0, description='Epoch 2', max=25000, style=ProgressStyle(description_width='i…"
      ]
     },
     "metadata": {},
     "output_type": "display_data"
    },
    {
     "name": "stdout",
     "output_type": "stream",
     "text": [
      " - 16s - loss: 0.3288 - acc: 0.8643 - val_loss: 0.3507 - val_acc: 0.8848\n",
      "\n",
      "Epoch 00003: val_acc improved from 0.86508 to 0.88476, saving model to ./model/03-0.8848.hdf5\n",
      "Epoch 4/16\n"
     ]
    },
    {
     "data": {
      "application/vnd.jupyter.widget-view+json": {
       "model_id": "",
       "version_major": 2,
       "version_minor": 0
      },
      "text/plain": [
       "HBox(children=(IntProgress(value=0, description='Epoch 3', max=25000, style=ProgressStyle(description_width='i…"
      ]
     },
     "metadata": {},
     "output_type": "display_data"
    },
    {
     "name": "stdout",
     "output_type": "stream",
     "text": [
      " - 16s - loss: 0.2650 - acc: 0.8965 - val_loss: 0.3228 - val_acc: 0.8882\n",
      "\n",
      "Epoch 00004: val_acc improved from 0.88476 to 0.88824, saving model to ./model/04-0.8882.hdf5\n",
      "Epoch 5/16\n"
     ]
    },
    {
     "data": {
      "application/vnd.jupyter.widget-view+json": {
       "model_id": "",
       "version_major": 2,
       "version_minor": 0
      },
      "text/plain": [
       "HBox(children=(IntProgress(value=0, description='Epoch 4', max=25000, style=ProgressStyle(description_width='i…"
      ]
     },
     "metadata": {},
     "output_type": "display_data"
    },
    {
     "name": "stdout",
     "output_type": "stream",
     "text": [
      " - 16s - loss: 0.2203 - acc: 0.9146 - val_loss: 0.3026 - val_acc: 0.8935\n",
      "\n",
      "Epoch 00005: val_acc improved from 0.88824 to 0.89352, saving model to ./model/05-0.8935.hdf5\n",
      "Epoch 6/16\n"
     ]
    },
    {
     "data": {
      "application/vnd.jupyter.widget-view+json": {
       "model_id": "",
       "version_major": 2,
       "version_minor": 0
      },
      "text/plain": [
       "HBox(children=(IntProgress(value=0, description='Epoch 5', max=25000, style=ProgressStyle(description_width='i…"
      ]
     },
     "metadata": {},
     "output_type": "display_data"
    },
    {
     "name": "stdout",
     "output_type": "stream",
     "text": [
      " - 16s - loss: 0.1843 - acc: 0.9293 - val_loss: 0.3143 - val_acc: 0.8871\n",
      "\n",
      "Epoch 00006: val_acc did not improve from 0.89352\n",
      "Epoch 7/16\n"
     ]
    },
    {
     "data": {
      "application/vnd.jupyter.widget-view+json": {
       "model_id": "",
       "version_major": 2,
       "version_minor": 0
      },
      "text/plain": [
       "HBox(children=(IntProgress(value=0, description='Epoch 6', max=25000, style=ProgressStyle(description_width='i…"
      ]
     },
     "metadata": {},
     "output_type": "display_data"
    },
    {
     "name": "stdout",
     "output_type": "stream",
     "text": [
      " - 16s - loss: 0.1591 - acc: 0.9407 - val_loss: 0.2999 - val_acc: 0.8830\n",
      "\n",
      "Epoch 00007: val_acc did not improve from 0.89352\n",
      "\n",
      "Test Accuracy: 88.30%\n",
      "<keras.callbacks.History object at 0x7f98aa6b2ef0>\n"
     ]
    },
    {
     "data": {
      "text/html": [
       "<div>\n",
       "<style scoped>\n",
       "    .dataframe tbody tr th:only-of-type {\n",
       "        vertical-align: middle;\n",
       "    }\n",
       "\n",
       "    .dataframe tbody tr th {\n",
       "        vertical-align: top;\n",
       "    }\n",
       "\n",
       "    .dataframe thead th {\n",
       "        text-align: right;\n",
       "    }\n",
       "</style>\n",
       "<table border=\"1\" class=\"dataframe\">\n",
       "  <thead>\n",
       "    <tr style=\"text-align: right;\">\n",
       "      <th></th>\n",
       "      <th>use_cleaned_docs</th>\n",
       "      <th>number_of_additional_conv_layers</th>\n",
       "      <th>use_pre_trained_embedding</th>\n",
       "      <th>trainable_for_embedding</th>\n",
       "      <th>number_of_filters</th>\n",
       "      <th>use_dropout</th>\n",
       "    </tr>\n",
       "  </thead>\n",
       "  <tbody>\n",
       "    <tr>\n",
       "      <th>1</th>\n",
       "      <td>False</td>\n",
       "      <td>2</td>\n",
       "      <td>True</td>\n",
       "      <td>True</td>\n",
       "      <td>48</td>\n",
       "      <td>False</td>\n",
       "    </tr>\n",
       "  </tbody>\n",
       "</table>\n",
       "</div>"
      ],
      "text/plain": [
       "   use_cleaned_docs  number_of_additional_conv_layers  \\\n",
       "1             False                                 2   \n",
       "\n",
       "   use_pre_trained_embedding  trainable_for_embedding  number_of_filters  \\\n",
       "1                       True                     True                 48   \n",
       "\n",
       "   use_dropout  \n",
       "1        False  "
      ]
     },
     "metadata": {},
     "output_type": "display_data"
    },
    {
     "name": "stdout",
     "output_type": "stream",
     "text": [
      "Fitted tokenizer on 25000 documents\n",
      "Top 5 most common words are: [('the', 336148), ('and', 164097), ('a', 163040), ('of', 145847), ('to', 135708)]\n",
      "_________________________________________________________________\n",
      "Layer (type)                 Output Shape              Param #   \n",
      "=================================================================\n",
      "embedding_1 (Embedding)      (None, 2470, 200)         17716600  \n",
      "_________________________________________________________________\n",
      "conv1d_1 (Conv1D)            (None, 2466, 48)          48048     \n",
      "_________________________________________________________________\n",
      "max_pooling1d_1 (MaxPooling1 (None, 493, 48)           0         \n",
      "_________________________________________________________________\n",
      "conv1d_2 (Conv1D)            (None, 489, 48)           11568     \n",
      "_________________________________________________________________\n",
      "max_pooling1d_2 (MaxPooling1 (None, 97, 48)            0         \n",
      "_________________________________________________________________\n",
      "conv1d_3 (Conv1D)            (None, 93, 48)            11568     \n",
      "_________________________________________________________________\n",
      "max_pooling1d_3 (MaxPooling1 (None, 9, 48)             0         \n",
      "_________________________________________________________________\n",
      "flatten_1 (Flatten)          (None, 432)               0         \n",
      "_________________________________________________________________\n",
      "dense_1 (Dense)              (None, 128)               55424     \n",
      "_________________________________________________________________\n",
      "dense_2 (Dense)              (None, 1)                 129       \n",
      "=================================================================\n",
      "Total params: 17,843,337\n",
      "Trainable params: 17,843,337\n",
      "Non-trainable params: 0\n",
      "_________________________________________________________________\n",
      "Train on 25000 samples, validate on 25000 samples\n"
     ]
    },
    {
     "data": {
      "application/vnd.jupyter.widget-view+json": {
       "model_id": "fb341abac75e4b999ae98756dfc71676",
       "version_major": 2,
       "version_minor": 0
      },
      "text/plain": [
       "HBox(children=(IntProgress(value=0, description='Training', max=16, style=ProgressStyle(description_width='ini…"
      ]
     },
     "metadata": {},
     "output_type": "display_data"
    },
    {
     "name": "stdout",
     "output_type": "stream",
     "text": [
      "Epoch 1/16\n"
     ]
    },
    {
     "data": {
      "application/vnd.jupyter.widget-view+json": {
       "model_id": "",
       "version_major": 2,
       "version_minor": 0
      },
      "text/plain": [
       "HBox(children=(IntProgress(value=0, description='Epoch 0', max=25000, style=ProgressStyle(description_width='i…"
      ]
     },
     "metadata": {},
     "output_type": "display_data"
    },
    {
     "name": "stdout",
     "output_type": "stream",
     "text": [
      " - 13s - loss: 0.4381 - acc: 0.7732 - val_loss: 0.2825 - val_acc: 0.8825\n",
      "\n",
      "Epoch 00001: val_acc did not improve from 0.89352\n",
      "Epoch 2/16\n"
     ]
    },
    {
     "data": {
      "application/vnd.jupyter.widget-view+json": {
       "model_id": "",
       "version_major": 2,
       "version_minor": 0
      },
      "text/plain": [
       "HBox(children=(IntProgress(value=0, description='Epoch 1', max=25000, style=ProgressStyle(description_width='i…"
      ]
     },
     "metadata": {},
     "output_type": "display_data"
    },
    {
     "name": "stdout",
     "output_type": "stream",
     "text": [
      " - 13s - loss: 0.2048 - acc: 0.9204 - val_loss: 0.2664 - val_acc: 0.8924\n",
      "\n",
      "Epoch 00002: val_acc did not improve from 0.89352\n",
      "Epoch 3/16\n"
     ]
    },
    {
     "data": {
      "application/vnd.jupyter.widget-view+json": {
       "model_id": "",
       "version_major": 2,
       "version_minor": 0
      },
      "text/plain": [
       "HBox(children=(IntProgress(value=0, description='Epoch 2', max=25000, style=ProgressStyle(description_width='i…"
      ]
     },
     "metadata": {},
     "output_type": "display_data"
    },
    {
     "name": "stdout",
     "output_type": "stream",
     "text": [
      " - 13s - loss: 0.1007 - acc: 0.9652 - val_loss: 0.3972 - val_acc: 0.8672\n",
      "\n",
      "Epoch 00003: val_acc did not improve from 0.89352\n",
      "Epoch 4/16\n"
     ]
    },
    {
     "data": {
      "application/vnd.jupyter.widget-view+json": {
       "model_id": "",
       "version_major": 2,
       "version_minor": 0
      },
      "text/plain": [
       "HBox(children=(IntProgress(value=0, description='Epoch 3', max=25000, style=ProgressStyle(description_width='i…"
      ]
     },
     "metadata": {},
     "output_type": "display_data"
    },
    {
     "name": "stdout",
     "output_type": "stream",
     "text": [
      " - 13s - loss: 0.0394 - acc: 0.9884 - val_loss: 0.3957 - val_acc: 0.8924\n",
      "\n",
      "Epoch 00004: val_acc did not improve from 0.89352\n",
      "Epoch 5/16\n"
     ]
    },
    {
     "data": {
      "application/vnd.jupyter.widget-view+json": {
       "model_id": "",
       "version_major": 2,
       "version_minor": 0
      },
      "text/plain": [
       "HBox(children=(IntProgress(value=0, description='Epoch 4', max=25000, style=ProgressStyle(description_width='i…"
      ]
     },
     "metadata": {},
     "output_type": "display_data"
    },
    {
     "name": "stdout",
     "output_type": "stream",
     "text": [
      " - 13s - loss: 0.0159 - acc: 0.9954 - val_loss: 0.4943 - val_acc: 0.8865\n",
      "\n",
      "Epoch 00005: val_acc did not improve from 0.89352\n",
      "Epoch 6/16\n"
     ]
    },
    {
     "data": {
      "application/vnd.jupyter.widget-view+json": {
       "model_id": "",
       "version_major": 2,
       "version_minor": 0
      },
      "text/plain": [
       "HBox(children=(IntProgress(value=0, description='Epoch 5', max=25000, style=ProgressStyle(description_width='i…"
      ]
     },
     "metadata": {},
     "output_type": "display_data"
    },
    {
     "name": "stdout",
     "output_type": "stream",
     "text": [
      " - 13s - loss: 0.0040 - acc: 0.9992 - val_loss: 0.5592 - val_acc: 0.8868\n",
      "\n",
      "Epoch 00006: val_acc did not improve from 0.89352\n",
      "\n",
      "Test Accuracy: 88.68%\n",
      "<keras.callbacks.History object at 0x7f98a9977e80>\n"
     ]
    },
    {
     "data": {
      "text/html": [
       "<div>\n",
       "<style scoped>\n",
       "    .dataframe tbody tr th:only-of-type {\n",
       "        vertical-align: middle;\n",
       "    }\n",
       "\n",
       "    .dataframe tbody tr th {\n",
       "        vertical-align: top;\n",
       "    }\n",
       "\n",
       "    .dataframe thead th {\n",
       "        text-align: right;\n",
       "    }\n",
       "</style>\n",
       "<table border=\"1\" class=\"dataframe\">\n",
       "  <thead>\n",
       "    <tr style=\"text-align: right;\">\n",
       "      <th></th>\n",
       "      <th>use_cleaned_docs</th>\n",
       "      <th>number_of_additional_conv_layers</th>\n",
       "      <th>use_pre_trained_embedding</th>\n",
       "      <th>trainable_for_embedding</th>\n",
       "      <th>number_of_filters</th>\n",
       "      <th>use_dropout</th>\n",
       "    </tr>\n",
       "  </thead>\n",
       "  <tbody>\n",
       "    <tr>\n",
       "      <th>2</th>\n",
       "      <td>False</td>\n",
       "      <td>2</td>\n",
       "      <td>True</td>\n",
       "      <td>True</td>\n",
       "      <td>96</td>\n",
       "      <td>True</td>\n",
       "    </tr>\n",
       "  </tbody>\n",
       "</table>\n",
       "</div>"
      ],
      "text/plain": [
       "   use_cleaned_docs  number_of_additional_conv_layers  \\\n",
       "2             False                                 2   \n",
       "\n",
       "   use_pre_trained_embedding  trainable_for_embedding  number_of_filters  \\\n",
       "2                       True                     True                 96   \n",
       "\n",
       "   use_dropout  \n",
       "2         True  "
      ]
     },
     "metadata": {},
     "output_type": "display_data"
    },
    {
     "name": "stdout",
     "output_type": "stream",
     "text": [
      "Fitted tokenizer on 25000 documents\n",
      "Top 5 most common words are: [('the', 336148), ('and', 164097), ('a', 163040), ('of', 145847), ('to', 135708)]\n",
      "_________________________________________________________________\n",
      "Layer (type)                 Output Shape              Param #   \n",
      "=================================================================\n",
      "embedding_1 (Embedding)      (None, 2470, 200)         17716600  \n",
      "_________________________________________________________________\n",
      "dropout_1 (Dropout)          (None, 2470, 200)         0         \n",
      "_________________________________________________________________\n",
      "conv1d_1 (Conv1D)            (None, 2466, 96)          96096     \n",
      "_________________________________________________________________\n",
      "max_pooling1d_1 (MaxPooling1 (None, 493, 96)           0         \n",
      "_________________________________________________________________\n",
      "dropout_2 (Dropout)          (None, 493, 96)           0         \n",
      "_________________________________________________________________\n",
      "conv1d_2 (Conv1D)            (None, 489, 96)           46176     \n",
      "_________________________________________________________________\n",
      "max_pooling1d_2 (MaxPooling1 (None, 97, 96)            0         \n",
      "_________________________________________________________________\n",
      "dropout_3 (Dropout)          (None, 97, 96)            0         \n",
      "_________________________________________________________________\n",
      "conv1d_3 (Conv1D)            (None, 93, 96)            46176     \n",
      "_________________________________________________________________\n",
      "max_pooling1d_3 (MaxPooling1 (None, 9, 96)             0         \n",
      "_________________________________________________________________\n",
      "dropout_4 (Dropout)          (None, 9, 96)             0         \n",
      "_________________________________________________________________\n",
      "flatten_1 (Flatten)          (None, 864)               0         \n",
      "_________________________________________________________________\n",
      "dense_1 (Dense)              (None, 128)               110720    \n",
      "_________________________________________________________________\n",
      "dense_2 (Dense)              (None, 1)                 129       \n",
      "=================================================================\n",
      "Total params: 18,015,897\n",
      "Trainable params: 18,015,897\n",
      "Non-trainable params: 0\n",
      "_________________________________________________________________\n",
      "Train on 25000 samples, validate on 25000 samples\n"
     ]
    },
    {
     "data": {
      "application/vnd.jupyter.widget-view+json": {
       "model_id": "82631243e9b24f3084cc36c669026066",
       "version_major": 2,
       "version_minor": 0
      },
      "text/plain": [
       "HBox(children=(IntProgress(value=0, description='Training', max=16, style=ProgressStyle(description_width='ini…"
      ]
     },
     "metadata": {},
     "output_type": "display_data"
    },
    {
     "name": "stdout",
     "output_type": "stream",
     "text": [
      "Epoch 1/16\n"
     ]
    },
    {
     "data": {
      "application/vnd.jupyter.widget-view+json": {
       "model_id": "",
       "version_major": 2,
       "version_minor": 0
      },
      "text/plain": [
       "HBox(children=(IntProgress(value=0, description='Epoch 0', max=25000, style=ProgressStyle(description_width='i…"
      ]
     },
     "metadata": {},
     "output_type": "display_data"
    },
    {
     "name": "stdout",
     "output_type": "stream",
     "text": [
      " - 22s - loss: 0.6725 - acc: 0.5682 - val_loss: 0.5590 - val_acc: 0.7941\n",
      "\n",
      "Epoch 00001: val_acc did not improve from 0.89352\n",
      "Epoch 2/16\n"
     ]
    },
    {
     "data": {
      "application/vnd.jupyter.widget-view+json": {
       "model_id": "",
       "version_major": 2,
       "version_minor": 0
      },
      "text/plain": [
       "HBox(children=(IntProgress(value=0, description='Epoch 1', max=25000, style=ProgressStyle(description_width='i…"
      ]
     },
     "metadata": {},
     "output_type": "display_data"
    },
    {
     "name": "stdout",
     "output_type": "stream",
     "text": [
      " - 21s - loss: 0.3991 - acc: 0.8249 - val_loss: 0.3578 - val_acc: 0.8723\n",
      "\n",
      "Epoch 00002: val_acc did not improve from 0.89352\n",
      "Epoch 3/16\n"
     ]
    },
    {
     "data": {
      "application/vnd.jupyter.widget-view+json": {
       "model_id": "",
       "version_major": 2,
       "version_minor": 0
      },
      "text/plain": [
       "HBox(children=(IntProgress(value=0, description='Epoch 2', max=25000, style=ProgressStyle(description_width='i…"
      ]
     },
     "metadata": {},
     "output_type": "display_data"
    },
    {
     "name": "stdout",
     "output_type": "stream",
     "text": [
      " - 21s - loss: 0.2888 - acc: 0.8836 - val_loss: 0.3143 - val_acc: 0.8872\n",
      "\n",
      "Epoch 00003: val_acc did not improve from 0.89352\n",
      "Epoch 4/16\n"
     ]
    },
    {
     "data": {
      "application/vnd.jupyter.widget-view+json": {
       "model_id": "",
       "version_major": 2,
       "version_minor": 0
      },
      "text/plain": [
       "HBox(children=(IntProgress(value=0, description='Epoch 3', max=25000, style=ProgressStyle(description_width='i…"
      ]
     },
     "metadata": {},
     "output_type": "display_data"
    },
    {
     "name": "stdout",
     "output_type": "stream",
     "text": [
      " - 21s - loss: 0.2269 - acc: 0.9117 - val_loss: 0.3063 - val_acc: 0.8899\n",
      "\n",
      "Epoch 00004: val_acc did not improve from 0.89352\n",
      "Epoch 5/16\n"
     ]
    },
    {
     "data": {
      "application/vnd.jupyter.widget-view+json": {
       "model_id": "",
       "version_major": 2,
       "version_minor": 0
      },
      "text/plain": [
       "HBox(children=(IntProgress(value=0, description='Epoch 4', max=25000, style=ProgressStyle(description_width='i…"
      ]
     },
     "metadata": {},
     "output_type": "display_data"
    },
    {
     "name": "stdout",
     "output_type": "stream",
     "text": [
      " - 21s - loss: 0.1888 - acc: 0.9298 - val_loss: 0.2762 - val_acc: 0.8918\n",
      "\n",
      "Epoch 00005: val_acc did not improve from 0.89352\n",
      "Epoch 6/16\n"
     ]
    },
    {
     "data": {
      "application/vnd.jupyter.widget-view+json": {
       "model_id": "",
       "version_major": 2,
       "version_minor": 0
      },
      "text/plain": [
       "HBox(children=(IntProgress(value=0, description='Epoch 5', max=25000, style=ProgressStyle(description_width='i…"
      ]
     },
     "metadata": {},
     "output_type": "display_data"
    },
    {
     "name": "stdout",
     "output_type": "stream",
     "text": [
      " - 21s - loss: 0.1492 - acc: 0.9444 - val_loss: 0.2761 - val_acc: 0.8878\n",
      "\n",
      "Epoch 00006: val_acc did not improve from 0.89352\n",
      "Epoch 7/16\n"
     ]
    },
    {
     "data": {
      "application/vnd.jupyter.widget-view+json": {
       "model_id": "",
       "version_major": 2,
       "version_minor": 0
      },
      "text/plain": [
       "HBox(children=(IntProgress(value=0, description='Epoch 6', max=25000, style=ProgressStyle(description_width='i…"
      ]
     },
     "metadata": {},
     "output_type": "display_data"
    },
    {
     "name": "stdout",
     "output_type": "stream",
     "text": [
      " - 21s - loss: 0.1197 - acc: 0.9559 - val_loss: 0.2846 - val_acc: 0.8828\n",
      "\n",
      "Epoch 00007: val_acc did not improve from 0.89352\n",
      "\n",
      "Test Accuracy: 88.28%\n",
      "<keras.callbacks.History object at 0x7f98b11fbc88>\n"
     ]
    },
    {
     "data": {
      "text/html": [
       "<div>\n",
       "<style scoped>\n",
       "    .dataframe tbody tr th:only-of-type {\n",
       "        vertical-align: middle;\n",
       "    }\n",
       "\n",
       "    .dataframe tbody tr th {\n",
       "        vertical-align: top;\n",
       "    }\n",
       "\n",
       "    .dataframe thead th {\n",
       "        text-align: right;\n",
       "    }\n",
       "</style>\n",
       "<table border=\"1\" class=\"dataframe\">\n",
       "  <thead>\n",
       "    <tr style=\"text-align: right;\">\n",
       "      <th></th>\n",
       "      <th>use_cleaned_docs</th>\n",
       "      <th>number_of_additional_conv_layers</th>\n",
       "      <th>use_pre_trained_embedding</th>\n",
       "      <th>trainable_for_embedding</th>\n",
       "      <th>number_of_filters</th>\n",
       "      <th>use_dropout</th>\n",
       "    </tr>\n",
       "  </thead>\n",
       "  <tbody>\n",
       "    <tr>\n",
       "      <th>3</th>\n",
       "      <td>False</td>\n",
       "      <td>2</td>\n",
       "      <td>True</td>\n",
       "      <td>True</td>\n",
       "      <td>96</td>\n",
       "      <td>False</td>\n",
       "    </tr>\n",
       "  </tbody>\n",
       "</table>\n",
       "</div>"
      ],
      "text/plain": [
       "   use_cleaned_docs  number_of_additional_conv_layers  \\\n",
       "3             False                                 2   \n",
       "\n",
       "   use_pre_trained_embedding  trainable_for_embedding  number_of_filters  \\\n",
       "3                       True                     True                 96   \n",
       "\n",
       "   use_dropout  \n",
       "3        False  "
      ]
     },
     "metadata": {},
     "output_type": "display_data"
    },
    {
     "name": "stdout",
     "output_type": "stream",
     "text": [
      "Fitted tokenizer on 25000 documents\n",
      "Top 5 most common words are: [('the', 336148), ('and', 164097), ('a', 163040), ('of', 145847), ('to', 135708)]\n",
      "_________________________________________________________________\n",
      "Layer (type)                 Output Shape              Param #   \n",
      "=================================================================\n",
      "embedding_1 (Embedding)      (None, 2470, 200)         17716600  \n",
      "_________________________________________________________________\n",
      "conv1d_1 (Conv1D)            (None, 2466, 96)          96096     \n",
      "_________________________________________________________________\n",
      "max_pooling1d_1 (MaxPooling1 (None, 493, 96)           0         \n",
      "_________________________________________________________________\n",
      "conv1d_2 (Conv1D)            (None, 489, 96)           46176     \n",
      "_________________________________________________________________\n",
      "max_pooling1d_2 (MaxPooling1 (None, 97, 96)            0         \n",
      "_________________________________________________________________\n",
      "conv1d_3 (Conv1D)            (None, 93, 96)            46176     \n",
      "_________________________________________________________________\n",
      "max_pooling1d_3 (MaxPooling1 (None, 9, 96)             0         \n",
      "_________________________________________________________________\n",
      "flatten_1 (Flatten)          (None, 864)               0         \n",
      "_________________________________________________________________\n",
      "dense_1 (Dense)              (None, 128)               110720    \n",
      "_________________________________________________________________\n",
      "dense_2 (Dense)              (None, 1)                 129       \n",
      "=================================================================\n",
      "Total params: 18,015,897\n",
      "Trainable params: 18,015,897\n",
      "Non-trainable params: 0\n",
      "_________________________________________________________________\n",
      "Train on 25000 samples, validate on 25000 samples\n"
     ]
    },
    {
     "data": {
      "application/vnd.jupyter.widget-view+json": {
       "model_id": "853b3dc4bc074ef0a1b2d052d8171e9d",
       "version_major": 2,
       "version_minor": 0
      },
      "text/plain": [
       "HBox(children=(IntProgress(value=0, description='Training', max=16, style=ProgressStyle(description_width='ini…"
      ]
     },
     "metadata": {},
     "output_type": "display_data"
    },
    {
     "name": "stdout",
     "output_type": "stream",
     "text": [
      "Epoch 1/16\n"
     ]
    },
    {
     "data": {
      "application/vnd.jupyter.widget-view+json": {
       "model_id": "",
       "version_major": 2,
       "version_minor": 0
      },
      "text/plain": [
       "HBox(children=(IntProgress(value=0, description='Epoch 0', max=25000, style=ProgressStyle(description_width='i…"
      ]
     },
     "metadata": {},
     "output_type": "display_data"
    },
    {
     "name": "stdout",
     "output_type": "stream",
     "text": [
      " - 18s - loss: 0.4407 - acc: 0.7672 - val_loss: 0.3243 - val_acc: 0.8588\n",
      "\n",
      "Epoch 00001: val_acc did not improve from 0.89352\n",
      "Epoch 2/16\n"
     ]
    },
    {
     "data": {
      "application/vnd.jupyter.widget-view+json": {
       "model_id": "",
       "version_major": 2,
       "version_minor": 0
      },
      "text/plain": [
       "HBox(children=(IntProgress(value=0, description='Epoch 1', max=25000, style=ProgressStyle(description_width='i…"
      ]
     },
     "metadata": {},
     "output_type": "display_data"
    },
    {
     "name": "stdout",
     "output_type": "stream",
     "text": [
      " - 17s - loss: 0.2009 - acc: 0.9221 - val_loss: 0.2456 - val_acc: 0.9008\n",
      "\n",
      "Epoch 00002: val_acc improved from 0.89352 to 0.90076, saving model to ./model/02-0.9008.hdf5\n",
      "Epoch 3/16\n"
     ]
    },
    {
     "data": {
      "application/vnd.jupyter.widget-view+json": {
       "model_id": "",
       "version_major": 2,
       "version_minor": 0
      },
      "text/plain": [
       "HBox(children=(IntProgress(value=0, description='Epoch 2', max=25000, style=ProgressStyle(description_width='i…"
      ]
     },
     "metadata": {},
     "output_type": "display_data"
    },
    {
     "name": "stdout",
     "output_type": "stream",
     "text": [
      " - 17s - loss: 0.0959 - acc: 0.9676 - val_loss: 0.3139 - val_acc: 0.8846\n",
      "\n",
      "Epoch 00003: val_acc did not improve from 0.90076\n",
      "Epoch 4/16\n"
     ]
    },
    {
     "data": {
      "application/vnd.jupyter.widget-view+json": {
       "model_id": "",
       "version_major": 2,
       "version_minor": 0
      },
      "text/plain": [
       "HBox(children=(IntProgress(value=0, description='Epoch 3', max=25000, style=ProgressStyle(description_width='i…"
      ]
     },
     "metadata": {},
     "output_type": "display_data"
    },
    {
     "name": "stdout",
     "output_type": "stream",
     "text": [
      " - 17s - loss: 0.0287 - acc: 0.9913 - val_loss: 0.4159 - val_acc: 0.8912\n",
      "\n",
      "Epoch 00004: val_acc did not improve from 0.90076\n",
      "\n",
      "Test Accuracy: 89.12%\n",
      "<keras.callbacks.History object at 0x7f98b13ce4e0>\n"
     ]
    },
    {
     "data": {
      "text/html": [
       "<div>\n",
       "<style scoped>\n",
       "    .dataframe tbody tr th:only-of-type {\n",
       "        vertical-align: middle;\n",
       "    }\n",
       "\n",
       "    .dataframe tbody tr th {\n",
       "        vertical-align: top;\n",
       "    }\n",
       "\n",
       "    .dataframe thead th {\n",
       "        text-align: right;\n",
       "    }\n",
       "</style>\n",
       "<table border=\"1\" class=\"dataframe\">\n",
       "  <thead>\n",
       "    <tr style=\"text-align: right;\">\n",
       "      <th></th>\n",
       "      <th>use_cleaned_docs</th>\n",
       "      <th>number_of_additional_conv_layers</th>\n",
       "      <th>use_pre_trained_embedding</th>\n",
       "      <th>trainable_for_embedding</th>\n",
       "      <th>number_of_filters</th>\n",
       "      <th>use_dropout</th>\n",
       "    </tr>\n",
       "  </thead>\n",
       "  <tbody>\n",
       "    <tr>\n",
       "      <th>4</th>\n",
       "      <td>False</td>\n",
       "      <td>2</td>\n",
       "      <td>True</td>\n",
       "      <td>False</td>\n",
       "      <td>48</td>\n",
       "      <td>True</td>\n",
       "    </tr>\n",
       "  </tbody>\n",
       "</table>\n",
       "</div>"
      ],
      "text/plain": [
       "   use_cleaned_docs  number_of_additional_conv_layers  \\\n",
       "4             False                                 2   \n",
       "\n",
       "   use_pre_trained_embedding  trainable_for_embedding  number_of_filters  \\\n",
       "4                       True                    False                 48   \n",
       "\n",
       "   use_dropout  \n",
       "4         True  "
      ]
     },
     "metadata": {},
     "output_type": "display_data"
    },
    {
     "name": "stdout",
     "output_type": "stream",
     "text": [
      "Fitted tokenizer on 25000 documents\n",
      "Top 5 most common words are: [('the', 336148), ('and', 164097), ('a', 163040), ('of', 145847), ('to', 135708)]\n",
      "_________________________________________________________________\n",
      "Layer (type)                 Output Shape              Param #   \n",
      "=================================================================\n",
      "embedding_1 (Embedding)      (None, 2470, 200)         17716600  \n",
      "_________________________________________________________________\n",
      "dropout_1 (Dropout)          (None, 2470, 200)         0         \n",
      "_________________________________________________________________\n",
      "conv1d_1 (Conv1D)            (None, 2466, 48)          48048     \n",
      "_________________________________________________________________\n",
      "max_pooling1d_1 (MaxPooling1 (None, 493, 48)           0         \n",
      "_________________________________________________________________\n",
      "dropout_2 (Dropout)          (None, 493, 48)           0         \n",
      "_________________________________________________________________\n",
      "conv1d_2 (Conv1D)            (None, 489, 48)           11568     \n",
      "_________________________________________________________________\n",
      "max_pooling1d_2 (MaxPooling1 (None, 97, 48)            0         \n",
      "_________________________________________________________________\n",
      "dropout_3 (Dropout)          (None, 97, 48)            0         \n",
      "_________________________________________________________________\n",
      "conv1d_3 (Conv1D)            (None, 93, 48)            11568     \n",
      "_________________________________________________________________\n",
      "max_pooling1d_3 (MaxPooling1 (None, 9, 48)             0         \n",
      "_________________________________________________________________\n",
      "dropout_4 (Dropout)          (None, 9, 48)             0         \n",
      "_________________________________________________________________\n",
      "flatten_1 (Flatten)          (None, 432)               0         \n",
      "_________________________________________________________________\n",
      "dense_1 (Dense)              (None, 128)               55424     \n",
      "_________________________________________________________________\n",
      "dense_2 (Dense)              (None, 1)                 129       \n",
      "=================================================================\n",
      "Total params: 17,843,337\n",
      "Trainable params: 126,737\n",
      "Non-trainable params: 17,716,600\n",
      "_________________________________________________________________\n",
      "Train on 25000 samples, validate on 25000 samples\n"
     ]
    },
    {
     "data": {
      "application/vnd.jupyter.widget-view+json": {
       "model_id": "99e8f632807e45eabe8d275473055ad4",
       "version_major": 2,
       "version_minor": 0
      },
      "text/plain": [
       "HBox(children=(IntProgress(value=0, description='Training', max=16, style=ProgressStyle(description_width='ini…"
      ]
     },
     "metadata": {},
     "output_type": "display_data"
    },
    {
     "name": "stdout",
     "output_type": "stream",
     "text": [
      "Epoch 1/16\n"
     ]
    },
    {
     "data": {
      "application/vnd.jupyter.widget-view+json": {
       "model_id": "",
       "version_major": 2,
       "version_minor": 0
      },
      "text/plain": [
       "HBox(children=(IntProgress(value=0, description='Epoch 0', max=25000, style=ProgressStyle(description_width='i…"
      ]
     },
     "metadata": {},
     "output_type": "display_data"
    },
    {
     "name": "stdout",
     "output_type": "stream",
     "text": [
      " - 11s - loss: 0.6995 - acc: 0.5121 - val_loss: 0.6912 - val_acc: 0.6064\n",
      "\n",
      "Epoch 00001: val_acc did not improve from 0.90076\n",
      "Epoch 2/16\n"
     ]
    },
    {
     "data": {
      "application/vnd.jupyter.widget-view+json": {
       "model_id": "",
       "version_major": 2,
       "version_minor": 0
      },
      "text/plain": [
       "HBox(children=(IntProgress(value=0, description='Epoch 1', max=25000, style=ProgressStyle(description_width='i…"
      ]
     },
     "metadata": {},
     "output_type": "display_data"
    },
    {
     "name": "stdout",
     "output_type": "stream",
     "text": [
      " - 11s - loss: 0.5970 - acc: 0.6712 - val_loss: 0.5170 - val_acc: 0.8091\n",
      "\n",
      "Epoch 00002: val_acc did not improve from 0.90076\n",
      "Epoch 3/16\n"
     ]
    },
    {
     "data": {
      "application/vnd.jupyter.widget-view+json": {
       "model_id": "",
       "version_major": 2,
       "version_minor": 0
      },
      "text/plain": [
       "HBox(children=(IntProgress(value=0, description='Epoch 2', max=25000, style=ProgressStyle(description_width='i…"
      ]
     },
     "metadata": {},
     "output_type": "display_data"
    },
    {
     "name": "stdout",
     "output_type": "stream",
     "text": [
      " - 11s - loss: 0.4796 - acc: 0.7774 - val_loss: 0.4513 - val_acc: 0.8341\n",
      "\n",
      "Epoch 00003: val_acc did not improve from 0.90076\n",
      "Epoch 4/16\n"
     ]
    },
    {
     "data": {
      "application/vnd.jupyter.widget-view+json": {
       "model_id": "",
       "version_major": 2,
       "version_minor": 0
      },
      "text/plain": [
       "HBox(children=(IntProgress(value=0, description='Epoch 3', max=25000, style=ProgressStyle(description_width='i…"
      ]
     },
     "metadata": {},
     "output_type": "display_data"
    },
    {
     "name": "stdout",
     "output_type": "stream",
     "text": [
      " - 11s - loss: 0.4372 - acc: 0.7997 - val_loss: 0.4476 - val_acc: 0.8300\n",
      "\n",
      "Epoch 00004: val_acc did not improve from 0.90076\n",
      "Epoch 5/16\n"
     ]
    },
    {
     "data": {
      "application/vnd.jupyter.widget-view+json": {
       "model_id": "",
       "version_major": 2,
       "version_minor": 0
      },
      "text/plain": [
       "HBox(children=(IntProgress(value=0, description='Epoch 4', max=25000, style=ProgressStyle(description_width='i…"
      ]
     },
     "metadata": {},
     "output_type": "display_data"
    },
    {
     "name": "stdout",
     "output_type": "stream",
     "text": [
      " - 11s - loss: 0.4173 - acc: 0.8123 - val_loss: 0.3858 - val_acc: 0.8516\n",
      "\n",
      "Epoch 00005: val_acc did not improve from 0.90076\n",
      "Epoch 6/16\n"
     ]
    },
    {
     "data": {
      "application/vnd.jupyter.widget-view+json": {
       "model_id": "",
       "version_major": 2,
       "version_minor": 0
      },
      "text/plain": [
       "HBox(children=(IntProgress(value=0, description='Epoch 5', max=25000, style=ProgressStyle(description_width='i…"
      ]
     },
     "metadata": {},
     "output_type": "display_data"
    },
    {
     "name": "stdout",
     "output_type": "stream",
     "text": [
      " - 11s - loss: 0.4040 - acc: 0.8204 - val_loss: 0.4067 - val_acc: 0.8592\n",
      "\n",
      "Epoch 00006: val_acc did not improve from 0.90076\n",
      "Epoch 7/16\n"
     ]
    },
    {
     "data": {
      "application/vnd.jupyter.widget-view+json": {
       "model_id": "",
       "version_major": 2,
       "version_minor": 0
      },
      "text/plain": [
       "HBox(children=(IntProgress(value=0, description='Epoch 6', max=25000, style=ProgressStyle(description_width='i…"
      ]
     },
     "metadata": {},
     "output_type": "display_data"
    },
    {
     "name": "stdout",
     "output_type": "stream",
     "text": [
      " - 11s - loss: 0.3956 - acc: 0.8246 - val_loss: 0.4248 - val_acc: 0.8561\n",
      "\n",
      "Epoch 00007: val_acc did not improve from 0.90076\n",
      "Epoch 8/16\n"
     ]
    },
    {
     "data": {
      "application/vnd.jupyter.widget-view+json": {
       "model_id": "",
       "version_major": 2,
       "version_minor": 0
      },
      "text/plain": [
       "HBox(children=(IntProgress(value=0, description='Epoch 7', max=25000, style=ProgressStyle(description_width='i…"
      ]
     },
     "metadata": {},
     "output_type": "display_data"
    },
    {
     "name": "stdout",
     "output_type": "stream",
     "text": [
      " - 11s - loss: 0.3894 - acc: 0.8268 - val_loss: 0.4034 - val_acc: 0.8610\n",
      "\n",
      "Epoch 00008: val_acc did not improve from 0.90076\n",
      "Epoch 9/16\n"
     ]
    },
    {
     "data": {
      "application/vnd.jupyter.widget-view+json": {
       "model_id": "",
       "version_major": 2,
       "version_minor": 0
      },
      "text/plain": [
       "HBox(children=(IntProgress(value=0, description='Epoch 8', max=25000, style=ProgressStyle(description_width='i…"
      ]
     },
     "metadata": {},
     "output_type": "display_data"
    },
    {
     "name": "stdout",
     "output_type": "stream",
     "text": [
      " - 11s - loss: 0.3808 - acc: 0.8336 - val_loss: 0.3890 - val_acc: 0.8690\n",
      "\n",
      "Epoch 00009: val_acc did not improve from 0.90076\n",
      "Epoch 10/16\n"
     ]
    },
    {
     "data": {
      "application/vnd.jupyter.widget-view+json": {
       "model_id": "",
       "version_major": 2,
       "version_minor": 0
      },
      "text/plain": [
       "HBox(children=(IntProgress(value=0, description='Epoch 9', max=25000, style=ProgressStyle(description_width='i…"
      ]
     },
     "metadata": {},
     "output_type": "display_data"
    },
    {
     "name": "stdout",
     "output_type": "stream",
     "text": [
      " - 11s - loss: 0.3766 - acc: 0.8362 - val_loss: 0.4332 - val_acc: 0.8296\n",
      "\n",
      "Epoch 00010: val_acc did not improve from 0.90076\n",
      "Epoch 11/16\n"
     ]
    },
    {
     "data": {
      "application/vnd.jupyter.widget-view+json": {
       "model_id": "",
       "version_major": 2,
       "version_minor": 0
      },
      "text/plain": [
       "HBox(children=(IntProgress(value=0, description='Epoch 10', max=25000, style=ProgressStyle(description_width='…"
      ]
     },
     "metadata": {},
     "output_type": "display_data"
    },
    {
     "name": "stdout",
     "output_type": "stream",
     "text": [
      " - 11s - loss: 0.3737 - acc: 0.8367 - val_loss: 0.3902 - val_acc: 0.8586\n",
      "\n",
      "Epoch 00011: val_acc did not improve from 0.90076\n",
      "\n",
      "Test Accuracy: 85.86%\n",
      "<keras.callbacks.History object at 0x7f98263ad5f8>\n"
     ]
    },
    {
     "data": {
      "text/html": [
       "<div>\n",
       "<style scoped>\n",
       "    .dataframe tbody tr th:only-of-type {\n",
       "        vertical-align: middle;\n",
       "    }\n",
       "\n",
       "    .dataframe tbody tr th {\n",
       "        vertical-align: top;\n",
       "    }\n",
       "\n",
       "    .dataframe thead th {\n",
       "        text-align: right;\n",
       "    }\n",
       "</style>\n",
       "<table border=\"1\" class=\"dataframe\">\n",
       "  <thead>\n",
       "    <tr style=\"text-align: right;\">\n",
       "      <th></th>\n",
       "      <th>use_cleaned_docs</th>\n",
       "      <th>number_of_additional_conv_layers</th>\n",
       "      <th>use_pre_trained_embedding</th>\n",
       "      <th>trainable_for_embedding</th>\n",
       "      <th>number_of_filters</th>\n",
       "      <th>use_dropout</th>\n",
       "    </tr>\n",
       "  </thead>\n",
       "  <tbody>\n",
       "    <tr>\n",
       "      <th>5</th>\n",
       "      <td>False</td>\n",
       "      <td>2</td>\n",
       "      <td>True</td>\n",
       "      <td>False</td>\n",
       "      <td>48</td>\n",
       "      <td>False</td>\n",
       "    </tr>\n",
       "  </tbody>\n",
       "</table>\n",
       "</div>"
      ],
      "text/plain": [
       "   use_cleaned_docs  number_of_additional_conv_layers  \\\n",
       "5             False                                 2   \n",
       "\n",
       "   use_pre_trained_embedding  trainable_for_embedding  number_of_filters  \\\n",
       "5                       True                    False                 48   \n",
       "\n",
       "   use_dropout  \n",
       "5        False  "
      ]
     },
     "metadata": {},
     "output_type": "display_data"
    },
    {
     "name": "stdout",
     "output_type": "stream",
     "text": [
      "Fitted tokenizer on 25000 documents\n",
      "Top 5 most common words are: [('the', 336148), ('and', 164097), ('a', 163040), ('of', 145847), ('to', 135708)]\n",
      "_________________________________________________________________\n",
      "Layer (type)                 Output Shape              Param #   \n",
      "=================================================================\n",
      "embedding_1 (Embedding)      (None, 2470, 200)         17716600  \n",
      "_________________________________________________________________\n",
      "conv1d_1 (Conv1D)            (None, 2466, 48)          48048     \n",
      "_________________________________________________________________\n",
      "max_pooling1d_1 (MaxPooling1 (None, 493, 48)           0         \n",
      "_________________________________________________________________\n",
      "conv1d_2 (Conv1D)            (None, 489, 48)           11568     \n",
      "_________________________________________________________________\n",
      "max_pooling1d_2 (MaxPooling1 (None, 97, 48)            0         \n",
      "_________________________________________________________________\n",
      "conv1d_3 (Conv1D)            (None, 93, 48)            11568     \n",
      "_________________________________________________________________\n",
      "max_pooling1d_3 (MaxPooling1 (None, 9, 48)             0         \n",
      "_________________________________________________________________\n",
      "flatten_1 (Flatten)          (None, 432)               0         \n",
      "_________________________________________________________________\n",
      "dense_1 (Dense)              (None, 128)               55424     \n",
      "_________________________________________________________________\n",
      "dense_2 (Dense)              (None, 1)                 129       \n",
      "=================================================================\n",
      "Total params: 17,843,337\n",
      "Trainable params: 126,737\n",
      "Non-trainable params: 17,716,600\n",
      "_________________________________________________________________\n",
      "Train on 25000 samples, validate on 25000 samples\n"
     ]
    },
    {
     "data": {
      "application/vnd.jupyter.widget-view+json": {
       "model_id": "d1d3c96f2dc54b7a85ff3ac4195ddee3",
       "version_major": 2,
       "version_minor": 0
      },
      "text/plain": [
       "HBox(children=(IntProgress(value=0, description='Training', max=16, style=ProgressStyle(description_width='ini…"
      ]
     },
     "metadata": {},
     "output_type": "display_data"
    },
    {
     "name": "stdout",
     "output_type": "stream",
     "text": [
      "Epoch 1/16\n"
     ]
    },
    {
     "data": {
      "application/vnd.jupyter.widget-view+json": {
       "model_id": "",
       "version_major": 2,
       "version_minor": 0
      },
      "text/plain": [
       "HBox(children=(IntProgress(value=0, description='Epoch 0', max=25000, style=ProgressStyle(description_width='i…"
      ]
     },
     "metadata": {},
     "output_type": "display_data"
    },
    {
     "name": "stdout",
     "output_type": "stream",
     "text": [
      " - 9s - loss: 0.4921 - acc: 0.7346 - val_loss: 0.3601 - val_acc: 0.8431\n",
      "\n",
      "Epoch 00001: val_acc did not improve from 0.90076\n",
      "Epoch 2/16\n"
     ]
    },
    {
     "data": {
      "application/vnd.jupyter.widget-view+json": {
       "model_id": "",
       "version_major": 2,
       "version_minor": 0
      },
      "text/plain": [
       "HBox(children=(IntProgress(value=0, description='Epoch 1', max=25000, style=ProgressStyle(description_width='i…"
      ]
     },
     "metadata": {},
     "output_type": "display_data"
    },
    {
     "name": "stdout",
     "output_type": "stream",
     "text": [
      " - 9s - loss: 0.3204 - acc: 0.8635 - val_loss: 0.3393 - val_acc: 0.8496\n",
      "\n",
      "Epoch 00002: val_acc did not improve from 0.90076\n",
      "Epoch 3/16\n"
     ]
    },
    {
     "data": {
      "application/vnd.jupyter.widget-view+json": {
       "model_id": "",
       "version_major": 2,
       "version_minor": 0
      },
      "text/plain": [
       "HBox(children=(IntProgress(value=0, description='Epoch 2', max=25000, style=ProgressStyle(description_width='i…"
      ]
     },
     "metadata": {},
     "output_type": "display_data"
    },
    {
     "name": "stdout",
     "output_type": "stream",
     "text": [
      " - 9s - loss: 0.2712 - acc: 0.8878 - val_loss: 0.2919 - val_acc: 0.8746\n",
      "\n",
      "Epoch 00003: val_acc did not improve from 0.90076\n",
      "Epoch 4/16\n"
     ]
    },
    {
     "data": {
      "application/vnd.jupyter.widget-view+json": {
       "model_id": "",
       "version_major": 2,
       "version_minor": 0
      },
      "text/plain": [
       "HBox(children=(IntProgress(value=0, description='Epoch 3', max=25000, style=ProgressStyle(description_width='i…"
      ]
     },
     "metadata": {},
     "output_type": "display_data"
    },
    {
     "name": "stdout",
     "output_type": "stream",
     "text": [
      " - 9s - loss: 0.2241 - acc: 0.9090 - val_loss: 0.3157 - val_acc: 0.8655\n",
      "\n",
      "Epoch 00004: val_acc did not improve from 0.90076\n",
      "Epoch 5/16\n"
     ]
    },
    {
     "data": {
      "application/vnd.jupyter.widget-view+json": {
       "model_id": "",
       "version_major": 2,
       "version_minor": 0
      },
      "text/plain": [
       "HBox(children=(IntProgress(value=0, description='Epoch 4', max=25000, style=ProgressStyle(description_width='i…"
      ]
     },
     "metadata": {},
     "output_type": "display_data"
    },
    {
     "name": "stdout",
     "output_type": "stream",
     "text": [
      " - 9s - loss: 0.1761 - acc: 0.9324 - val_loss: 0.3397 - val_acc: 0.8604\n",
      "\n",
      "Epoch 00005: val_acc did not improve from 0.90076\n",
      "\n",
      "Test Accuracy: 86.04%\n",
      "<keras.callbacks.History object at 0x7f97344ee550>\n"
     ]
    },
    {
     "data": {
      "text/html": [
       "<div>\n",
       "<style scoped>\n",
       "    .dataframe tbody tr th:only-of-type {\n",
       "        vertical-align: middle;\n",
       "    }\n",
       "\n",
       "    .dataframe tbody tr th {\n",
       "        vertical-align: top;\n",
       "    }\n",
       "\n",
       "    .dataframe thead th {\n",
       "        text-align: right;\n",
       "    }\n",
       "</style>\n",
       "<table border=\"1\" class=\"dataframe\">\n",
       "  <thead>\n",
       "    <tr style=\"text-align: right;\">\n",
       "      <th></th>\n",
       "      <th>use_cleaned_docs</th>\n",
       "      <th>number_of_additional_conv_layers</th>\n",
       "      <th>use_pre_trained_embedding</th>\n",
       "      <th>trainable_for_embedding</th>\n",
       "      <th>number_of_filters</th>\n",
       "      <th>use_dropout</th>\n",
       "    </tr>\n",
       "  </thead>\n",
       "  <tbody>\n",
       "    <tr>\n",
       "      <th>6</th>\n",
       "      <td>False</td>\n",
       "      <td>2</td>\n",
       "      <td>True</td>\n",
       "      <td>False</td>\n",
       "      <td>96</td>\n",
       "      <td>True</td>\n",
       "    </tr>\n",
       "  </tbody>\n",
       "</table>\n",
       "</div>"
      ],
      "text/plain": [
       "   use_cleaned_docs  number_of_additional_conv_layers  \\\n",
       "6             False                                 2   \n",
       "\n",
       "   use_pre_trained_embedding  trainable_for_embedding  number_of_filters  \\\n",
       "6                       True                    False                 96   \n",
       "\n",
       "   use_dropout  \n",
       "6         True  "
      ]
     },
     "metadata": {},
     "output_type": "display_data"
    },
    {
     "name": "stdout",
     "output_type": "stream",
     "text": [
      "Fitted tokenizer on 25000 documents\n",
      "Top 5 most common words are: [('the', 336148), ('and', 164097), ('a', 163040), ('of', 145847), ('to', 135708)]\n",
      "_________________________________________________________________\n",
      "Layer (type)                 Output Shape              Param #   \n",
      "=================================================================\n",
      "embedding_1 (Embedding)      (None, 2470, 200)         17716600  \n",
      "_________________________________________________________________\n",
      "dropout_1 (Dropout)          (None, 2470, 200)         0         \n",
      "_________________________________________________________________\n",
      "conv1d_1 (Conv1D)            (None, 2466, 96)          96096     \n",
      "_________________________________________________________________\n",
      "max_pooling1d_1 (MaxPooling1 (None, 493, 96)           0         \n",
      "_________________________________________________________________\n",
      "dropout_2 (Dropout)          (None, 493, 96)           0         \n",
      "_________________________________________________________________\n",
      "conv1d_2 (Conv1D)            (None, 489, 96)           46176     \n",
      "_________________________________________________________________\n",
      "max_pooling1d_2 (MaxPooling1 (None, 97, 96)            0         \n",
      "_________________________________________________________________\n",
      "dropout_3 (Dropout)          (None, 97, 96)            0         \n",
      "_________________________________________________________________\n",
      "conv1d_3 (Conv1D)            (None, 93, 96)            46176     \n",
      "_________________________________________________________________\n",
      "max_pooling1d_3 (MaxPooling1 (None, 9, 96)             0         \n",
      "_________________________________________________________________\n",
      "dropout_4 (Dropout)          (None, 9, 96)             0         \n",
      "_________________________________________________________________\n",
      "flatten_1 (Flatten)          (None, 864)               0         \n",
      "_________________________________________________________________\n",
      "dense_1 (Dense)              (None, 128)               110720    \n",
      "_________________________________________________________________\n",
      "dense_2 (Dense)              (None, 1)                 129       \n",
      "=================================================================\n",
      "Total params: 18,015,897\n",
      "Trainable params: 299,297\n",
      "Non-trainable params: 17,716,600\n",
      "_________________________________________________________________\n",
      "Train on 25000 samples, validate on 25000 samples\n"
     ]
    },
    {
     "data": {
      "application/vnd.jupyter.widget-view+json": {
       "model_id": "9a00a4a907c84267af36ed21d5f7a0ef",
       "version_major": 2,
       "version_minor": 0
      },
      "text/plain": [
       "HBox(children=(IntProgress(value=0, description='Training', max=16, style=ProgressStyle(description_width='ini…"
      ]
     },
     "metadata": {},
     "output_type": "display_data"
    },
    {
     "name": "stdout",
     "output_type": "stream",
     "text": [
      "Epoch 1/16\n"
     ]
    },
    {
     "data": {
      "application/vnd.jupyter.widget-view+json": {
       "model_id": "",
       "version_major": 2,
       "version_minor": 0
      },
      "text/plain": [
       "HBox(children=(IntProgress(value=0, description='Epoch 0', max=25000, style=ProgressStyle(description_width='i…"
      ]
     },
     "metadata": {},
     "output_type": "display_data"
    },
    {
     "name": "stdout",
     "output_type": "stream",
     "text": [
      " - 15s - loss: 0.7009 - acc: 0.5149 - val_loss: 0.6832 - val_acc: 0.5532\n",
      "\n",
      "Epoch 00001: val_acc did not improve from 0.90076\n",
      "Epoch 2/16\n"
     ]
    },
    {
     "data": {
      "application/vnd.jupyter.widget-view+json": {
       "model_id": "",
       "version_major": 2,
       "version_minor": 0
      },
      "text/plain": [
       "HBox(children=(IntProgress(value=0, description='Epoch 1', max=25000, style=ProgressStyle(description_width='i…"
      ]
     },
     "metadata": {},
     "output_type": "display_data"
    },
    {
     "name": "stdout",
     "output_type": "stream",
     "text": [
      " - 15s - loss: 0.5476 - acc: 0.7220 - val_loss: 0.4513 - val_acc: 0.8271\n",
      "\n",
      "Epoch 00002: val_acc did not improve from 0.90076\n",
      "Epoch 3/16\n"
     ]
    },
    {
     "data": {
      "application/vnd.jupyter.widget-view+json": {
       "model_id": "",
       "version_major": 2,
       "version_minor": 0
      },
      "text/plain": [
       "HBox(children=(IntProgress(value=0, description='Epoch 2', max=25000, style=ProgressStyle(description_width='i…"
      ]
     },
     "metadata": {},
     "output_type": "display_data"
    },
    {
     "name": "stdout",
     "output_type": "stream",
     "text": [
      " - 15s - loss: 0.4486 - acc: 0.7939 - val_loss: 0.4102 - val_acc: 0.8407\n",
      "\n",
      "Epoch 00003: val_acc did not improve from 0.90076\n",
      "Epoch 4/16\n"
     ]
    },
    {
     "data": {
      "application/vnd.jupyter.widget-view+json": {
       "model_id": "",
       "version_major": 2,
       "version_minor": 0
      },
      "text/plain": [
       "HBox(children=(IntProgress(value=0, description='Epoch 3', max=25000, style=ProgressStyle(description_width='i…"
      ]
     },
     "metadata": {},
     "output_type": "display_data"
    },
    {
     "name": "stdout",
     "output_type": "stream",
     "text": [
      " - 15s - loss: 0.4104 - acc: 0.8150 - val_loss: 0.3802 - val_acc: 0.8570\n",
      "\n",
      "Epoch 00004: val_acc did not improve from 0.90076\n",
      "Epoch 5/16\n"
     ]
    },
    {
     "data": {
      "application/vnd.jupyter.widget-view+json": {
       "model_id": "",
       "version_major": 2,
       "version_minor": 0
      },
      "text/plain": [
       "HBox(children=(IntProgress(value=0, description='Epoch 4', max=25000, style=ProgressStyle(description_width='i…"
      ]
     },
     "metadata": {},
     "output_type": "display_data"
    },
    {
     "name": "stdout",
     "output_type": "stream",
     "text": [
      " - 15s - loss: 0.4001 - acc: 0.8235 - val_loss: 0.3762 - val_acc: 0.8577\n",
      "\n",
      "Epoch 00005: val_acc did not improve from 0.90076\n",
      "Epoch 6/16\n"
     ]
    },
    {
     "data": {
      "application/vnd.jupyter.widget-view+json": {
       "model_id": "",
       "version_major": 2,
       "version_minor": 0
      },
      "text/plain": [
       "HBox(children=(IntProgress(value=0, description='Epoch 5', max=25000, style=ProgressStyle(description_width='i…"
      ]
     },
     "metadata": {},
     "output_type": "display_data"
    },
    {
     "name": "stdout",
     "output_type": "stream",
     "text": [
      " - 15s - loss: 0.3915 - acc: 0.8274 - val_loss: 0.3851 - val_acc: 0.8627\n",
      "\n",
      "Epoch 00006: val_acc did not improve from 0.90076\n",
      "Epoch 7/16\n"
     ]
    },
    {
     "data": {
      "application/vnd.jupyter.widget-view+json": {
       "model_id": "",
       "version_major": 2,
       "version_minor": 0
      },
      "text/plain": [
       "HBox(children=(IntProgress(value=0, description='Epoch 6', max=25000, style=ProgressStyle(description_width='i…"
      ]
     },
     "metadata": {},
     "output_type": "display_data"
    },
    {
     "name": "stdout",
     "output_type": "stream",
     "text": [
      " - 15s - loss: 0.3762 - acc: 0.8337 - val_loss: 0.3647 - val_acc: 0.8588\n",
      "\n",
      "Epoch 00007: val_acc did not improve from 0.90076\n",
      "Epoch 8/16\n"
     ]
    },
    {
     "data": {
      "application/vnd.jupyter.widget-view+json": {
       "model_id": "",
       "version_major": 2,
       "version_minor": 0
      },
      "text/plain": [
       "HBox(children=(IntProgress(value=0, description='Epoch 7', max=25000, style=ProgressStyle(description_width='i…"
      ]
     },
     "metadata": {},
     "output_type": "display_data"
    },
    {
     "name": "stdout",
     "output_type": "stream",
     "text": [
      " - 15s - loss: 0.3717 - acc: 0.8368 - val_loss: 0.3478 - val_acc: 0.8643\n",
      "\n",
      "Epoch 00008: val_acc did not improve from 0.90076\n",
      "Epoch 9/16\n"
     ]
    },
    {
     "data": {
      "application/vnd.jupyter.widget-view+json": {
       "model_id": "",
       "version_major": 2,
       "version_minor": 0
      },
      "text/plain": [
       "HBox(children=(IntProgress(value=0, description='Epoch 8', max=25000, style=ProgressStyle(description_width='i…"
      ]
     },
     "metadata": {},
     "output_type": "display_data"
    },
    {
     "name": "stdout",
     "output_type": "stream",
     "text": [
      " - 15s - loss: 0.3583 - acc: 0.8438 - val_loss: 0.3429 - val_acc: 0.8704\n",
      "\n",
      "Epoch 00009: val_acc did not improve from 0.90076\n",
      "Epoch 10/16\n"
     ]
    },
    {
     "data": {
      "application/vnd.jupyter.widget-view+json": {
       "model_id": "",
       "version_major": 2,
       "version_minor": 0
      },
      "text/plain": [
       "HBox(children=(IntProgress(value=0, description='Epoch 9', max=25000, style=ProgressStyle(description_width='i…"
      ]
     },
     "metadata": {},
     "output_type": "display_data"
    },
    {
     "name": "stdout",
     "output_type": "stream",
     "text": [
      " - 15s - loss: 0.3586 - acc: 0.8445 - val_loss: 0.3549 - val_acc: 0.8736\n",
      "\n",
      "Epoch 00010: val_acc did not improve from 0.90076\n",
      "Epoch 11/16\n"
     ]
    },
    {
     "data": {
      "application/vnd.jupyter.widget-view+json": {
       "model_id": "",
       "version_major": 2,
       "version_minor": 0
      },
      "text/plain": [
       "HBox(children=(IntProgress(value=0, description='Epoch 10', max=25000, style=ProgressStyle(description_width='…"
      ]
     },
     "metadata": {},
     "output_type": "display_data"
    },
    {
     "name": "stdout",
     "output_type": "stream",
     "text": [
      " - 15s - loss: 0.3535 - acc: 0.8468 - val_loss: 0.3100 - val_acc: 0.8777\n",
      "\n",
      "Epoch 00011: val_acc did not improve from 0.90076\n",
      "Epoch 12/16\n"
     ]
    },
    {
     "data": {
      "application/vnd.jupyter.widget-view+json": {
       "model_id": "",
       "version_major": 2,
       "version_minor": 0
      },
      "text/plain": [
       "HBox(children=(IntProgress(value=0, description='Epoch 11', max=25000, style=ProgressStyle(description_width='…"
      ]
     },
     "metadata": {},
     "output_type": "display_data"
    },
    {
     "name": "stdout",
     "output_type": "stream",
     "text": [
      " - 15s - loss: 0.3435 - acc: 0.8499 - val_loss: 0.3355 - val_acc: 0.8671\n",
      "\n",
      "Epoch 00012: val_acc did not improve from 0.90076\n",
      "Epoch 13/16\n"
     ]
    },
    {
     "data": {
      "application/vnd.jupyter.widget-view+json": {
       "model_id": "",
       "version_major": 2,
       "version_minor": 0
      },
      "text/plain": [
       "HBox(children=(IntProgress(value=0, description='Epoch 12', max=25000, style=ProgressStyle(description_width='…"
      ]
     },
     "metadata": {},
     "output_type": "display_data"
    },
    {
     "name": "stdout",
     "output_type": "stream",
     "text": [
      " - 15s - loss: 0.3446 - acc: 0.8501 - val_loss: 0.3108 - val_acc: 0.8783\n",
      "\n",
      "Epoch 00013: val_acc did not improve from 0.90076\n",
      "Epoch 14/16\n"
     ]
    },
    {
     "data": {
      "application/vnd.jupyter.widget-view+json": {
       "model_id": "",
       "version_major": 2,
       "version_minor": 0
      },
      "text/plain": [
       "HBox(children=(IntProgress(value=0, description='Epoch 13', max=25000, style=ProgressStyle(description_width='…"
      ]
     },
     "metadata": {},
     "output_type": "display_data"
    },
    {
     "name": "stdout",
     "output_type": "stream",
     "text": [
      " - 15s - loss: 0.3378 - acc: 0.8545 - val_loss: 0.3215 - val_acc: 0.8791\n",
      "\n",
      "Epoch 00014: val_acc did not improve from 0.90076\n",
      "Epoch 15/16\n"
     ]
    },
    {
     "data": {
      "application/vnd.jupyter.widget-view+json": {
       "model_id": "",
       "version_major": 2,
       "version_minor": 0
      },
      "text/plain": [
       "HBox(children=(IntProgress(value=0, description='Epoch 14', max=25000, style=ProgressStyle(description_width='…"
      ]
     },
     "metadata": {},
     "output_type": "display_data"
    },
    {
     "name": "stdout",
     "output_type": "stream",
     "text": [
      " - 15s - loss: 0.3358 - acc: 0.8567 - val_loss: 0.3042 - val_acc: 0.8808\n",
      "\n",
      "Epoch 00015: val_acc did not improve from 0.90076\n",
      "Epoch 16/16\n"
     ]
    },
    {
     "data": {
      "application/vnd.jupyter.widget-view+json": {
       "model_id": "",
       "version_major": 2,
       "version_minor": 0
      },
      "text/plain": [
       "HBox(children=(IntProgress(value=0, description='Epoch 15', max=25000, style=ProgressStyle(description_width='…"
      ]
     },
     "metadata": {},
     "output_type": "display_data"
    },
    {
     "name": "stdout",
     "output_type": "stream",
     "text": [
      " - 15s - loss: 0.3257 - acc: 0.8602 - val_loss: 0.3155 - val_acc: 0.8728\n",
      "\n",
      "Epoch 00016: val_acc did not improve from 0.90076\n",
      "\n",
      "Test Accuracy: 87.28%\n",
      "<keras.callbacks.History object at 0x7f97e35359e8>\n"
     ]
    },
    {
     "data": {
      "text/html": [
       "<div>\n",
       "<style scoped>\n",
       "    .dataframe tbody tr th:only-of-type {\n",
       "        vertical-align: middle;\n",
       "    }\n",
       "\n",
       "    .dataframe tbody tr th {\n",
       "        vertical-align: top;\n",
       "    }\n",
       "\n",
       "    .dataframe thead th {\n",
       "        text-align: right;\n",
       "    }\n",
       "</style>\n",
       "<table border=\"1\" class=\"dataframe\">\n",
       "  <thead>\n",
       "    <tr style=\"text-align: right;\">\n",
       "      <th></th>\n",
       "      <th>use_cleaned_docs</th>\n",
       "      <th>number_of_additional_conv_layers</th>\n",
       "      <th>use_pre_trained_embedding</th>\n",
       "      <th>trainable_for_embedding</th>\n",
       "      <th>number_of_filters</th>\n",
       "      <th>use_dropout</th>\n",
       "    </tr>\n",
       "  </thead>\n",
       "  <tbody>\n",
       "    <tr>\n",
       "      <th>7</th>\n",
       "      <td>False</td>\n",
       "      <td>2</td>\n",
       "      <td>True</td>\n",
       "      <td>False</td>\n",
       "      <td>96</td>\n",
       "      <td>False</td>\n",
       "    </tr>\n",
       "  </tbody>\n",
       "</table>\n",
       "</div>"
      ],
      "text/plain": [
       "   use_cleaned_docs  number_of_additional_conv_layers  \\\n",
       "7             False                                 2   \n",
       "\n",
       "   use_pre_trained_embedding  trainable_for_embedding  number_of_filters  \\\n",
       "7                       True                    False                 96   \n",
       "\n",
       "   use_dropout  \n",
       "7        False  "
      ]
     },
     "metadata": {},
     "output_type": "display_data"
    },
    {
     "name": "stdout",
     "output_type": "stream",
     "text": [
      "Fitted tokenizer on 25000 documents\n",
      "Top 5 most common words are: [('the', 336148), ('and', 164097), ('a', 163040), ('of', 145847), ('to', 135708)]\n",
      "_________________________________________________________________\n",
      "Layer (type)                 Output Shape              Param #   \n",
      "=================================================================\n",
      "embedding_1 (Embedding)      (None, 2470, 200)         17716600  \n",
      "_________________________________________________________________\n",
      "conv1d_1 (Conv1D)            (None, 2466, 96)          96096     \n",
      "_________________________________________________________________\n",
      "max_pooling1d_1 (MaxPooling1 (None, 493, 96)           0         \n",
      "_________________________________________________________________\n",
      "conv1d_2 (Conv1D)            (None, 489, 96)           46176     \n",
      "_________________________________________________________________\n",
      "max_pooling1d_2 (MaxPooling1 (None, 97, 96)            0         \n",
      "_________________________________________________________________\n",
      "conv1d_3 (Conv1D)            (None, 93, 96)            46176     \n",
      "_________________________________________________________________\n",
      "max_pooling1d_3 (MaxPooling1 (None, 9, 96)             0         \n",
      "_________________________________________________________________\n",
      "flatten_1 (Flatten)          (None, 864)               0         \n",
      "_________________________________________________________________\n",
      "dense_1 (Dense)              (None, 128)               110720    \n",
      "_________________________________________________________________\n",
      "dense_2 (Dense)              (None, 1)                 129       \n",
      "=================================================================\n",
      "Total params: 18,015,897\n",
      "Trainable params: 299,297\n",
      "Non-trainable params: 17,716,600\n",
      "_________________________________________________________________\n",
      "Train on 25000 samples, validate on 25000 samples\n"
     ]
    },
    {
     "data": {
      "application/vnd.jupyter.widget-view+json": {
       "model_id": "ba69292b468c4f4fa121682ed4fbfd3f",
       "version_major": 2,
       "version_minor": 0
      },
      "text/plain": [
       "HBox(children=(IntProgress(value=0, description='Training', max=16, style=ProgressStyle(description_width='ini…"
      ]
     },
     "metadata": {},
     "output_type": "display_data"
    },
    {
     "name": "stdout",
     "output_type": "stream",
     "text": [
      "Epoch 1/16\n"
     ]
    },
    {
     "data": {
      "application/vnd.jupyter.widget-view+json": {
       "model_id": "",
       "version_major": 2,
       "version_minor": 0
      },
      "text/plain": [
       "HBox(children=(IntProgress(value=0, description='Epoch 0', max=25000, style=ProgressStyle(description_width='i…"
      ]
     },
     "metadata": {},
     "output_type": "display_data"
    },
    {
     "name": "stdout",
     "output_type": "stream",
     "text": [
      " - 13s - loss: 0.4876 - acc: 0.7501 - val_loss: 0.3266 - val_acc: 0.8595\n",
      "\n",
      "Epoch 00001: val_acc did not improve from 0.90076\n",
      "Epoch 2/16\n"
     ]
    },
    {
     "data": {
      "application/vnd.jupyter.widget-view+json": {
       "model_id": "",
       "version_major": 2,
       "version_minor": 0
      },
      "text/plain": [
       "HBox(children=(IntProgress(value=0, description='Epoch 1', max=25000, style=ProgressStyle(description_width='i…"
      ]
     },
     "metadata": {},
     "output_type": "display_data"
    },
    {
     "name": "stdout",
     "output_type": "stream",
     "text": [
      " - 13s - loss: 0.3002 - acc: 0.8719 - val_loss: 0.2978 - val_acc: 0.8729\n",
      "\n",
      "Epoch 00002: val_acc did not improve from 0.90076\n",
      "Epoch 3/16\n"
     ]
    },
    {
     "data": {
      "application/vnd.jupyter.widget-view+json": {
       "model_id": "",
       "version_major": 2,
       "version_minor": 0
      },
      "text/plain": [
       "HBox(children=(IntProgress(value=0, description='Epoch 2', max=25000, style=ProgressStyle(description_width='i…"
      ]
     },
     "metadata": {},
     "output_type": "display_data"
    },
    {
     "name": "stdout",
     "output_type": "stream",
     "text": [
      " - 13s - loss: 0.2313 - acc: 0.9075 - val_loss: 0.3219 - val_acc: 0.8674\n",
      "\n",
      "Epoch 00003: val_acc did not improve from 0.90076\n",
      "Epoch 4/16\n"
     ]
    },
    {
     "data": {
      "application/vnd.jupyter.widget-view+json": {
       "model_id": "",
       "version_major": 2,
       "version_minor": 0
      },
      "text/plain": [
       "HBox(children=(IntProgress(value=0, description='Epoch 3', max=25000, style=ProgressStyle(description_width='i…"
      ]
     },
     "metadata": {},
     "output_type": "display_data"
    },
    {
     "name": "stdout",
     "output_type": "stream",
     "text": [
      " - 13s - loss: 0.1666 - acc: 0.9371 - val_loss: 0.3089 - val_acc: 0.8798\n",
      "\n",
      "Epoch 00004: val_acc did not improve from 0.90076\n",
      "Epoch 5/16\n"
     ]
    },
    {
     "data": {
      "application/vnd.jupyter.widget-view+json": {
       "model_id": "",
       "version_major": 2,
       "version_minor": 0
      },
      "text/plain": [
       "HBox(children=(IntProgress(value=0, description='Epoch 4', max=25000, style=ProgressStyle(description_width='i…"
      ]
     },
     "metadata": {},
     "output_type": "display_data"
    },
    {
     "name": "stdout",
     "output_type": "stream",
     "text": [
      " - 13s - loss: 0.1163 - acc: 0.9573 - val_loss: 0.3288 - val_acc: 0.8808\n",
      "\n",
      "Epoch 00005: val_acc did not improve from 0.90076\n",
      "Epoch 6/16\n"
     ]
    },
    {
     "data": {
      "application/vnd.jupyter.widget-view+json": {
       "model_id": "",
       "version_major": 2,
       "version_minor": 0
      },
      "text/plain": [
       "HBox(children=(IntProgress(value=0, description='Epoch 5', max=25000, style=ProgressStyle(description_width='i…"
      ]
     },
     "metadata": {},
     "output_type": "display_data"
    },
    {
     "name": "stdout",
     "output_type": "stream",
     "text": [
      " - 13s - loss: 0.0609 - acc: 0.9808 - val_loss: 0.4670 - val_acc: 0.8699\n",
      "\n",
      "Epoch 00006: val_acc did not improve from 0.90076\n",
      "Epoch 7/16\n"
     ]
    },
    {
     "data": {
      "application/vnd.jupyter.widget-view+json": {
       "model_id": "",
       "version_major": 2,
       "version_minor": 0
      },
      "text/plain": [
       "HBox(children=(IntProgress(value=0, description='Epoch 6', max=25000, style=ProgressStyle(description_width='i…"
      ]
     },
     "metadata": {},
     "output_type": "display_data"
    },
    {
     "name": "stdout",
     "output_type": "stream",
     "text": [
      " - 13s - loss: 0.0585 - acc: 0.9789 - val_loss: 0.4020 - val_acc: 0.8676\n",
      "\n",
      "Epoch 00007: val_acc did not improve from 0.90076\n",
      "\n",
      "Test Accuracy: 86.76%\n",
      "<keras.callbacks.History object at 0x7f979c553908>\n"
     ]
    },
    {
     "data": {
      "text/html": [
       "<div>\n",
       "<style scoped>\n",
       "    .dataframe tbody tr th:only-of-type {\n",
       "        vertical-align: middle;\n",
       "    }\n",
       "\n",
       "    .dataframe tbody tr th {\n",
       "        vertical-align: top;\n",
       "    }\n",
       "\n",
       "    .dataframe thead th {\n",
       "        text-align: right;\n",
       "    }\n",
       "</style>\n",
       "<table border=\"1\" class=\"dataframe\">\n",
       "  <thead>\n",
       "    <tr style=\"text-align: right;\">\n",
       "      <th></th>\n",
       "      <th>use_cleaned_docs</th>\n",
       "      <th>number_of_additional_conv_layers</th>\n",
       "      <th>use_pre_trained_embedding</th>\n",
       "      <th>trainable_for_embedding</th>\n",
       "      <th>number_of_filters</th>\n",
       "      <th>use_dropout</th>\n",
       "    </tr>\n",
       "  </thead>\n",
       "  <tbody>\n",
       "    <tr>\n",
       "      <th>8</th>\n",
       "      <td>False</td>\n",
       "      <td>2</td>\n",
       "      <td>False</td>\n",
       "      <td>True</td>\n",
       "      <td>48</td>\n",
       "      <td>True</td>\n",
       "    </tr>\n",
       "  </tbody>\n",
       "</table>\n",
       "</div>"
      ],
      "text/plain": [
       "   use_cleaned_docs  number_of_additional_conv_layers  \\\n",
       "8             False                                 2   \n",
       "\n",
       "   use_pre_trained_embedding  trainable_for_embedding  number_of_filters  \\\n",
       "8                      False                     True                 48   \n",
       "\n",
       "   use_dropout  \n",
       "8         True  "
      ]
     },
     "metadata": {},
     "output_type": "display_data"
    },
    {
     "name": "stdout",
     "output_type": "stream",
     "text": [
      "Fitted tokenizer on 25000 documents\n",
      "Top 5 most common words are: [('the', 336148), ('and', 164097), ('a', 163040), ('of', 145847), ('to', 135708)]\n",
      "_________________________________________________________________\n",
      "Layer (type)                 Output Shape              Param #   \n",
      "=================================================================\n",
      "embedding_1 (Embedding)      (None, 2470, 200)         17716600  \n",
      "_________________________________________________________________\n",
      "dropout_1 (Dropout)          (None, 2470, 200)         0         \n",
      "_________________________________________________________________\n",
      "conv1d_1 (Conv1D)            (None, 2466, 48)          48048     \n",
      "_________________________________________________________________\n",
      "max_pooling1d_1 (MaxPooling1 (None, 493, 48)           0         \n",
      "_________________________________________________________________\n",
      "dropout_2 (Dropout)          (None, 493, 48)           0         \n",
      "_________________________________________________________________\n",
      "conv1d_2 (Conv1D)            (None, 489, 48)           11568     \n",
      "_________________________________________________________________\n",
      "max_pooling1d_2 (MaxPooling1 (None, 97, 48)            0         \n",
      "_________________________________________________________________\n",
      "dropout_3 (Dropout)          (None, 97, 48)            0         \n",
      "_________________________________________________________________\n",
      "conv1d_3 (Conv1D)            (None, 93, 48)            11568     \n",
      "_________________________________________________________________\n",
      "max_pooling1d_3 (MaxPooling1 (None, 9, 48)             0         \n",
      "_________________________________________________________________\n",
      "dropout_4 (Dropout)          (None, 9, 48)             0         \n",
      "_________________________________________________________________\n",
      "flatten_1 (Flatten)          (None, 432)               0         \n",
      "_________________________________________________________________\n",
      "dense_1 (Dense)              (None, 128)               55424     \n",
      "_________________________________________________________________\n",
      "dense_2 (Dense)              (None, 1)                 129       \n",
      "=================================================================\n",
      "Total params: 17,843,337\n",
      "Trainable params: 17,843,337\n",
      "Non-trainable params: 0\n",
      "_________________________________________________________________\n",
      "Train on 25000 samples, validate on 25000 samples\n"
     ]
    },
    {
     "data": {
      "application/vnd.jupyter.widget-view+json": {
       "model_id": "87f11c175804499fb55f7054ec885b06",
       "version_major": 2,
       "version_minor": 0
      },
      "text/plain": [
       "HBox(children=(IntProgress(value=0, description='Training', max=16, style=ProgressStyle(description_width='ini…"
      ]
     },
     "metadata": {},
     "output_type": "display_data"
    },
    {
     "name": "stdout",
     "output_type": "stream",
     "text": [
      "Epoch 1/16\n"
     ]
    },
    {
     "data": {
      "application/vnd.jupyter.widget-view+json": {
       "model_id": "",
       "version_major": 2,
       "version_minor": 0
      },
      "text/plain": [
       "HBox(children=(IntProgress(value=0, description='Epoch 0', max=25000, style=ProgressStyle(description_width='i…"
      ]
     },
     "metadata": {},
     "output_type": "display_data"
    },
    {
     "name": "stdout",
     "output_type": "stream",
     "text": [
      " - 17s - loss: 0.6925 - acc: 0.5142 - val_loss: 0.6741 - val_acc: 0.7074\n",
      "\n",
      "Epoch 00001: val_acc did not improve from 0.90076\n",
      "Epoch 2/16\n"
     ]
    },
    {
     "data": {
      "application/vnd.jupyter.widget-view+json": {
       "model_id": "",
       "version_major": 2,
       "version_minor": 0
      },
      "text/plain": [
       "HBox(children=(IntProgress(value=0, description='Epoch 1', max=25000, style=ProgressStyle(description_width='i…"
      ]
     },
     "metadata": {},
     "output_type": "display_data"
    },
    {
     "name": "stdout",
     "output_type": "stream",
     "text": [
      " - 17s - loss: 0.3643 - acc: 0.8440 - val_loss: 0.3061 - val_acc: 0.8768\n",
      "\n",
      "Epoch 00002: val_acc did not improve from 0.90076\n",
      "Epoch 3/16\n"
     ]
    },
    {
     "data": {
      "application/vnd.jupyter.widget-view+json": {
       "model_id": "",
       "version_major": 2,
       "version_minor": 0
      },
      "text/plain": [
       "HBox(children=(IntProgress(value=0, description='Epoch 2', max=25000, style=ProgressStyle(description_width='i…"
      ]
     },
     "metadata": {},
     "output_type": "display_data"
    },
    {
     "name": "stdout",
     "output_type": "stream",
     "text": [
      " - 17s - loss: 0.1804 - acc: 0.9342 - val_loss: 0.3063 - val_acc: 0.8671\n",
      "\n",
      "Epoch 00003: val_acc did not improve from 0.90076\n",
      "Epoch 4/16\n"
     ]
    },
    {
     "data": {
      "application/vnd.jupyter.widget-view+json": {
       "model_id": "",
       "version_major": 2,
       "version_minor": 0
      },
      "text/plain": [
       "HBox(children=(IntProgress(value=0, description='Epoch 3', max=25000, style=ProgressStyle(description_width='i…"
      ]
     },
     "metadata": {},
     "output_type": "display_data"
    },
    {
     "name": "stdout",
     "output_type": "stream",
     "text": [
      " - 17s - loss: 0.1051 - acc: 0.9626 - val_loss: 0.3277 - val_acc: 0.8718\n",
      "\n",
      "Epoch 00004: val_acc did not improve from 0.90076\n",
      "\n",
      "Test Accuracy: 87.18%\n",
      "<keras.callbacks.History object at 0x7f97947ea8d0>\n"
     ]
    },
    {
     "data": {
      "text/html": [
       "<div>\n",
       "<style scoped>\n",
       "    .dataframe tbody tr th:only-of-type {\n",
       "        vertical-align: middle;\n",
       "    }\n",
       "\n",
       "    .dataframe tbody tr th {\n",
       "        vertical-align: top;\n",
       "    }\n",
       "\n",
       "    .dataframe thead th {\n",
       "        text-align: right;\n",
       "    }\n",
       "</style>\n",
       "<table border=\"1\" class=\"dataframe\">\n",
       "  <thead>\n",
       "    <tr style=\"text-align: right;\">\n",
       "      <th></th>\n",
       "      <th>use_cleaned_docs</th>\n",
       "      <th>number_of_additional_conv_layers</th>\n",
       "      <th>use_pre_trained_embedding</th>\n",
       "      <th>trainable_for_embedding</th>\n",
       "      <th>number_of_filters</th>\n",
       "      <th>use_dropout</th>\n",
       "    </tr>\n",
       "  </thead>\n",
       "  <tbody>\n",
       "    <tr>\n",
       "      <th>9</th>\n",
       "      <td>False</td>\n",
       "      <td>2</td>\n",
       "      <td>False</td>\n",
       "      <td>True</td>\n",
       "      <td>48</td>\n",
       "      <td>False</td>\n",
       "    </tr>\n",
       "  </tbody>\n",
       "</table>\n",
       "</div>"
      ],
      "text/plain": [
       "   use_cleaned_docs  number_of_additional_conv_layers  \\\n",
       "9             False                                 2   \n",
       "\n",
       "   use_pre_trained_embedding  trainable_for_embedding  number_of_filters  \\\n",
       "9                      False                     True                 48   \n",
       "\n",
       "   use_dropout  \n",
       "9        False  "
      ]
     },
     "metadata": {},
     "output_type": "display_data"
    },
    {
     "name": "stdout",
     "output_type": "stream",
     "text": [
      "Fitted tokenizer on 25000 documents\n",
      "Top 5 most common words are: [('the', 336148), ('and', 164097), ('a', 163040), ('of', 145847), ('to', 135708)]\n",
      "_________________________________________________________________\n",
      "Layer (type)                 Output Shape              Param #   \n",
      "=================================================================\n",
      "embedding_1 (Embedding)      (None, 2470, 200)         17716600  \n",
      "_________________________________________________________________\n",
      "conv1d_1 (Conv1D)            (None, 2466, 48)          48048     \n",
      "_________________________________________________________________\n",
      "max_pooling1d_1 (MaxPooling1 (None, 493, 48)           0         \n",
      "_________________________________________________________________\n",
      "conv1d_2 (Conv1D)            (None, 489, 48)           11568     \n",
      "_________________________________________________________________\n",
      "max_pooling1d_2 (MaxPooling1 (None, 97, 48)            0         \n",
      "_________________________________________________________________\n",
      "conv1d_3 (Conv1D)            (None, 93, 48)            11568     \n",
      "_________________________________________________________________\n",
      "max_pooling1d_3 (MaxPooling1 (None, 9, 48)             0         \n",
      "_________________________________________________________________\n",
      "flatten_1 (Flatten)          (None, 432)               0         \n",
      "_________________________________________________________________\n",
      "dense_1 (Dense)              (None, 128)               55424     \n",
      "_________________________________________________________________\n",
      "dense_2 (Dense)              (None, 1)                 129       \n",
      "=================================================================\n",
      "Total params: 17,843,337\n",
      "Trainable params: 17,843,337\n",
      "Non-trainable params: 0\n",
      "_________________________________________________________________\n",
      "Train on 25000 samples, validate on 25000 samples\n"
     ]
    },
    {
     "data": {
      "application/vnd.jupyter.widget-view+json": {
       "model_id": "bc542f2b04184347a41f753f61df1212",
       "version_major": 2,
       "version_minor": 0
      },
      "text/plain": [
       "HBox(children=(IntProgress(value=0, description='Training', max=16, style=ProgressStyle(description_width='ini…"
      ]
     },
     "metadata": {},
     "output_type": "display_data"
    },
    {
     "name": "stdout",
     "output_type": "stream",
     "text": [
      "Epoch 1/16\n"
     ]
    },
    {
     "data": {
      "application/vnd.jupyter.widget-view+json": {
       "model_id": "",
       "version_major": 2,
       "version_minor": 0
      },
      "text/plain": [
       "HBox(children=(IntProgress(value=0, description='Epoch 0', max=25000, style=ProgressStyle(description_width='i…"
      ]
     },
     "metadata": {},
     "output_type": "display_data"
    },
    {
     "name": "stdout",
     "output_type": "stream",
     "text": [
      " - 13s - loss: 0.4129 - acc: 0.7760 - val_loss: 0.2745 - val_acc: 0.8834\n",
      "\n",
      "Epoch 00001: val_acc did not improve from 0.90076\n",
      "Epoch 2/16\n"
     ]
    },
    {
     "data": {
      "application/vnd.jupyter.widget-view+json": {
       "model_id": "",
       "version_major": 2,
       "version_minor": 0
      },
      "text/plain": [
       "HBox(children=(IntProgress(value=0, description='Epoch 1', max=25000, style=ProgressStyle(description_width='i…"
      ]
     },
     "metadata": {},
     "output_type": "display_data"
    },
    {
     "name": "stdout",
     "output_type": "stream",
     "text": [
      " - 13s - loss: 0.1295 - acc: 0.9545 - val_loss: 0.3371 - val_acc: 0.8644\n",
      "\n",
      "Epoch 00002: val_acc did not improve from 0.90076\n",
      "Epoch 3/16\n"
     ]
    },
    {
     "data": {
      "application/vnd.jupyter.widget-view+json": {
       "model_id": "",
       "version_major": 2,
       "version_minor": 0
      },
      "text/plain": [
       "HBox(children=(IntProgress(value=0, description='Epoch 2', max=25000, style=ProgressStyle(description_width='i…"
      ]
     },
     "metadata": {},
     "output_type": "display_data"
    },
    {
     "name": "stdout",
     "output_type": "stream",
     "text": [
      " - 13s - loss: 0.0277 - acc: 0.9921 - val_loss: 0.4477 - val_acc: 0.8697\n",
      "\n",
      "Epoch 00003: val_acc did not improve from 0.90076\n",
      "\n",
      "Test Accuracy: 86.97%\n",
      "<keras.callbacks.History object at 0x7f98b159eba8>\n"
     ]
    },
    {
     "data": {
      "text/html": [
       "<div>\n",
       "<style scoped>\n",
       "    .dataframe tbody tr th:only-of-type {\n",
       "        vertical-align: middle;\n",
       "    }\n",
       "\n",
       "    .dataframe tbody tr th {\n",
       "        vertical-align: top;\n",
       "    }\n",
       "\n",
       "    .dataframe thead th {\n",
       "        text-align: right;\n",
       "    }\n",
       "</style>\n",
       "<table border=\"1\" class=\"dataframe\">\n",
       "  <thead>\n",
       "    <tr style=\"text-align: right;\">\n",
       "      <th></th>\n",
       "      <th>use_cleaned_docs</th>\n",
       "      <th>number_of_additional_conv_layers</th>\n",
       "      <th>use_pre_trained_embedding</th>\n",
       "      <th>trainable_for_embedding</th>\n",
       "      <th>number_of_filters</th>\n",
       "      <th>use_dropout</th>\n",
       "    </tr>\n",
       "  </thead>\n",
       "  <tbody>\n",
       "    <tr>\n",
       "      <th>10</th>\n",
       "      <td>False</td>\n",
       "      <td>2</td>\n",
       "      <td>False</td>\n",
       "      <td>True</td>\n",
       "      <td>96</td>\n",
       "      <td>True</td>\n",
       "    </tr>\n",
       "  </tbody>\n",
       "</table>\n",
       "</div>"
      ],
      "text/plain": [
       "    use_cleaned_docs  number_of_additional_conv_layers  \\\n",
       "10             False                                 2   \n",
       "\n",
       "    use_pre_trained_embedding  trainable_for_embedding  number_of_filters  \\\n",
       "10                      False                     True                 96   \n",
       "\n",
       "    use_dropout  \n",
       "10         True  "
      ]
     },
     "metadata": {},
     "output_type": "display_data"
    },
    {
     "name": "stdout",
     "output_type": "stream",
     "text": [
      "Fitted tokenizer on 25000 documents\n",
      "Top 5 most common words are: [('the', 336148), ('and', 164097), ('a', 163040), ('of', 145847), ('to', 135708)]\n",
      "_________________________________________________________________\n",
      "Layer (type)                 Output Shape              Param #   \n",
      "=================================================================\n",
      "embedding_1 (Embedding)      (None, 2470, 200)         17716600  \n",
      "_________________________________________________________________\n",
      "dropout_1 (Dropout)          (None, 2470, 200)         0         \n",
      "_________________________________________________________________\n",
      "conv1d_1 (Conv1D)            (None, 2466, 96)          96096     \n",
      "_________________________________________________________________\n",
      "max_pooling1d_1 (MaxPooling1 (None, 493, 96)           0         \n",
      "_________________________________________________________________\n",
      "dropout_2 (Dropout)          (None, 493, 96)           0         \n",
      "_________________________________________________________________\n",
      "conv1d_2 (Conv1D)            (None, 489, 96)           46176     \n",
      "_________________________________________________________________\n",
      "max_pooling1d_2 (MaxPooling1 (None, 97, 96)            0         \n",
      "_________________________________________________________________\n",
      "dropout_3 (Dropout)          (None, 97, 96)            0         \n",
      "_________________________________________________________________\n",
      "conv1d_3 (Conv1D)            (None, 93, 96)            46176     \n",
      "_________________________________________________________________\n",
      "max_pooling1d_3 (MaxPooling1 (None, 9, 96)             0         \n",
      "_________________________________________________________________\n",
      "dropout_4 (Dropout)          (None, 9, 96)             0         \n",
      "_________________________________________________________________\n",
      "flatten_1 (Flatten)          (None, 864)               0         \n",
      "_________________________________________________________________\n",
      "dense_1 (Dense)              (None, 128)               110720    \n",
      "_________________________________________________________________\n",
      "dense_2 (Dense)              (None, 1)                 129       \n",
      "=================================================================\n",
      "Total params: 18,015,897\n",
      "Trainable params: 18,015,897\n",
      "Non-trainable params: 0\n",
      "_________________________________________________________________\n",
      "Train on 25000 samples, validate on 25000 samples\n"
     ]
    },
    {
     "data": {
      "application/vnd.jupyter.widget-view+json": {
       "model_id": "79b4c779a3934b98a39a4cce45fbdf0e",
       "version_major": 2,
       "version_minor": 0
      },
      "text/plain": [
       "HBox(children=(IntProgress(value=0, description='Training', max=16, style=ProgressStyle(description_width='ini…"
      ]
     },
     "metadata": {},
     "output_type": "display_data"
    },
    {
     "name": "stdout",
     "output_type": "stream",
     "text": [
      "Epoch 1/16\n"
     ]
    },
    {
     "data": {
      "application/vnd.jupyter.widget-view+json": {
       "model_id": "",
       "version_major": 2,
       "version_minor": 0
      },
      "text/plain": [
       "HBox(children=(IntProgress(value=0, description='Epoch 0', max=25000, style=ProgressStyle(description_width='i…"
      ]
     },
     "metadata": {},
     "output_type": "display_data"
    },
    {
     "name": "stdout",
     "output_type": "stream",
     "text": [
      " - 22s - loss: 0.6828 - acc: 0.5302 - val_loss: 0.5427 - val_acc: 0.7465\n",
      "\n",
      "Epoch 00001: val_acc did not improve from 0.90076\n",
      "Epoch 2/16\n"
     ]
    },
    {
     "data": {
      "application/vnd.jupyter.widget-view+json": {
       "model_id": "",
       "version_major": 2,
       "version_minor": 0
      },
      "text/plain": [
       "HBox(children=(IntProgress(value=0, description='Epoch 1', max=25000, style=ProgressStyle(description_width='i…"
      ]
     },
     "metadata": {},
     "output_type": "display_data"
    },
    {
     "name": "stdout",
     "output_type": "stream",
     "text": [
      " - 21s - loss: 0.3214 - acc: 0.8653 - val_loss: 0.2910 - val_acc: 0.8892\n",
      "\n",
      "Epoch 00002: val_acc did not improve from 0.90076\n",
      "Epoch 3/16\n"
     ]
    },
    {
     "data": {
      "application/vnd.jupyter.widget-view+json": {
       "model_id": "",
       "version_major": 2,
       "version_minor": 0
      },
      "text/plain": [
       "HBox(children=(IntProgress(value=0, description='Epoch 2', max=25000, style=ProgressStyle(description_width='i…"
      ]
     },
     "metadata": {},
     "output_type": "display_data"
    },
    {
     "name": "stdout",
     "output_type": "stream",
     "text": [
      " - 21s - loss: 0.1548 - acc: 0.9426 - val_loss: 0.3386 - val_acc: 0.8607\n",
      "\n",
      "Epoch 00003: val_acc did not improve from 0.90076\n",
      "Epoch 4/16\n"
     ]
    },
    {
     "data": {
      "application/vnd.jupyter.widget-view+json": {
       "model_id": "",
       "version_major": 2,
       "version_minor": 0
      },
      "text/plain": [
       "HBox(children=(IntProgress(value=0, description='Epoch 3', max=25000, style=ProgressStyle(description_width='i…"
      ]
     },
     "metadata": {},
     "output_type": "display_data"
    },
    {
     "name": "stdout",
     "output_type": "stream",
     "text": [
      " - 21s - loss: 0.0905 - acc: 0.9680 - val_loss: 0.3708 - val_acc: 0.8606\n",
      "\n",
      "Epoch 00004: val_acc did not improve from 0.90076\n",
      "\n",
      "Test Accuracy: 86.06%\n",
      "<keras.callbacks.History object at 0x7f97583285f8>\n"
     ]
    },
    {
     "data": {
      "text/html": [
       "<div>\n",
       "<style scoped>\n",
       "    .dataframe tbody tr th:only-of-type {\n",
       "        vertical-align: middle;\n",
       "    }\n",
       "\n",
       "    .dataframe tbody tr th {\n",
       "        vertical-align: top;\n",
       "    }\n",
       "\n",
       "    .dataframe thead th {\n",
       "        text-align: right;\n",
       "    }\n",
       "</style>\n",
       "<table border=\"1\" class=\"dataframe\">\n",
       "  <thead>\n",
       "    <tr style=\"text-align: right;\">\n",
       "      <th></th>\n",
       "      <th>use_cleaned_docs</th>\n",
       "      <th>number_of_additional_conv_layers</th>\n",
       "      <th>use_pre_trained_embedding</th>\n",
       "      <th>trainable_for_embedding</th>\n",
       "      <th>number_of_filters</th>\n",
       "      <th>use_dropout</th>\n",
       "    </tr>\n",
       "  </thead>\n",
       "  <tbody>\n",
       "    <tr>\n",
       "      <th>11</th>\n",
       "      <td>False</td>\n",
       "      <td>2</td>\n",
       "      <td>False</td>\n",
       "      <td>True</td>\n",
       "      <td>96</td>\n",
       "      <td>False</td>\n",
       "    </tr>\n",
       "  </tbody>\n",
       "</table>\n",
       "</div>"
      ],
      "text/plain": [
       "    use_cleaned_docs  number_of_additional_conv_layers  \\\n",
       "11             False                                 2   \n",
       "\n",
       "    use_pre_trained_embedding  trainable_for_embedding  number_of_filters  \\\n",
       "11                      False                     True                 96   \n",
       "\n",
       "    use_dropout  \n",
       "11        False  "
      ]
     },
     "metadata": {},
     "output_type": "display_data"
    },
    {
     "name": "stdout",
     "output_type": "stream",
     "text": [
      "Fitted tokenizer on 25000 documents\n",
      "Top 5 most common words are: [('the', 336148), ('and', 164097), ('a', 163040), ('of', 145847), ('to', 135708)]\n",
      "_________________________________________________________________\n",
      "Layer (type)                 Output Shape              Param #   \n",
      "=================================================================\n",
      "embedding_1 (Embedding)      (None, 2470, 200)         17716600  \n",
      "_________________________________________________________________\n",
      "conv1d_1 (Conv1D)            (None, 2466, 96)          96096     \n",
      "_________________________________________________________________\n",
      "max_pooling1d_1 (MaxPooling1 (None, 493, 96)           0         \n",
      "_________________________________________________________________\n",
      "conv1d_2 (Conv1D)            (None, 489, 96)           46176     \n",
      "_________________________________________________________________\n",
      "max_pooling1d_2 (MaxPooling1 (None, 97, 96)            0         \n",
      "_________________________________________________________________\n",
      "conv1d_3 (Conv1D)            (None, 93, 96)            46176     \n",
      "_________________________________________________________________\n",
      "max_pooling1d_3 (MaxPooling1 (None, 9, 96)             0         \n",
      "_________________________________________________________________\n",
      "flatten_1 (Flatten)          (None, 864)               0         \n",
      "_________________________________________________________________\n",
      "dense_1 (Dense)              (None, 128)               110720    \n",
      "_________________________________________________________________\n",
      "dense_2 (Dense)              (None, 1)                 129       \n",
      "=================================================================\n",
      "Total params: 18,015,897\n",
      "Trainable params: 18,015,897\n",
      "Non-trainable params: 0\n",
      "_________________________________________________________________\n",
      "Train on 25000 samples, validate on 25000 samples\n"
     ]
    },
    {
     "data": {
      "application/vnd.jupyter.widget-view+json": {
       "model_id": "df156573a5854ce18f1bfe1380000d76",
       "version_major": 2,
       "version_minor": 0
      },
      "text/plain": [
       "HBox(children=(IntProgress(value=0, description='Training', max=16, style=ProgressStyle(description_width='ini…"
      ]
     },
     "metadata": {},
     "output_type": "display_data"
    },
    {
     "name": "stdout",
     "output_type": "stream",
     "text": [
      "Epoch 1/16\n"
     ]
    },
    {
     "data": {
      "application/vnd.jupyter.widget-view+json": {
       "model_id": "",
       "version_major": 2,
       "version_minor": 0
      },
      "text/plain": [
       "HBox(children=(IntProgress(value=0, description='Epoch 0', max=25000, style=ProgressStyle(description_width='i…"
      ]
     },
     "metadata": {},
     "output_type": "display_data"
    },
    {
     "name": "stdout",
     "output_type": "stream",
     "text": [
      " - 18s - loss: 0.4487 - acc: 0.7451 - val_loss: 0.2682 - val_acc: 0.8860\n",
      "\n",
      "Epoch 00001: val_acc did not improve from 0.90076\n",
      "Epoch 2/16\n"
     ]
    },
    {
     "data": {
      "application/vnd.jupyter.widget-view+json": {
       "model_id": "",
       "version_major": 2,
       "version_minor": 0
      },
      "text/plain": [
       "HBox(children=(IntProgress(value=0, description='Epoch 1', max=25000, style=ProgressStyle(description_width='i…"
      ]
     },
     "metadata": {},
     "output_type": "display_data"
    },
    {
     "name": "stdout",
     "output_type": "stream",
     "text": [
      " - 17s - loss: 0.1438 - acc: 0.9487 - val_loss: 0.2838 - val_acc: 0.8888\n",
      "\n",
      "Epoch 00002: val_acc did not improve from 0.90076\n",
      "Epoch 3/16\n"
     ]
    },
    {
     "data": {
      "application/vnd.jupyter.widget-view+json": {
       "model_id": "",
       "version_major": 2,
       "version_minor": 0
      },
      "text/plain": [
       "HBox(children=(IntProgress(value=0, description='Epoch 2', max=25000, style=ProgressStyle(description_width='i…"
      ]
     },
     "metadata": {},
     "output_type": "display_data"
    },
    {
     "name": "stdout",
     "output_type": "stream",
     "text": [
      " - 17s - loss: 0.0348 - acc: 0.9889 - val_loss: 0.4624 - val_acc: 0.8657\n",
      "\n",
      "Epoch 00003: val_acc did not improve from 0.90076\n",
      "Epoch 4/16\n"
     ]
    },
    {
     "data": {
      "application/vnd.jupyter.widget-view+json": {
       "model_id": "",
       "version_major": 2,
       "version_minor": 0
      },
      "text/plain": [
       "HBox(children=(IntProgress(value=0, description='Epoch 3', max=25000, style=ProgressStyle(description_width='i…"
      ]
     },
     "metadata": {},
     "output_type": "display_data"
    },
    {
     "name": "stdout",
     "output_type": "stream",
     "text": [
      " - 17s - loss: 0.0082 - acc: 0.9978 - val_loss: 0.6121 - val_acc: 0.8747\n",
      "\n",
      "Epoch 00004: val_acc did not improve from 0.90076\n",
      "\n",
      "Test Accuracy: 87.47%\n",
      "<keras.callbacks.History object at 0x7f98a2e4e7b8>\n"
     ]
    },
    {
     "data": {
      "text/html": [
       "<div>\n",
       "<style scoped>\n",
       "    .dataframe tbody tr th:only-of-type {\n",
       "        vertical-align: middle;\n",
       "    }\n",
       "\n",
       "    .dataframe tbody tr th {\n",
       "        vertical-align: top;\n",
       "    }\n",
       "\n",
       "    .dataframe thead th {\n",
       "        text-align: right;\n",
       "    }\n",
       "</style>\n",
       "<table border=\"1\" class=\"dataframe\">\n",
       "  <thead>\n",
       "    <tr style=\"text-align: right;\">\n",
       "      <th></th>\n",
       "      <th>use_cleaned_docs</th>\n",
       "      <th>number_of_additional_conv_layers</th>\n",
       "      <th>use_pre_trained_embedding</th>\n",
       "      <th>trainable_for_embedding</th>\n",
       "      <th>number_of_filters</th>\n",
       "      <th>use_dropout</th>\n",
       "    </tr>\n",
       "  </thead>\n",
       "  <tbody>\n",
       "    <tr>\n",
       "      <th>12</th>\n",
       "      <td>False</td>\n",
       "      <td>0</td>\n",
       "      <td>True</td>\n",
       "      <td>True</td>\n",
       "      <td>48</td>\n",
       "      <td>True</td>\n",
       "    </tr>\n",
       "  </tbody>\n",
       "</table>\n",
       "</div>"
      ],
      "text/plain": [
       "    use_cleaned_docs  number_of_additional_conv_layers  \\\n",
       "12             False                                 0   \n",
       "\n",
       "    use_pre_trained_embedding  trainable_for_embedding  number_of_filters  \\\n",
       "12                       True                     True                 48   \n",
       "\n",
       "    use_dropout  \n",
       "12         True  "
      ]
     },
     "metadata": {},
     "output_type": "display_data"
    },
    {
     "name": "stdout",
     "output_type": "stream",
     "text": [
      "Fitted tokenizer on 25000 documents\n",
      "Top 5 most common words are: [('the', 336148), ('and', 164097), ('a', 163040), ('of', 145847), ('to', 135708)]\n",
      "_________________________________________________________________\n",
      "Layer (type)                 Output Shape              Param #   \n",
      "=================================================================\n",
      "embedding_1 (Embedding)      (None, 2470, 200)         17716600  \n",
      "_________________________________________________________________\n",
      "dropout_1 (Dropout)          (None, 2470, 200)         0         \n",
      "_________________________________________________________________\n",
      "conv1d_1 (Conv1D)            (None, 2466, 48)          48048     \n",
      "_________________________________________________________________\n",
      "max_pooling1d_1 (MaxPooling1 (None, 246, 48)           0         \n",
      "_________________________________________________________________\n",
      "dropout_2 (Dropout)          (None, 246, 48)           0         \n",
      "_________________________________________________________________\n",
      "flatten_1 (Flatten)          (None, 11808)             0         \n",
      "_________________________________________________________________\n",
      "dense_1 (Dense)              (None, 128)               1511552   \n",
      "_________________________________________________________________\n",
      "dense_2 (Dense)              (None, 1)                 129       \n",
      "=================================================================\n",
      "Total params: 19,276,329\n",
      "Trainable params: 19,276,329\n",
      "Non-trainable params: 0\n",
      "_________________________________________________________________\n",
      "Train on 25000 samples, validate on 25000 samples\n"
     ]
    },
    {
     "data": {
      "application/vnd.jupyter.widget-view+json": {
       "model_id": "6a47c7c475ba4f65a5b3fde78a5c8ac3",
       "version_major": 2,
       "version_minor": 0
      },
      "text/plain": [
       "HBox(children=(IntProgress(value=0, description='Training', max=16, style=ProgressStyle(description_width='ini…"
      ]
     },
     "metadata": {},
     "output_type": "display_data"
    },
    {
     "name": "stdout",
     "output_type": "stream",
     "text": [
      "Epoch 1/16\n"
     ]
    },
    {
     "data": {
      "application/vnd.jupyter.widget-view+json": {
       "model_id": "",
       "version_major": 2,
       "version_minor": 0
      },
      "text/plain": [
       "HBox(children=(IntProgress(value=0, description='Epoch 0', max=25000, style=ProgressStyle(description_width='i…"
      ]
     },
     "metadata": {},
     "output_type": "display_data"
    },
    {
     "name": "stdout",
     "output_type": "stream",
     "text": [
      " - 16s - loss: 0.5539 - acc: 0.6979 - val_loss: 0.3557 - val_acc: 0.8600\n",
      "\n",
      "Epoch 00001: val_acc did not improve from 0.90076\n",
      "Epoch 2/16\n"
     ]
    },
    {
     "data": {
      "application/vnd.jupyter.widget-view+json": {
       "model_id": "",
       "version_major": 2,
       "version_minor": 0
      },
      "text/plain": [
       "HBox(children=(IntProgress(value=0, description='Epoch 1', max=25000, style=ProgressStyle(description_width='i…"
      ]
     },
     "metadata": {},
     "output_type": "display_data"
    },
    {
     "name": "stdout",
     "output_type": "stream",
     "text": [
      " - 16s - loss: 0.3224 - acc: 0.8650 - val_loss: 0.3038 - val_acc: 0.8790\n",
      "\n",
      "Epoch 00002: val_acc did not improve from 0.90076\n",
      "Epoch 3/16\n"
     ]
    },
    {
     "data": {
      "application/vnd.jupyter.widget-view+json": {
       "model_id": "",
       "version_major": 2,
       "version_minor": 0
      },
      "text/plain": [
       "HBox(children=(IntProgress(value=0, description='Epoch 2', max=25000, style=ProgressStyle(description_width='i…"
      ]
     },
     "metadata": {},
     "output_type": "display_data"
    },
    {
     "name": "stdout",
     "output_type": "stream",
     "text": [
      " - 16s - loss: 0.2517 - acc: 0.8992 - val_loss: 0.2696 - val_acc: 0.8931\n",
      "\n",
      "Epoch 00003: val_acc did not improve from 0.90076\n",
      "Epoch 4/16\n"
     ]
    },
    {
     "data": {
      "application/vnd.jupyter.widget-view+json": {
       "model_id": "",
       "version_major": 2,
       "version_minor": 0
      },
      "text/plain": [
       "HBox(children=(IntProgress(value=0, description='Epoch 3', max=25000, style=ProgressStyle(description_width='i…"
      ]
     },
     "metadata": {},
     "output_type": "display_data"
    },
    {
     "name": "stdout",
     "output_type": "stream",
     "text": [
      " - 16s - loss: 0.2041 - acc: 0.9200 - val_loss: 0.2601 - val_acc: 0.8965\n",
      "\n",
      "Epoch 00004: val_acc did not improve from 0.90076\n",
      "Epoch 5/16\n"
     ]
    },
    {
     "data": {
      "application/vnd.jupyter.widget-view+json": {
       "model_id": "",
       "version_major": 2,
       "version_minor": 0
      },
      "text/plain": [
       "HBox(children=(IntProgress(value=0, description='Epoch 4', max=25000, style=ProgressStyle(description_width='i…"
      ]
     },
     "metadata": {},
     "output_type": "display_data"
    },
    {
     "name": "stdout",
     "output_type": "stream",
     "text": [
      " - 16s - loss: 0.1630 - acc: 0.9370 - val_loss: 0.2626 - val_acc: 0.8943\n",
      "\n",
      "Epoch 00005: val_acc did not improve from 0.90076\n",
      "Epoch 6/16\n"
     ]
    },
    {
     "data": {
      "application/vnd.jupyter.widget-view+json": {
       "model_id": "",
       "version_major": 2,
       "version_minor": 0
      },
      "text/plain": [
       "HBox(children=(IntProgress(value=0, description='Epoch 5', max=25000, style=ProgressStyle(description_width='i…"
      ]
     },
     "metadata": {},
     "output_type": "display_data"
    },
    {
     "name": "stdout",
     "output_type": "stream",
     "text": [
      " - 16s - loss: 0.1286 - acc: 0.9514 - val_loss: 0.3165 - val_acc: 0.8709\n",
      "\n",
      "Epoch 00006: val_acc did not improve from 0.90076\n",
      "\n",
      "Test Accuracy: 87.09%\n",
      "<keras.callbacks.History object at 0x7f98b10e1c18>\n"
     ]
    },
    {
     "data": {
      "text/html": [
       "<div>\n",
       "<style scoped>\n",
       "    .dataframe tbody tr th:only-of-type {\n",
       "        vertical-align: middle;\n",
       "    }\n",
       "\n",
       "    .dataframe tbody tr th {\n",
       "        vertical-align: top;\n",
       "    }\n",
       "\n",
       "    .dataframe thead th {\n",
       "        text-align: right;\n",
       "    }\n",
       "</style>\n",
       "<table border=\"1\" class=\"dataframe\">\n",
       "  <thead>\n",
       "    <tr style=\"text-align: right;\">\n",
       "      <th></th>\n",
       "      <th>use_cleaned_docs</th>\n",
       "      <th>number_of_additional_conv_layers</th>\n",
       "      <th>use_pre_trained_embedding</th>\n",
       "      <th>trainable_for_embedding</th>\n",
       "      <th>number_of_filters</th>\n",
       "      <th>use_dropout</th>\n",
       "    </tr>\n",
       "  </thead>\n",
       "  <tbody>\n",
       "    <tr>\n",
       "      <th>13</th>\n",
       "      <td>False</td>\n",
       "      <td>0</td>\n",
       "      <td>True</td>\n",
       "      <td>True</td>\n",
       "      <td>48</td>\n",
       "      <td>False</td>\n",
       "    </tr>\n",
       "  </tbody>\n",
       "</table>\n",
       "</div>"
      ],
      "text/plain": [
       "    use_cleaned_docs  number_of_additional_conv_layers  \\\n",
       "13             False                                 0   \n",
       "\n",
       "    use_pre_trained_embedding  trainable_for_embedding  number_of_filters  \\\n",
       "13                       True                     True                 48   \n",
       "\n",
       "    use_dropout  \n",
       "13        False  "
      ]
     },
     "metadata": {},
     "output_type": "display_data"
    },
    {
     "name": "stdout",
     "output_type": "stream",
     "text": [
      "Fitted tokenizer on 25000 documents\n",
      "Top 5 most common words are: [('the', 336148), ('and', 164097), ('a', 163040), ('of', 145847), ('to', 135708)]\n",
      "_________________________________________________________________\n",
      "Layer (type)                 Output Shape              Param #   \n",
      "=================================================================\n",
      "embedding_1 (Embedding)      (None, 2470, 200)         17716600  \n",
      "_________________________________________________________________\n",
      "conv1d_1 (Conv1D)            (None, 2466, 48)          48048     \n",
      "_________________________________________________________________\n",
      "max_pooling1d_1 (MaxPooling1 (None, 246, 48)           0         \n",
      "_________________________________________________________________\n",
      "flatten_1 (Flatten)          (None, 11808)             0         \n",
      "_________________________________________________________________\n",
      "dense_1 (Dense)              (None, 128)               1511552   \n",
      "_________________________________________________________________\n",
      "dense_2 (Dense)              (None, 1)                 129       \n",
      "=================================================================\n",
      "Total params: 19,276,329\n",
      "Trainable params: 19,276,329\n",
      "Non-trainable params: 0\n",
      "_________________________________________________________________\n",
      "Train on 25000 samples, validate on 25000 samples\n"
     ]
    },
    {
     "data": {
      "application/vnd.jupyter.widget-view+json": {
       "model_id": "eef1737eec61412982d3fc027772832e",
       "version_major": 2,
       "version_minor": 0
      },
      "text/plain": [
       "HBox(children=(IntProgress(value=0, description='Training', max=16, style=ProgressStyle(description_width='ini…"
      ]
     },
     "metadata": {},
     "output_type": "display_data"
    },
    {
     "name": "stdout",
     "output_type": "stream",
     "text": [
      "Epoch 1/16\n"
     ]
    },
    {
     "data": {
      "application/vnd.jupyter.widget-view+json": {
       "model_id": "",
       "version_major": 2,
       "version_minor": 0
      },
      "text/plain": [
       "HBox(children=(IntProgress(value=0, description='Epoch 0', max=25000, style=ProgressStyle(description_width='i…"
      ]
     },
     "metadata": {},
     "output_type": "display_data"
    },
    {
     "name": "stdout",
     "output_type": "stream",
     "text": [
      " - 13s - loss: 0.4730 - acc: 0.7539 - val_loss: 0.2836 - val_acc: 0.8824\n",
      "\n",
      "Epoch 00001: val_acc did not improve from 0.90076\n",
      "Epoch 2/16\n"
     ]
    },
    {
     "data": {
      "application/vnd.jupyter.widget-view+json": {
       "model_id": "",
       "version_major": 2,
       "version_minor": 0
      },
      "text/plain": [
       "HBox(children=(IntProgress(value=0, description='Epoch 1', max=25000, style=ProgressStyle(description_width='i…"
      ]
     },
     "metadata": {},
     "output_type": "display_data"
    },
    {
     "name": "stdout",
     "output_type": "stream",
     "text": [
      " - 12s - loss: 0.2044 - acc: 0.9214 - val_loss: 0.2695 - val_acc: 0.8896\n",
      "\n",
      "Epoch 00002: val_acc did not improve from 0.90076\n",
      "Epoch 3/16\n"
     ]
    },
    {
     "data": {
      "application/vnd.jupyter.widget-view+json": {
       "model_id": "",
       "version_major": 2,
       "version_minor": 0
      },
      "text/plain": [
       "HBox(children=(IntProgress(value=0, description='Epoch 2', max=25000, style=ProgressStyle(description_width='i…"
      ]
     },
     "metadata": {},
     "output_type": "display_data"
    },
    {
     "name": "stdout",
     "output_type": "stream",
     "text": [
      " - 12s - loss: 0.0832 - acc: 0.9728 - val_loss: 0.3435 - val_acc: 0.8746\n",
      "\n",
      "Epoch 00003: val_acc did not improve from 0.90076\n",
      "Epoch 4/16\n"
     ]
    },
    {
     "data": {
      "application/vnd.jupyter.widget-view+json": {
       "model_id": "",
       "version_major": 2,
       "version_minor": 0
      },
      "text/plain": [
       "HBox(children=(IntProgress(value=0, description='Epoch 3', max=25000, style=ProgressStyle(description_width='i…"
      ]
     },
     "metadata": {},
     "output_type": "display_data"
    },
    {
     "name": "stdout",
     "output_type": "stream",
     "text": [
      " - 12s - loss: 0.0218 - acc: 0.9956 - val_loss: 0.4261 - val_acc: 0.8790\n",
      "\n",
      "Epoch 00004: val_acc did not improve from 0.90076\n",
      "\n",
      "Test Accuracy: 87.90%\n",
      "<keras.callbacks.History object at 0x7f98b16cd7b8>\n"
     ]
    },
    {
     "data": {
      "text/html": [
       "<div>\n",
       "<style scoped>\n",
       "    .dataframe tbody tr th:only-of-type {\n",
       "        vertical-align: middle;\n",
       "    }\n",
       "\n",
       "    .dataframe tbody tr th {\n",
       "        vertical-align: top;\n",
       "    }\n",
       "\n",
       "    .dataframe thead th {\n",
       "        text-align: right;\n",
       "    }\n",
       "</style>\n",
       "<table border=\"1\" class=\"dataframe\">\n",
       "  <thead>\n",
       "    <tr style=\"text-align: right;\">\n",
       "      <th></th>\n",
       "      <th>use_cleaned_docs</th>\n",
       "      <th>number_of_additional_conv_layers</th>\n",
       "      <th>use_pre_trained_embedding</th>\n",
       "      <th>trainable_for_embedding</th>\n",
       "      <th>number_of_filters</th>\n",
       "      <th>use_dropout</th>\n",
       "    </tr>\n",
       "  </thead>\n",
       "  <tbody>\n",
       "    <tr>\n",
       "      <th>14</th>\n",
       "      <td>False</td>\n",
       "      <td>0</td>\n",
       "      <td>True</td>\n",
       "      <td>True</td>\n",
       "      <td>96</td>\n",
       "      <td>True</td>\n",
       "    </tr>\n",
       "  </tbody>\n",
       "</table>\n",
       "</div>"
      ],
      "text/plain": [
       "    use_cleaned_docs  number_of_additional_conv_layers  \\\n",
       "14             False                                 0   \n",
       "\n",
       "    use_pre_trained_embedding  trainable_for_embedding  number_of_filters  \\\n",
       "14                       True                     True                 96   \n",
       "\n",
       "    use_dropout  \n",
       "14         True  "
      ]
     },
     "metadata": {},
     "output_type": "display_data"
    },
    {
     "name": "stdout",
     "output_type": "stream",
     "text": [
      "Fitted tokenizer on 25000 documents\n",
      "Top 5 most common words are: [('the', 336148), ('and', 164097), ('a', 163040), ('of', 145847), ('to', 135708)]\n",
      "_________________________________________________________________\n",
      "Layer (type)                 Output Shape              Param #   \n",
      "=================================================================\n",
      "embedding_1 (Embedding)      (None, 2470, 200)         17716600  \n",
      "_________________________________________________________________\n",
      "dropout_1 (Dropout)          (None, 2470, 200)         0         \n",
      "_________________________________________________________________\n",
      "conv1d_1 (Conv1D)            (None, 2466, 96)          96096     \n",
      "_________________________________________________________________\n",
      "max_pooling1d_1 (MaxPooling1 (None, 246, 96)           0         \n",
      "_________________________________________________________________\n",
      "dropout_2 (Dropout)          (None, 246, 96)           0         \n",
      "_________________________________________________________________\n",
      "flatten_1 (Flatten)          (None, 23616)             0         \n",
      "_________________________________________________________________\n",
      "dense_1 (Dense)              (None, 128)               3022976   \n",
      "_________________________________________________________________\n",
      "dense_2 (Dense)              (None, 1)                 129       \n",
      "=================================================================\n",
      "Total params: 20,835,801\n",
      "Trainable params: 20,835,801\n",
      "Non-trainable params: 0\n",
      "_________________________________________________________________\n",
      "Train on 25000 samples, validate on 25000 samples\n"
     ]
    },
    {
     "data": {
      "application/vnd.jupyter.widget-view+json": {
       "model_id": "4d98f37404944985bae7393a092a0fc0",
       "version_major": 2,
       "version_minor": 0
      },
      "text/plain": [
       "HBox(children=(IntProgress(value=0, description='Training', max=16, style=ProgressStyle(description_width='ini…"
      ]
     },
     "metadata": {},
     "output_type": "display_data"
    },
    {
     "name": "stdout",
     "output_type": "stream",
     "text": [
      "Epoch 1/16\n"
     ]
    },
    {
     "data": {
      "application/vnd.jupyter.widget-view+json": {
       "model_id": "",
       "version_major": 2,
       "version_minor": 0
      },
      "text/plain": [
       "HBox(children=(IntProgress(value=0, description='Epoch 0', max=25000, style=ProgressStyle(description_width='i…"
      ]
     },
     "metadata": {},
     "output_type": "display_data"
    },
    {
     "name": "stdout",
     "output_type": "stream",
     "text": [
      " - 20s - loss: 0.7080 - acc: 0.5195 - val_loss: 0.6329 - val_acc: 0.6774\n",
      "\n",
      "Epoch 00001: val_acc did not improve from 0.90076\n",
      "Epoch 2/16\n"
     ]
    },
    {
     "data": {
      "application/vnd.jupyter.widget-view+json": {
       "model_id": "",
       "version_major": 2,
       "version_minor": 0
      },
      "text/plain": [
       "HBox(children=(IntProgress(value=0, description='Epoch 1', max=25000, style=ProgressStyle(description_width='i…"
      ]
     },
     "metadata": {},
     "output_type": "display_data"
    },
    {
     "name": "stdout",
     "output_type": "stream",
     "text": [
      " - 19s - loss: 0.3941 - acc: 0.8252 - val_loss: 0.3069 - val_acc: 0.8778\n",
      "\n",
      "Epoch 00002: val_acc did not improve from 0.90076\n",
      "Epoch 3/16\n"
     ]
    },
    {
     "data": {
      "application/vnd.jupyter.widget-view+json": {
       "model_id": "",
       "version_major": 2,
       "version_minor": 0
      },
      "text/plain": [
       "HBox(children=(IntProgress(value=0, description='Epoch 2', max=25000, style=ProgressStyle(description_width='i…"
      ]
     },
     "metadata": {},
     "output_type": "display_data"
    },
    {
     "name": "stdout",
     "output_type": "stream",
     "text": [
      " - 19s - loss: 0.2601 - acc: 0.8966 - val_loss: 0.2839 - val_acc: 0.8840\n",
      "\n",
      "Epoch 00003: val_acc did not improve from 0.90076\n",
      "Epoch 4/16\n"
     ]
    },
    {
     "data": {
      "application/vnd.jupyter.widget-view+json": {
       "model_id": "",
       "version_major": 2,
       "version_minor": 0
      },
      "text/plain": [
       "HBox(children=(IntProgress(value=0, description='Epoch 3', max=25000, style=ProgressStyle(description_width='i…"
      ]
     },
     "metadata": {},
     "output_type": "display_data"
    },
    {
     "name": "stdout",
     "output_type": "stream",
     "text": [
      " - 20s - loss: 0.1938 - acc: 0.9263 - val_loss: 0.2699 - val_acc: 0.8907\n",
      "\n",
      "Epoch 00004: val_acc did not improve from 0.90076\n",
      "Epoch 5/16\n"
     ]
    },
    {
     "data": {
      "application/vnd.jupyter.widget-view+json": {
       "model_id": "",
       "version_major": 2,
       "version_minor": 0
      },
      "text/plain": [
       "HBox(children=(IntProgress(value=0, description='Epoch 4', max=25000, style=ProgressStyle(description_width='i…"
      ]
     },
     "metadata": {},
     "output_type": "display_data"
    },
    {
     "name": "stdout",
     "output_type": "stream",
     "text": [
      " - 19s - loss: 0.1432 - acc: 0.9485 - val_loss: 0.3056 - val_acc: 0.8816\n",
      "\n",
      "Epoch 00005: val_acc did not improve from 0.90076\n",
      "Epoch 6/16\n"
     ]
    },
    {
     "data": {
      "application/vnd.jupyter.widget-view+json": {
       "model_id": "",
       "version_major": 2,
       "version_minor": 0
      },
      "text/plain": [
       "HBox(children=(IntProgress(value=0, description='Epoch 5', max=25000, style=ProgressStyle(description_width='i…"
      ]
     },
     "metadata": {},
     "output_type": "display_data"
    },
    {
     "name": "stdout",
     "output_type": "stream",
     "text": [
      " - 19s - loss: 0.1092 - acc: 0.9607 - val_loss: 0.2941 - val_acc: 0.8877\n",
      "\n",
      "Epoch 00006: val_acc did not improve from 0.90076\n",
      "\n",
      "Test Accuracy: 88.77%\n",
      "<keras.callbacks.History object at 0x7f98b16a9e10>\n"
     ]
    },
    {
     "data": {
      "text/html": [
       "<div>\n",
       "<style scoped>\n",
       "    .dataframe tbody tr th:only-of-type {\n",
       "        vertical-align: middle;\n",
       "    }\n",
       "\n",
       "    .dataframe tbody tr th {\n",
       "        vertical-align: top;\n",
       "    }\n",
       "\n",
       "    .dataframe thead th {\n",
       "        text-align: right;\n",
       "    }\n",
       "</style>\n",
       "<table border=\"1\" class=\"dataframe\">\n",
       "  <thead>\n",
       "    <tr style=\"text-align: right;\">\n",
       "      <th></th>\n",
       "      <th>use_cleaned_docs</th>\n",
       "      <th>number_of_additional_conv_layers</th>\n",
       "      <th>use_pre_trained_embedding</th>\n",
       "      <th>trainable_for_embedding</th>\n",
       "      <th>number_of_filters</th>\n",
       "      <th>use_dropout</th>\n",
       "    </tr>\n",
       "  </thead>\n",
       "  <tbody>\n",
       "    <tr>\n",
       "      <th>15</th>\n",
       "      <td>False</td>\n",
       "      <td>0</td>\n",
       "      <td>True</td>\n",
       "      <td>True</td>\n",
       "      <td>96</td>\n",
       "      <td>False</td>\n",
       "    </tr>\n",
       "  </tbody>\n",
       "</table>\n",
       "</div>"
      ],
      "text/plain": [
       "    use_cleaned_docs  number_of_additional_conv_layers  \\\n",
       "15             False                                 0   \n",
       "\n",
       "    use_pre_trained_embedding  trainable_for_embedding  number_of_filters  \\\n",
       "15                       True                     True                 96   \n",
       "\n",
       "    use_dropout  \n",
       "15        False  "
      ]
     },
     "metadata": {},
     "output_type": "display_data"
    },
    {
     "name": "stdout",
     "output_type": "stream",
     "text": [
      "Fitted tokenizer on 25000 documents\n",
      "Top 5 most common words are: [('the', 336148), ('and', 164097), ('a', 163040), ('of', 145847), ('to', 135708)]\n",
      "_________________________________________________________________\n",
      "Layer (type)                 Output Shape              Param #   \n",
      "=================================================================\n",
      "embedding_1 (Embedding)      (None, 2470, 200)         17716600  \n",
      "_________________________________________________________________\n",
      "conv1d_1 (Conv1D)            (None, 2466, 96)          96096     \n",
      "_________________________________________________________________\n",
      "max_pooling1d_1 (MaxPooling1 (None, 246, 96)           0         \n",
      "_________________________________________________________________\n",
      "flatten_1 (Flatten)          (None, 23616)             0         \n",
      "_________________________________________________________________\n",
      "dense_1 (Dense)              (None, 128)               3022976   \n",
      "_________________________________________________________________\n",
      "dense_2 (Dense)              (None, 1)                 129       \n",
      "=================================================================\n",
      "Total params: 20,835,801\n",
      "Trainable params: 20,835,801\n",
      "Non-trainable params: 0\n",
      "_________________________________________________________________\n",
      "Train on 25000 samples, validate on 25000 samples\n"
     ]
    },
    {
     "data": {
      "application/vnd.jupyter.widget-view+json": {
       "model_id": "a7822c5bab1540dd92f3a6eb9ce125b8",
       "version_major": 2,
       "version_minor": 0
      },
      "text/plain": [
       "HBox(children=(IntProgress(value=0, description='Training', max=16, style=ProgressStyle(description_width='ini…"
      ]
     },
     "metadata": {},
     "output_type": "display_data"
    },
    {
     "name": "stdout",
     "output_type": "stream",
     "text": [
      "Epoch 1/16\n"
     ]
    },
    {
     "data": {
      "application/vnd.jupyter.widget-view+json": {
       "model_id": "",
       "version_major": 2,
       "version_minor": 0
      },
      "text/plain": [
       "HBox(children=(IntProgress(value=0, description='Epoch 0', max=25000, style=ProgressStyle(description_width='i…"
      ]
     },
     "metadata": {},
     "output_type": "display_data"
    },
    {
     "name": "stdout",
     "output_type": "stream",
     "text": [
      " - 16s - loss: 0.4726 - acc: 0.7578 - val_loss: 0.2991 - val_acc: 0.8752\n",
      "\n",
      "Epoch 00001: val_acc did not improve from 0.90076\n",
      "Epoch 2/16\n"
     ]
    },
    {
     "data": {
      "application/vnd.jupyter.widget-view+json": {
       "model_id": "",
       "version_major": 2,
       "version_minor": 0
      },
      "text/plain": [
       "HBox(children=(IntProgress(value=0, description='Epoch 1', max=25000, style=ProgressStyle(description_width='i…"
      ]
     },
     "metadata": {},
     "output_type": "display_data"
    },
    {
     "name": "stdout",
     "output_type": "stream",
     "text": [
      " - 16s - loss: 0.2025 - acc: 0.9216 - val_loss: 0.2922 - val_acc: 0.8822\n",
      "\n",
      "Epoch 00002: val_acc did not improve from 0.90076\n",
      "Epoch 3/16\n"
     ]
    },
    {
     "data": {
      "application/vnd.jupyter.widget-view+json": {
       "model_id": "",
       "version_major": 2,
       "version_minor": 0
      },
      "text/plain": [
       "HBox(children=(IntProgress(value=0, description='Epoch 2', max=25000, style=ProgressStyle(description_width='i…"
      ]
     },
     "metadata": {},
     "output_type": "display_data"
    },
    {
     "name": "stdout",
     "output_type": "stream",
     "text": [
      " - 16s - loss: 0.0695 - acc: 0.9785 - val_loss: 0.3372 - val_acc: 0.8811\n",
      "\n",
      "Epoch 00003: val_acc did not improve from 0.90076\n",
      "Epoch 4/16\n"
     ]
    },
    {
     "data": {
      "application/vnd.jupyter.widget-view+json": {
       "model_id": "",
       "version_major": 2,
       "version_minor": 0
      },
      "text/plain": [
       "HBox(children=(IntProgress(value=0, description='Epoch 3', max=25000, style=ProgressStyle(description_width='i…"
      ]
     },
     "metadata": {},
     "output_type": "display_data"
    },
    {
     "name": "stdout",
     "output_type": "stream",
     "text": [
      " - 16s - loss: 0.0166 - acc: 0.9962 - val_loss: 0.4271 - val_acc: 0.8806\n",
      "\n",
      "Epoch 00004: val_acc did not improve from 0.90076\n",
      "\n",
      "Test Accuracy: 88.06%\n",
      "<keras.callbacks.History object at 0x7f97845d9438>\n"
     ]
    },
    {
     "data": {
      "text/html": [
       "<div>\n",
       "<style scoped>\n",
       "    .dataframe tbody tr th:only-of-type {\n",
       "        vertical-align: middle;\n",
       "    }\n",
       "\n",
       "    .dataframe tbody tr th {\n",
       "        vertical-align: top;\n",
       "    }\n",
       "\n",
       "    .dataframe thead th {\n",
       "        text-align: right;\n",
       "    }\n",
       "</style>\n",
       "<table border=\"1\" class=\"dataframe\">\n",
       "  <thead>\n",
       "    <tr style=\"text-align: right;\">\n",
       "      <th></th>\n",
       "      <th>use_cleaned_docs</th>\n",
       "      <th>number_of_additional_conv_layers</th>\n",
       "      <th>use_pre_trained_embedding</th>\n",
       "      <th>trainable_for_embedding</th>\n",
       "      <th>number_of_filters</th>\n",
       "      <th>use_dropout</th>\n",
       "    </tr>\n",
       "  </thead>\n",
       "  <tbody>\n",
       "    <tr>\n",
       "      <th>16</th>\n",
       "      <td>False</td>\n",
       "      <td>0</td>\n",
       "      <td>True</td>\n",
       "      <td>False</td>\n",
       "      <td>48</td>\n",
       "      <td>True</td>\n",
       "    </tr>\n",
       "  </tbody>\n",
       "</table>\n",
       "</div>"
      ],
      "text/plain": [
       "    use_cleaned_docs  number_of_additional_conv_layers  \\\n",
       "16             False                                 0   \n",
       "\n",
       "    use_pre_trained_embedding  trainable_for_embedding  number_of_filters  \\\n",
       "16                       True                    False                 48   \n",
       "\n",
       "    use_dropout  \n",
       "16         True  "
      ]
     },
     "metadata": {},
     "output_type": "display_data"
    },
    {
     "name": "stdout",
     "output_type": "stream",
     "text": [
      "Fitted tokenizer on 25000 documents\n",
      "Top 5 most common words are: [('the', 336148), ('and', 164097), ('a', 163040), ('of', 145847), ('to', 135708)]\n",
      "_________________________________________________________________\n",
      "Layer (type)                 Output Shape              Param #   \n",
      "=================================================================\n",
      "embedding_1 (Embedding)      (None, 2470, 200)         17716600  \n",
      "_________________________________________________________________\n",
      "dropout_1 (Dropout)          (None, 2470, 200)         0         \n",
      "_________________________________________________________________\n",
      "conv1d_1 (Conv1D)            (None, 2466, 48)          48048     \n",
      "_________________________________________________________________\n",
      "max_pooling1d_1 (MaxPooling1 (None, 246, 48)           0         \n",
      "_________________________________________________________________\n",
      "dropout_2 (Dropout)          (None, 246, 48)           0         \n",
      "_________________________________________________________________\n",
      "flatten_1 (Flatten)          (None, 11808)             0         \n",
      "_________________________________________________________________\n",
      "dense_1 (Dense)              (None, 128)               1511552   \n",
      "_________________________________________________________________\n",
      "dense_2 (Dense)              (None, 1)                 129       \n",
      "=================================================================\n",
      "Total params: 19,276,329\n",
      "Trainable params: 1,559,729\n",
      "Non-trainable params: 17,716,600\n",
      "_________________________________________________________________\n",
      "Train on 25000 samples, validate on 25000 samples\n"
     ]
    },
    {
     "data": {
      "application/vnd.jupyter.widget-view+json": {
       "model_id": "7ad067684848474eb84512232ae1e5f8",
       "version_major": 2,
       "version_minor": 0
      },
      "text/plain": [
       "HBox(children=(IntProgress(value=0, description='Training', max=16, style=ProgressStyle(description_width='ini…"
      ]
     },
     "metadata": {},
     "output_type": "display_data"
    },
    {
     "name": "stdout",
     "output_type": "stream",
     "text": [
      "Epoch 1/16\n"
     ]
    },
    {
     "data": {
      "application/vnd.jupyter.widget-view+json": {
       "model_id": "",
       "version_major": 2,
       "version_minor": 0
      },
      "text/plain": [
       "HBox(children=(IntProgress(value=0, description='Epoch 0', max=25000, style=ProgressStyle(description_width='i…"
      ]
     },
     "metadata": {},
     "output_type": "display_data"
    },
    {
     "name": "stdout",
     "output_type": "stream",
     "text": [
      " - 10s - loss: 0.6296 - acc: 0.6316 - val_loss: 0.4535 - val_acc: 0.8091\n",
      "\n",
      "Epoch 00001: val_acc did not improve from 0.90076\n",
      "Epoch 2/16\n"
     ]
    },
    {
     "data": {
      "application/vnd.jupyter.widget-view+json": {
       "model_id": "",
       "version_major": 2,
       "version_minor": 0
      },
      "text/plain": [
       "HBox(children=(IntProgress(value=0, description='Epoch 1', max=25000, style=ProgressStyle(description_width='i…"
      ]
     },
     "metadata": {},
     "output_type": "display_data"
    },
    {
     "name": "stdout",
     "output_type": "stream",
     "text": [
      " - 10s - loss: 0.4459 - acc: 0.7928 - val_loss: 0.3897 - val_acc: 0.8362\n",
      "\n",
      "Epoch 00002: val_acc did not improve from 0.90076\n",
      "Epoch 3/16\n"
     ]
    },
    {
     "data": {
      "application/vnd.jupyter.widget-view+json": {
       "model_id": "",
       "version_major": 2,
       "version_minor": 0
      },
      "text/plain": [
       "HBox(children=(IntProgress(value=0, description='Epoch 2', max=25000, style=ProgressStyle(description_width='i…"
      ]
     },
     "metadata": {},
     "output_type": "display_data"
    },
    {
     "name": "stdout",
     "output_type": "stream",
     "text": [
      " - 10s - loss: 0.4077 - acc: 0.8150 - val_loss: 0.3572 - val_acc: 0.8544\n",
      "\n",
      "Epoch 00003: val_acc did not improve from 0.90076\n",
      "Epoch 4/16\n"
     ]
    },
    {
     "data": {
      "application/vnd.jupyter.widget-view+json": {
       "model_id": "",
       "version_major": 2,
       "version_minor": 0
      },
      "text/plain": [
       "HBox(children=(IntProgress(value=0, description='Epoch 3', max=25000, style=ProgressStyle(description_width='i…"
      ]
     },
     "metadata": {},
     "output_type": "display_data"
    },
    {
     "name": "stdout",
     "output_type": "stream",
     "text": [
      " - 10s - loss: 0.3897 - acc: 0.8259 - val_loss: 0.3387 - val_acc: 0.8597\n",
      "\n",
      "Epoch 00004: val_acc did not improve from 0.90076\n",
      "Epoch 5/16\n"
     ]
    },
    {
     "data": {
      "application/vnd.jupyter.widget-view+json": {
       "model_id": "",
       "version_major": 2,
       "version_minor": 0
      },
      "text/plain": [
       "HBox(children=(IntProgress(value=0, description='Epoch 4', max=25000, style=ProgressStyle(description_width='i…"
      ]
     },
     "metadata": {},
     "output_type": "display_data"
    },
    {
     "name": "stdout",
     "output_type": "stream",
     "text": [
      " - 10s - loss: 0.3772 - acc: 0.8328 - val_loss: 0.3344 - val_acc: 0.8564\n",
      "\n",
      "Epoch 00005: val_acc did not improve from 0.90076\n",
      "Epoch 6/16\n"
     ]
    },
    {
     "data": {
      "application/vnd.jupyter.widget-view+json": {
       "model_id": "",
       "version_major": 2,
       "version_minor": 0
      },
      "text/plain": [
       "HBox(children=(IntProgress(value=0, description='Epoch 5', max=25000, style=ProgressStyle(description_width='i…"
      ]
     },
     "metadata": {},
     "output_type": "display_data"
    },
    {
     "name": "stdout",
     "output_type": "stream",
     "text": [
      " - 10s - loss: 0.3645 - acc: 0.8398 - val_loss: 0.3250 - val_acc: 0.8636\n",
      "\n",
      "Epoch 00006: val_acc did not improve from 0.90076\n",
      "Epoch 7/16\n"
     ]
    },
    {
     "data": {
      "application/vnd.jupyter.widget-view+json": {
       "model_id": "",
       "version_major": 2,
       "version_minor": 0
      },
      "text/plain": [
       "HBox(children=(IntProgress(value=0, description='Epoch 6', max=25000, style=ProgressStyle(description_width='i…"
      ]
     },
     "metadata": {},
     "output_type": "display_data"
    },
    {
     "name": "stdout",
     "output_type": "stream",
     "text": [
      " - 10s - loss: 0.3593 - acc: 0.8417 - val_loss: 0.3175 - val_acc: 0.8671\n",
      "\n",
      "Epoch 00007: val_acc did not improve from 0.90076\n",
      "Epoch 8/16\n"
     ]
    },
    {
     "data": {
      "application/vnd.jupyter.widget-view+json": {
       "model_id": "",
       "version_major": 2,
       "version_minor": 0
      },
      "text/plain": [
       "HBox(children=(IntProgress(value=0, description='Epoch 7', max=25000, style=ProgressStyle(description_width='i…"
      ]
     },
     "metadata": {},
     "output_type": "display_data"
    },
    {
     "name": "stdout",
     "output_type": "stream",
     "text": [
      " - 10s - loss: 0.3547 - acc: 0.8437 - val_loss: 0.3147 - val_acc: 0.8693\n",
      "\n",
      "Epoch 00008: val_acc did not improve from 0.90076\n",
      "Epoch 9/16\n"
     ]
    },
    {
     "data": {
      "application/vnd.jupyter.widget-view+json": {
       "model_id": "",
       "version_major": 2,
       "version_minor": 0
      },
      "text/plain": [
       "HBox(children=(IntProgress(value=0, description='Epoch 8', max=25000, style=ProgressStyle(description_width='i…"
      ]
     },
     "metadata": {},
     "output_type": "display_data"
    },
    {
     "name": "stdout",
     "output_type": "stream",
     "text": [
      " - 10s - loss: 0.3433 - acc: 0.8487 - val_loss: 0.3141 - val_acc: 0.8711\n",
      "\n",
      "Epoch 00009: val_acc did not improve from 0.90076\n",
      "Epoch 10/16\n"
     ]
    },
    {
     "data": {
      "application/vnd.jupyter.widget-view+json": {
       "model_id": "",
       "version_major": 2,
       "version_minor": 0
      },
      "text/plain": [
       "HBox(children=(IntProgress(value=0, description='Epoch 9', max=25000, style=ProgressStyle(description_width='i…"
      ]
     },
     "metadata": {},
     "output_type": "display_data"
    },
    {
     "name": "stdout",
     "output_type": "stream",
     "text": [
      " - 10s - loss: 0.3420 - acc: 0.8500 - val_loss: 0.3143 - val_acc: 0.8693\n",
      "\n",
      "Epoch 00010: val_acc did not improve from 0.90076\n",
      "Epoch 11/16\n"
     ]
    },
    {
     "data": {
      "application/vnd.jupyter.widget-view+json": {
       "model_id": "",
       "version_major": 2,
       "version_minor": 0
      },
      "text/plain": [
       "HBox(children=(IntProgress(value=0, description='Epoch 10', max=25000, style=ProgressStyle(description_width='…"
      ]
     },
     "metadata": {},
     "output_type": "display_data"
    },
    {
     "name": "stdout",
     "output_type": "stream",
     "text": [
      " - 10s - loss: 0.3361 - acc: 0.8525 - val_loss: 0.3088 - val_acc: 0.8704\n",
      "\n",
      "Epoch 00011: val_acc did not improve from 0.90076\n",
      "\n",
      "Test Accuracy: 87.04%\n",
      "<keras.callbacks.History object at 0x7f98b12f2048>\n"
     ]
    },
    {
     "data": {
      "text/html": [
       "<div>\n",
       "<style scoped>\n",
       "    .dataframe tbody tr th:only-of-type {\n",
       "        vertical-align: middle;\n",
       "    }\n",
       "\n",
       "    .dataframe tbody tr th {\n",
       "        vertical-align: top;\n",
       "    }\n",
       "\n",
       "    .dataframe thead th {\n",
       "        text-align: right;\n",
       "    }\n",
       "</style>\n",
       "<table border=\"1\" class=\"dataframe\">\n",
       "  <thead>\n",
       "    <tr style=\"text-align: right;\">\n",
       "      <th></th>\n",
       "      <th>use_cleaned_docs</th>\n",
       "      <th>number_of_additional_conv_layers</th>\n",
       "      <th>use_pre_trained_embedding</th>\n",
       "      <th>trainable_for_embedding</th>\n",
       "      <th>number_of_filters</th>\n",
       "      <th>use_dropout</th>\n",
       "    </tr>\n",
       "  </thead>\n",
       "  <tbody>\n",
       "    <tr>\n",
       "      <th>17</th>\n",
       "      <td>False</td>\n",
       "      <td>0</td>\n",
       "      <td>True</td>\n",
       "      <td>False</td>\n",
       "      <td>48</td>\n",
       "      <td>False</td>\n",
       "    </tr>\n",
       "  </tbody>\n",
       "</table>\n",
       "</div>"
      ],
      "text/plain": [
       "    use_cleaned_docs  number_of_additional_conv_layers  \\\n",
       "17             False                                 0   \n",
       "\n",
       "    use_pre_trained_embedding  trainable_for_embedding  number_of_filters  \\\n",
       "17                       True                    False                 48   \n",
       "\n",
       "    use_dropout  \n",
       "17        False  "
      ]
     },
     "metadata": {},
     "output_type": "display_data"
    },
    {
     "name": "stdout",
     "output_type": "stream",
     "text": [
      "Fitted tokenizer on 25000 documents\n",
      "Top 5 most common words are: [('the', 336148), ('and', 164097), ('a', 163040), ('of', 145847), ('to', 135708)]\n",
      "_________________________________________________________________\n",
      "Layer (type)                 Output Shape              Param #   \n",
      "=================================================================\n",
      "embedding_1 (Embedding)      (None, 2470, 200)         17716600  \n",
      "_________________________________________________________________\n",
      "conv1d_1 (Conv1D)            (None, 2466, 48)          48048     \n",
      "_________________________________________________________________\n",
      "max_pooling1d_1 (MaxPooling1 (None, 246, 48)           0         \n",
      "_________________________________________________________________\n",
      "flatten_1 (Flatten)          (None, 11808)             0         \n",
      "_________________________________________________________________\n",
      "dense_1 (Dense)              (None, 128)               1511552   \n",
      "_________________________________________________________________\n",
      "dense_2 (Dense)              (None, 1)                 129       \n",
      "=================================================================\n",
      "Total params: 19,276,329\n",
      "Trainable params: 1,559,729\n",
      "Non-trainable params: 17,716,600\n",
      "_________________________________________________________________\n",
      "Train on 25000 samples, validate on 25000 samples\n"
     ]
    },
    {
     "data": {
      "application/vnd.jupyter.widget-view+json": {
       "model_id": "f9c9b1225ccb4cb7ac162dc38b3908c1",
       "version_major": 2,
       "version_minor": 0
      },
      "text/plain": [
       "HBox(children=(IntProgress(value=0, description='Training', max=16, style=ProgressStyle(description_width='ini…"
      ]
     },
     "metadata": {},
     "output_type": "display_data"
    },
    {
     "name": "stdout",
     "output_type": "stream",
     "text": [
      "Epoch 1/16\n"
     ]
    },
    {
     "data": {
      "application/vnd.jupyter.widget-view+json": {
       "model_id": "",
       "version_major": 2,
       "version_minor": 0
      },
      "text/plain": [
       "HBox(children=(IntProgress(value=0, description='Epoch 0', max=25000, style=ProgressStyle(description_width='i…"
      ]
     },
     "metadata": {},
     "output_type": "display_data"
    },
    {
     "name": "stdout",
     "output_type": "stream",
     "text": [
      " - 8s - loss: 0.5704 - acc: 0.6750 - val_loss: 0.3943 - val_acc: 0.8249\n",
      "\n",
      "Epoch 00001: val_acc did not improve from 0.90076\n",
      "Epoch 2/16\n"
     ]
    },
    {
     "data": {
      "application/vnd.jupyter.widget-view+json": {
       "model_id": "",
       "version_major": 2,
       "version_minor": 0
      },
      "text/plain": [
       "HBox(children=(IntProgress(value=0, description='Epoch 1', max=25000, style=ProgressStyle(description_width='i…"
      ]
     },
     "metadata": {},
     "output_type": "display_data"
    },
    {
     "name": "stdout",
     "output_type": "stream",
     "text": [
      " - 8s - loss: 0.3290 - acc: 0.8594 - val_loss: 0.3355 - val_acc: 0.8522\n",
      "\n",
      "Epoch 00002: val_acc did not improve from 0.90076\n",
      "Epoch 3/16\n"
     ]
    },
    {
     "data": {
      "application/vnd.jupyter.widget-view+json": {
       "model_id": "",
       "version_major": 2,
       "version_minor": 0
      },
      "text/plain": [
       "HBox(children=(IntProgress(value=0, description='Epoch 2', max=25000, style=ProgressStyle(description_width='i…"
      ]
     },
     "metadata": {},
     "output_type": "display_data"
    },
    {
     "name": "stdout",
     "output_type": "stream",
     "text": [
      " - 8s - loss: 0.2536 - acc: 0.8982 - val_loss: 0.3270 - val_acc: 0.8592\n",
      "\n",
      "Epoch 00003: val_acc did not improve from 0.90076\n",
      "Epoch 4/16\n"
     ]
    },
    {
     "data": {
      "application/vnd.jupyter.widget-view+json": {
       "model_id": "",
       "version_major": 2,
       "version_minor": 0
      },
      "text/plain": [
       "HBox(children=(IntProgress(value=0, description='Epoch 3', max=25000, style=ProgressStyle(description_width='i…"
      ]
     },
     "metadata": {},
     "output_type": "display_data"
    },
    {
     "name": "stdout",
     "output_type": "stream",
     "text": [
      " - 8s - loss: 0.1746 - acc: 0.9340 - val_loss: 0.3494 - val_acc: 0.8587\n",
      "\n",
      "Epoch 00004: val_acc did not improve from 0.90076\n",
      "Epoch 5/16\n"
     ]
    },
    {
     "data": {
      "application/vnd.jupyter.widget-view+json": {
       "model_id": "",
       "version_major": 2,
       "version_minor": 0
      },
      "text/plain": [
       "HBox(children=(IntProgress(value=0, description='Epoch 4', max=25000, style=ProgressStyle(description_width='i…"
      ]
     },
     "metadata": {},
     "output_type": "display_data"
    },
    {
     "name": "stdout",
     "output_type": "stream",
     "text": [
      " - 8s - loss: 0.1073 - acc: 0.9627 - val_loss: 0.4468 - val_acc: 0.8400\n",
      "\n",
      "Epoch 00005: val_acc did not improve from 0.90076\n",
      "\n",
      "Test Accuracy: 84.00%\n",
      "<keras.callbacks.History object at 0x7f97e3558358>\n"
     ]
    },
    {
     "data": {
      "text/html": [
       "<div>\n",
       "<style scoped>\n",
       "    .dataframe tbody tr th:only-of-type {\n",
       "        vertical-align: middle;\n",
       "    }\n",
       "\n",
       "    .dataframe tbody tr th {\n",
       "        vertical-align: top;\n",
       "    }\n",
       "\n",
       "    .dataframe thead th {\n",
       "        text-align: right;\n",
       "    }\n",
       "</style>\n",
       "<table border=\"1\" class=\"dataframe\">\n",
       "  <thead>\n",
       "    <tr style=\"text-align: right;\">\n",
       "      <th></th>\n",
       "      <th>use_cleaned_docs</th>\n",
       "      <th>number_of_additional_conv_layers</th>\n",
       "      <th>use_pre_trained_embedding</th>\n",
       "      <th>trainable_for_embedding</th>\n",
       "      <th>number_of_filters</th>\n",
       "      <th>use_dropout</th>\n",
       "    </tr>\n",
       "  </thead>\n",
       "  <tbody>\n",
       "    <tr>\n",
       "      <th>18</th>\n",
       "      <td>False</td>\n",
       "      <td>0</td>\n",
       "      <td>True</td>\n",
       "      <td>False</td>\n",
       "      <td>96</td>\n",
       "      <td>True</td>\n",
       "    </tr>\n",
       "  </tbody>\n",
       "</table>\n",
       "</div>"
      ],
      "text/plain": [
       "    use_cleaned_docs  number_of_additional_conv_layers  \\\n",
       "18             False                                 0   \n",
       "\n",
       "    use_pre_trained_embedding  trainable_for_embedding  number_of_filters  \\\n",
       "18                       True                    False                 96   \n",
       "\n",
       "    use_dropout  \n",
       "18         True  "
      ]
     },
     "metadata": {},
     "output_type": "display_data"
    },
    {
     "name": "stdout",
     "output_type": "stream",
     "text": [
      "Fitted tokenizer on 25000 documents\n",
      "Top 5 most common words are: [('the', 336148), ('and', 164097), ('a', 163040), ('of', 145847), ('to', 135708)]\n",
      "_________________________________________________________________\n",
      "Layer (type)                 Output Shape              Param #   \n",
      "=================================================================\n",
      "embedding_1 (Embedding)      (None, 2470, 200)         17716600  \n",
      "_________________________________________________________________\n",
      "dropout_1 (Dropout)          (None, 2470, 200)         0         \n",
      "_________________________________________________________________\n",
      "conv1d_1 (Conv1D)            (None, 2466, 96)          96096     \n",
      "_________________________________________________________________\n",
      "max_pooling1d_1 (MaxPooling1 (None, 246, 96)           0         \n",
      "_________________________________________________________________\n",
      "dropout_2 (Dropout)          (None, 246, 96)           0         \n",
      "_________________________________________________________________\n",
      "flatten_1 (Flatten)          (None, 23616)             0         \n",
      "_________________________________________________________________\n",
      "dense_1 (Dense)              (None, 128)               3022976   \n",
      "_________________________________________________________________\n",
      "dense_2 (Dense)              (None, 1)                 129       \n",
      "=================================================================\n",
      "Total params: 20,835,801\n",
      "Trainable params: 3,119,201\n",
      "Non-trainable params: 17,716,600\n",
      "_________________________________________________________________\n",
      "Train on 25000 samples, validate on 25000 samples\n"
     ]
    },
    {
     "data": {
      "application/vnd.jupyter.widget-view+json": {
       "model_id": "37cd657d8c684ab3a29ea87b0069890e",
       "version_major": 2,
       "version_minor": 0
      },
      "text/plain": [
       "HBox(children=(IntProgress(value=0, description='Training', max=16, style=ProgressStyle(description_width='ini…"
      ]
     },
     "metadata": {},
     "output_type": "display_data"
    },
    {
     "name": "stdout",
     "output_type": "stream",
     "text": [
      "Epoch 1/16\n"
     ]
    },
    {
     "data": {
      "application/vnd.jupyter.widget-view+json": {
       "model_id": "",
       "version_major": 2,
       "version_minor": 0
      },
      "text/plain": [
       "HBox(children=(IntProgress(value=0, description='Epoch 0', max=25000, style=ProgressStyle(description_width='i…"
      ]
     },
     "metadata": {},
     "output_type": "display_data"
    },
    {
     "name": "stdout",
     "output_type": "stream",
     "text": [
      " - 13s - loss: 0.7023 - acc: 0.5392 - val_loss: 0.5971 - val_acc: 0.7317\n",
      "\n",
      "Epoch 00001: val_acc did not improve from 0.90076\n",
      "Epoch 2/16\n"
     ]
    },
    {
     "data": {
      "application/vnd.jupyter.widget-view+json": {
       "model_id": "",
       "version_major": 2,
       "version_minor": 0
      },
      "text/plain": [
       "HBox(children=(IntProgress(value=0, description='Epoch 1', max=25000, style=ProgressStyle(description_width='i…"
      ]
     },
     "metadata": {},
     "output_type": "display_data"
    },
    {
     "name": "stdout",
     "output_type": "stream",
     "text": [
      " - 13s - loss: 0.4800 - acc: 0.7751 - val_loss: 0.3929 - val_acc: 0.8345\n",
      "\n",
      "Epoch 00002: val_acc did not improve from 0.90076\n",
      "Epoch 3/16\n"
     ]
    },
    {
     "data": {
      "application/vnd.jupyter.widget-view+json": {
       "model_id": "",
       "version_major": 2,
       "version_minor": 0
      },
      "text/plain": [
       "HBox(children=(IntProgress(value=0, description='Epoch 2', max=25000, style=ProgressStyle(description_width='i…"
      ]
     },
     "metadata": {},
     "output_type": "display_data"
    },
    {
     "name": "stdout",
     "output_type": "stream",
     "text": [
      " - 13s - loss: 0.4015 - acc: 0.8198 - val_loss: 0.3634 - val_acc: 0.8445\n",
      "\n",
      "Epoch 00003: val_acc did not improve from 0.90076\n",
      "Epoch 4/16\n"
     ]
    },
    {
     "data": {
      "application/vnd.jupyter.widget-view+json": {
       "model_id": "",
       "version_major": 2,
       "version_minor": 0
      },
      "text/plain": [
       "HBox(children=(IntProgress(value=0, description='Epoch 3', max=25000, style=ProgressStyle(description_width='i…"
      ]
     },
     "metadata": {},
     "output_type": "display_data"
    },
    {
     "name": "stdout",
     "output_type": "stream",
     "text": [
      " - 13s - loss: 0.3800 - acc: 0.8309 - val_loss: 0.3506 - val_acc: 0.8526\n",
      "\n",
      "Epoch 00004: val_acc did not improve from 0.90076\n",
      "Epoch 5/16\n"
     ]
    },
    {
     "data": {
      "application/vnd.jupyter.widget-view+json": {
       "model_id": "",
       "version_major": 2,
       "version_minor": 0
      },
      "text/plain": [
       "HBox(children=(IntProgress(value=0, description='Epoch 4', max=25000, style=ProgressStyle(description_width='i…"
      ]
     },
     "metadata": {},
     "output_type": "display_data"
    },
    {
     "name": "stdout",
     "output_type": "stream",
     "text": [
      " - 13s - loss: 0.3622 - acc: 0.8421 - val_loss: 0.3377 - val_acc: 0.8565\n",
      "\n",
      "Epoch 00005: val_acc did not improve from 0.90076\n",
      "Epoch 6/16\n"
     ]
    },
    {
     "data": {
      "application/vnd.jupyter.widget-view+json": {
       "model_id": "",
       "version_major": 2,
       "version_minor": 0
      },
      "text/plain": [
       "HBox(children=(IntProgress(value=0, description='Epoch 5', max=25000, style=ProgressStyle(description_width='i…"
      ]
     },
     "metadata": {},
     "output_type": "display_data"
    },
    {
     "name": "stdout",
     "output_type": "stream",
     "text": [
      " - 13s - loss: 0.3488 - acc: 0.8488 - val_loss: 0.3232 - val_acc: 0.8652\n",
      "\n",
      "Epoch 00006: val_acc did not improve from 0.90076\n",
      "Epoch 7/16\n"
     ]
    },
    {
     "data": {
      "application/vnd.jupyter.widget-view+json": {
       "model_id": "",
       "version_major": 2,
       "version_minor": 0
      },
      "text/plain": [
       "HBox(children=(IntProgress(value=0, description='Epoch 6', max=25000, style=ProgressStyle(description_width='i…"
      ]
     },
     "metadata": {},
     "output_type": "display_data"
    },
    {
     "name": "stdout",
     "output_type": "stream",
     "text": [
      " - 13s - loss: 0.3404 - acc: 0.8522 - val_loss: 0.3137 - val_acc: 0.8653\n",
      "\n",
      "Epoch 00007: val_acc did not improve from 0.90076\n",
      "Epoch 8/16\n"
     ]
    },
    {
     "data": {
      "application/vnd.jupyter.widget-view+json": {
       "model_id": "",
       "version_major": 2,
       "version_minor": 0
      },
      "text/plain": [
       "HBox(children=(IntProgress(value=0, description='Epoch 7', max=25000, style=ProgressStyle(description_width='i…"
      ]
     },
     "metadata": {},
     "output_type": "display_data"
    },
    {
     "name": "stdout",
     "output_type": "stream",
     "text": [
      " - 13s - loss: 0.3348 - acc: 0.8551 - val_loss: 0.3236 - val_acc: 0.8606\n",
      "\n",
      "Epoch 00008: val_acc did not improve from 0.90076\n",
      "Epoch 9/16\n"
     ]
    },
    {
     "data": {
      "application/vnd.jupyter.widget-view+json": {
       "model_id": "",
       "version_major": 2,
       "version_minor": 0
      },
      "text/plain": [
       "HBox(children=(IntProgress(value=0, description='Epoch 8', max=25000, style=ProgressStyle(description_width='i…"
      ]
     },
     "metadata": {},
     "output_type": "display_data"
    },
    {
     "name": "stdout",
     "output_type": "stream",
     "text": [
      " - 13s - loss: 0.3220 - acc: 0.8619 - val_loss: 0.3678 - val_acc: 0.8301\n",
      "\n",
      "Epoch 00009: val_acc did not improve from 0.90076\n",
      "\n",
      "Test Accuracy: 83.01%\n",
      "<keras.callbacks.History object at 0x7f95b44a5278>\n"
     ]
    },
    {
     "data": {
      "text/html": [
       "<div>\n",
       "<style scoped>\n",
       "    .dataframe tbody tr th:only-of-type {\n",
       "        vertical-align: middle;\n",
       "    }\n",
       "\n",
       "    .dataframe tbody tr th {\n",
       "        vertical-align: top;\n",
       "    }\n",
       "\n",
       "    .dataframe thead th {\n",
       "        text-align: right;\n",
       "    }\n",
       "</style>\n",
       "<table border=\"1\" class=\"dataframe\">\n",
       "  <thead>\n",
       "    <tr style=\"text-align: right;\">\n",
       "      <th></th>\n",
       "      <th>use_cleaned_docs</th>\n",
       "      <th>number_of_additional_conv_layers</th>\n",
       "      <th>use_pre_trained_embedding</th>\n",
       "      <th>trainable_for_embedding</th>\n",
       "      <th>number_of_filters</th>\n",
       "      <th>use_dropout</th>\n",
       "    </tr>\n",
       "  </thead>\n",
       "  <tbody>\n",
       "    <tr>\n",
       "      <th>19</th>\n",
       "      <td>False</td>\n",
       "      <td>0</td>\n",
       "      <td>True</td>\n",
       "      <td>False</td>\n",
       "      <td>96</td>\n",
       "      <td>False</td>\n",
       "    </tr>\n",
       "  </tbody>\n",
       "</table>\n",
       "</div>"
      ],
      "text/plain": [
       "    use_cleaned_docs  number_of_additional_conv_layers  \\\n",
       "19             False                                 0   \n",
       "\n",
       "    use_pre_trained_embedding  trainable_for_embedding  number_of_filters  \\\n",
       "19                       True                    False                 96   \n",
       "\n",
       "    use_dropout  \n",
       "19        False  "
      ]
     },
     "metadata": {},
     "output_type": "display_data"
    },
    {
     "name": "stdout",
     "output_type": "stream",
     "text": [
      "Fitted tokenizer on 25000 documents\n",
      "Top 5 most common words are: [('the', 336148), ('and', 164097), ('a', 163040), ('of', 145847), ('to', 135708)]\n",
      "_________________________________________________________________\n",
      "Layer (type)                 Output Shape              Param #   \n",
      "=================================================================\n",
      "embedding_1 (Embedding)      (None, 2470, 200)         17716600  \n",
      "_________________________________________________________________\n",
      "conv1d_1 (Conv1D)            (None, 2466, 96)          96096     \n",
      "_________________________________________________________________\n",
      "max_pooling1d_1 (MaxPooling1 (None, 246, 96)           0         \n",
      "_________________________________________________________________\n",
      "flatten_1 (Flatten)          (None, 23616)             0         \n",
      "_________________________________________________________________\n",
      "dense_1 (Dense)              (None, 128)               3022976   \n",
      "_________________________________________________________________\n",
      "dense_2 (Dense)              (None, 1)                 129       \n",
      "=================================================================\n",
      "Total params: 20,835,801\n",
      "Trainable params: 3,119,201\n",
      "Non-trainable params: 17,716,600\n",
      "_________________________________________________________________\n",
      "Train on 25000 samples, validate on 25000 samples\n"
     ]
    },
    {
     "data": {
      "application/vnd.jupyter.widget-view+json": {
       "model_id": "d9b7b329575a46d8a8808fa03825ee16",
       "version_major": 2,
       "version_minor": 0
      },
      "text/plain": [
       "HBox(children=(IntProgress(value=0, description='Training', max=16, style=ProgressStyle(description_width='ini…"
      ]
     },
     "metadata": {},
     "output_type": "display_data"
    },
    {
     "name": "stdout",
     "output_type": "stream",
     "text": [
      "Epoch 1/16\n"
     ]
    },
    {
     "data": {
      "application/vnd.jupyter.widget-view+json": {
       "model_id": "",
       "version_major": 2,
       "version_minor": 0
      },
      "text/plain": [
       "HBox(children=(IntProgress(value=0, description='Epoch 0', max=25000, style=ProgressStyle(description_width='i…"
      ]
     },
     "metadata": {},
     "output_type": "display_data"
    },
    {
     "name": "stdout",
     "output_type": "stream",
     "text": [
      " - 11s - loss: 0.4921 - acc: 0.7552 - val_loss: 0.3835 - val_acc: 0.8292\n",
      "\n",
      "Epoch 00001: val_acc did not improve from 0.90076\n",
      "Epoch 2/16\n"
     ]
    },
    {
     "data": {
      "application/vnd.jupyter.widget-view+json": {
       "model_id": "",
       "version_major": 2,
       "version_minor": 0
      },
      "text/plain": [
       "HBox(children=(IntProgress(value=0, description='Epoch 1', max=25000, style=ProgressStyle(description_width='i…"
      ]
     },
     "metadata": {},
     "output_type": "display_data"
    },
    {
     "name": "stdout",
     "output_type": "stream",
     "text": [
      " - 11s - loss: 0.3130 - acc: 0.8684 - val_loss: 0.3492 - val_acc: 0.8476\n",
      "\n",
      "Epoch 00002: val_acc did not improve from 0.90076\n",
      "Epoch 3/16\n"
     ]
    },
    {
     "data": {
      "application/vnd.jupyter.widget-view+json": {
       "model_id": "",
       "version_major": 2,
       "version_minor": 0
      },
      "text/plain": [
       "HBox(children=(IntProgress(value=0, description='Epoch 2', max=25000, style=ProgressStyle(description_width='i…"
      ]
     },
     "metadata": {},
     "output_type": "display_data"
    },
    {
     "name": "stdout",
     "output_type": "stream",
     "text": [
      " - 11s - loss: 0.2189 - acc: 0.9160 - val_loss: 0.3388 - val_acc: 0.8576\n",
      "\n",
      "Epoch 00003: val_acc did not improve from 0.90076\n",
      "Epoch 4/16\n"
     ]
    },
    {
     "data": {
      "application/vnd.jupyter.widget-view+json": {
       "model_id": "",
       "version_major": 2,
       "version_minor": 0
      },
      "text/plain": [
       "HBox(children=(IntProgress(value=0, description='Epoch 3', max=25000, style=ProgressStyle(description_width='i…"
      ]
     },
     "metadata": {},
     "output_type": "display_data"
    },
    {
     "name": "stdout",
     "output_type": "stream",
     "text": [
      " - 11s - loss: 0.1263 - acc: 0.9548 - val_loss: 0.4241 - val_acc: 0.8453\n",
      "\n",
      "Epoch 00004: val_acc did not improve from 0.90076\n",
      "Epoch 5/16\n"
     ]
    },
    {
     "data": {
      "application/vnd.jupyter.widget-view+json": {
       "model_id": "",
       "version_major": 2,
       "version_minor": 0
      },
      "text/plain": [
       "HBox(children=(IntProgress(value=0, description='Epoch 4', max=25000, style=ProgressStyle(description_width='i…"
      ]
     },
     "metadata": {},
     "output_type": "display_data"
    },
    {
     "name": "stdout",
     "output_type": "stream",
     "text": [
      " - 11s - loss: 0.0623 - acc: 0.9798 - val_loss: 0.4952 - val_acc: 0.8444\n",
      "\n",
      "Epoch 00005: val_acc did not improve from 0.90076\n",
      "\n",
      "Test Accuracy: 84.44%\n",
      "<keras.callbacks.History object at 0x7f9750174668>\n"
     ]
    },
    {
     "data": {
      "text/html": [
       "<div>\n",
       "<style scoped>\n",
       "    .dataframe tbody tr th:only-of-type {\n",
       "        vertical-align: middle;\n",
       "    }\n",
       "\n",
       "    .dataframe tbody tr th {\n",
       "        vertical-align: top;\n",
       "    }\n",
       "\n",
       "    .dataframe thead th {\n",
       "        text-align: right;\n",
       "    }\n",
       "</style>\n",
       "<table border=\"1\" class=\"dataframe\">\n",
       "  <thead>\n",
       "    <tr style=\"text-align: right;\">\n",
       "      <th></th>\n",
       "      <th>use_cleaned_docs</th>\n",
       "      <th>number_of_additional_conv_layers</th>\n",
       "      <th>use_pre_trained_embedding</th>\n",
       "      <th>trainable_for_embedding</th>\n",
       "      <th>number_of_filters</th>\n",
       "      <th>use_dropout</th>\n",
       "    </tr>\n",
       "  </thead>\n",
       "  <tbody>\n",
       "    <tr>\n",
       "      <th>20</th>\n",
       "      <td>False</td>\n",
       "      <td>0</td>\n",
       "      <td>False</td>\n",
       "      <td>True</td>\n",
       "      <td>48</td>\n",
       "      <td>True</td>\n",
       "    </tr>\n",
       "  </tbody>\n",
       "</table>\n",
       "</div>"
      ],
      "text/plain": [
       "    use_cleaned_docs  number_of_additional_conv_layers  \\\n",
       "20             False                                 0   \n",
       "\n",
       "    use_pre_trained_embedding  trainable_for_embedding  number_of_filters  \\\n",
       "20                      False                     True                 48   \n",
       "\n",
       "    use_dropout  \n",
       "20         True  "
      ]
     },
     "metadata": {},
     "output_type": "display_data"
    },
    {
     "name": "stdout",
     "output_type": "stream",
     "text": [
      "Fitted tokenizer on 25000 documents\n",
      "Top 5 most common words are: [('the', 336148), ('and', 164097), ('a', 163040), ('of', 145847), ('to', 135708)]\n",
      "_________________________________________________________________\n",
      "Layer (type)                 Output Shape              Param #   \n",
      "=================================================================\n",
      "embedding_1 (Embedding)      (None, 2470, 200)         17716600  \n",
      "_________________________________________________________________\n",
      "dropout_1 (Dropout)          (None, 2470, 200)         0         \n",
      "_________________________________________________________________\n",
      "conv1d_1 (Conv1D)            (None, 2466, 48)          48048     \n",
      "_________________________________________________________________\n",
      "max_pooling1d_1 (MaxPooling1 (None, 246, 48)           0         \n",
      "_________________________________________________________________\n",
      "dropout_2 (Dropout)          (None, 246, 48)           0         \n",
      "_________________________________________________________________\n",
      "flatten_1 (Flatten)          (None, 11808)             0         \n",
      "_________________________________________________________________\n",
      "dense_1 (Dense)              (None, 128)               1511552   \n",
      "_________________________________________________________________\n",
      "dense_2 (Dense)              (None, 1)                 129       \n",
      "=================================================================\n",
      "Total params: 19,276,329\n",
      "Trainable params: 19,276,329\n",
      "Non-trainable params: 0\n",
      "_________________________________________________________________\n",
      "Train on 25000 samples, validate on 25000 samples\n"
     ]
    },
    {
     "data": {
      "application/vnd.jupyter.widget-view+json": {
       "model_id": "e68a0ac4696247649894f5b87d955702",
       "version_major": 2,
       "version_minor": 0
      },
      "text/plain": [
       "HBox(children=(IntProgress(value=0, description='Training', max=16, style=ProgressStyle(description_width='ini…"
      ]
     },
     "metadata": {},
     "output_type": "display_data"
    },
    {
     "name": "stdout",
     "output_type": "stream",
     "text": [
      "Epoch 1/16\n"
     ]
    },
    {
     "data": {
      "application/vnd.jupyter.widget-view+json": {
       "model_id": "",
       "version_major": 2,
       "version_minor": 0
      },
      "text/plain": [
       "HBox(children=(IntProgress(value=0, description='Epoch 0', max=25000, style=ProgressStyle(description_width='i…"
      ]
     },
     "metadata": {},
     "output_type": "display_data"
    },
    {
     "name": "stdout",
     "output_type": "stream",
     "text": [
      " - 16s - loss: 0.5136 - acc: 0.7028 - val_loss: 0.2892 - val_acc: 0.8795\n",
      "\n",
      "Epoch 00001: val_acc did not improve from 0.90076\n",
      "Epoch 2/16\n"
     ]
    },
    {
     "data": {
      "application/vnd.jupyter.widget-view+json": {
       "model_id": "",
       "version_major": 2,
       "version_minor": 0
      },
      "text/plain": [
       "HBox(children=(IntProgress(value=0, description='Epoch 1', max=25000, style=ProgressStyle(description_width='i…"
      ]
     },
     "metadata": {},
     "output_type": "display_data"
    },
    {
     "name": "stdout",
     "output_type": "stream",
     "text": [
      " - 15s - loss: 0.2048 - acc: 0.9207 - val_loss: 0.2774 - val_acc: 0.8842\n",
      "\n",
      "Epoch 00002: val_acc did not improve from 0.90076\n",
      "Epoch 3/16\n"
     ]
    },
    {
     "data": {
      "application/vnd.jupyter.widget-view+json": {
       "model_id": "",
       "version_major": 2,
       "version_minor": 0
      },
      "text/plain": [
       "HBox(children=(IntProgress(value=0, description='Epoch 2', max=25000, style=ProgressStyle(description_width='i…"
      ]
     },
     "metadata": {},
     "output_type": "display_data"
    },
    {
     "name": "stdout",
     "output_type": "stream",
     "text": [
      " - 15s - loss: 0.0962 - acc: 0.9663 - val_loss: 0.3478 - val_acc: 0.8713\n",
      "\n",
      "Epoch 00003: val_acc did not improve from 0.90076\n",
      "Epoch 4/16\n"
     ]
    },
    {
     "data": {
      "application/vnd.jupyter.widget-view+json": {
       "model_id": "",
       "version_major": 2,
       "version_minor": 0
      },
      "text/plain": [
       "HBox(children=(IntProgress(value=0, description='Epoch 3', max=25000, style=ProgressStyle(description_width='i…"
      ]
     },
     "metadata": {},
     "output_type": "display_data"
    },
    {
     "name": "stdout",
     "output_type": "stream",
     "text": [
      " - 15s - loss: 0.0542 - acc: 0.9816 - val_loss: 0.4167 - val_acc: 0.8654\n",
      "\n",
      "Epoch 00004: val_acc did not improve from 0.90076\n",
      "\n",
      "Test Accuracy: 86.54%\n",
      "<keras.callbacks.History object at 0x7f95de0e3e48>\n"
     ]
    },
    {
     "data": {
      "text/html": [
       "<div>\n",
       "<style scoped>\n",
       "    .dataframe tbody tr th:only-of-type {\n",
       "        vertical-align: middle;\n",
       "    }\n",
       "\n",
       "    .dataframe tbody tr th {\n",
       "        vertical-align: top;\n",
       "    }\n",
       "\n",
       "    .dataframe thead th {\n",
       "        text-align: right;\n",
       "    }\n",
       "</style>\n",
       "<table border=\"1\" class=\"dataframe\">\n",
       "  <thead>\n",
       "    <tr style=\"text-align: right;\">\n",
       "      <th></th>\n",
       "      <th>use_cleaned_docs</th>\n",
       "      <th>number_of_additional_conv_layers</th>\n",
       "      <th>use_pre_trained_embedding</th>\n",
       "      <th>trainable_for_embedding</th>\n",
       "      <th>number_of_filters</th>\n",
       "      <th>use_dropout</th>\n",
       "    </tr>\n",
       "  </thead>\n",
       "  <tbody>\n",
       "    <tr>\n",
       "      <th>21</th>\n",
       "      <td>False</td>\n",
       "      <td>0</td>\n",
       "      <td>False</td>\n",
       "      <td>True</td>\n",
       "      <td>48</td>\n",
       "      <td>False</td>\n",
       "    </tr>\n",
       "  </tbody>\n",
       "</table>\n",
       "</div>"
      ],
      "text/plain": [
       "    use_cleaned_docs  number_of_additional_conv_layers  \\\n",
       "21             False                                 0   \n",
       "\n",
       "    use_pre_trained_embedding  trainable_for_embedding  number_of_filters  \\\n",
       "21                      False                     True                 48   \n",
       "\n",
       "    use_dropout  \n",
       "21        False  "
      ]
     },
     "metadata": {},
     "output_type": "display_data"
    },
    {
     "name": "stdout",
     "output_type": "stream",
     "text": [
      "Fitted tokenizer on 25000 documents\n",
      "Top 5 most common words are: [('the', 336148), ('and', 164097), ('a', 163040), ('of', 145847), ('to', 135708)]\n",
      "_________________________________________________________________\n",
      "Layer (type)                 Output Shape              Param #   \n",
      "=================================================================\n",
      "embedding_1 (Embedding)      (None, 2470, 200)         17716600  \n",
      "_________________________________________________________________\n",
      "conv1d_1 (Conv1D)            (None, 2466, 48)          48048     \n",
      "_________________________________________________________________\n",
      "max_pooling1d_1 (MaxPooling1 (None, 246, 48)           0         \n",
      "_________________________________________________________________\n",
      "flatten_1 (Flatten)          (None, 11808)             0         \n",
      "_________________________________________________________________\n",
      "dense_1 (Dense)              (None, 128)               1511552   \n",
      "_________________________________________________________________\n",
      "dense_2 (Dense)              (None, 1)                 129       \n",
      "=================================================================\n",
      "Total params: 19,276,329\n",
      "Trainable params: 19,276,329\n",
      "Non-trainable params: 0\n",
      "_________________________________________________________________\n",
      "Train on 25000 samples, validate on 25000 samples\n"
     ]
    },
    {
     "data": {
      "application/vnd.jupyter.widget-view+json": {
       "model_id": "26e177bd497a419d9292df9c675531c5",
       "version_major": 2,
       "version_minor": 0
      },
      "text/plain": [
       "HBox(children=(IntProgress(value=0, description='Training', max=16, style=ProgressStyle(description_width='ini…"
      ]
     },
     "metadata": {},
     "output_type": "display_data"
    },
    {
     "name": "stdout",
     "output_type": "stream",
     "text": [
      "Epoch 1/16\n"
     ]
    },
    {
     "data": {
      "application/vnd.jupyter.widget-view+json": {
       "model_id": "",
       "version_major": 2,
       "version_minor": 0
      },
      "text/plain": [
       "HBox(children=(IntProgress(value=0, description='Epoch 0', max=25000, style=ProgressStyle(description_width='i…"
      ]
     },
     "metadata": {},
     "output_type": "display_data"
    },
    {
     "name": "stdout",
     "output_type": "stream",
     "text": [
      " - 13s - loss: 0.4388 - acc: 0.7699 - val_loss: 0.3073 - val_acc: 0.8715\n",
      "\n",
      "Epoch 00001: val_acc did not improve from 0.90076\n",
      "Epoch 2/16\n"
     ]
    },
    {
     "data": {
      "application/vnd.jupyter.widget-view+json": {
       "model_id": "",
       "version_major": 2,
       "version_minor": 0
      },
      "text/plain": [
       "HBox(children=(IntProgress(value=0, description='Epoch 1', max=25000, style=ProgressStyle(description_width='i…"
      ]
     },
     "metadata": {},
     "output_type": "display_data"
    },
    {
     "name": "stdout",
     "output_type": "stream",
     "text": [
      " - 12s - loss: 0.1406 - acc: 0.9497 - val_loss: 0.3061 - val_acc: 0.8797\n",
      "\n",
      "Epoch 00002: val_acc did not improve from 0.90076\n",
      "Epoch 3/16\n"
     ]
    },
    {
     "data": {
      "application/vnd.jupyter.widget-view+json": {
       "model_id": "",
       "version_major": 2,
       "version_minor": 0
      },
      "text/plain": [
       "HBox(children=(IntProgress(value=0, description='Epoch 2', max=25000, style=ProgressStyle(description_width='i…"
      ]
     },
     "metadata": {},
     "output_type": "display_data"
    },
    {
     "name": "stdout",
     "output_type": "stream",
     "text": [
      " - 12s - loss: 0.0356 - acc: 0.9898 - val_loss: 0.4306 - val_acc: 0.8711\n",
      "\n",
      "Epoch 00003: val_acc did not improve from 0.90076\n",
      "Epoch 4/16\n"
     ]
    },
    {
     "data": {
      "application/vnd.jupyter.widget-view+json": {
       "model_id": "",
       "version_major": 2,
       "version_minor": 0
      },
      "text/plain": [
       "HBox(children=(IntProgress(value=0, description='Epoch 3', max=25000, style=ProgressStyle(description_width='i…"
      ]
     },
     "metadata": {},
     "output_type": "display_data"
    },
    {
     "name": "stdout",
     "output_type": "stream",
     "text": [
      " - 12s - loss: 0.0068 - acc: 0.9983 - val_loss: 0.5587 - val_acc: 0.8702\n",
      "\n",
      "Epoch 00004: val_acc did not improve from 0.90076\n",
      "\n",
      "Test Accuracy: 87.02%\n",
      "<keras.callbacks.History object at 0x7f98b1456198>\n"
     ]
    },
    {
     "data": {
      "text/html": [
       "<div>\n",
       "<style scoped>\n",
       "    .dataframe tbody tr th:only-of-type {\n",
       "        vertical-align: middle;\n",
       "    }\n",
       "\n",
       "    .dataframe tbody tr th {\n",
       "        vertical-align: top;\n",
       "    }\n",
       "\n",
       "    .dataframe thead th {\n",
       "        text-align: right;\n",
       "    }\n",
       "</style>\n",
       "<table border=\"1\" class=\"dataframe\">\n",
       "  <thead>\n",
       "    <tr style=\"text-align: right;\">\n",
       "      <th></th>\n",
       "      <th>use_cleaned_docs</th>\n",
       "      <th>number_of_additional_conv_layers</th>\n",
       "      <th>use_pre_trained_embedding</th>\n",
       "      <th>trainable_for_embedding</th>\n",
       "      <th>number_of_filters</th>\n",
       "      <th>use_dropout</th>\n",
       "    </tr>\n",
       "  </thead>\n",
       "  <tbody>\n",
       "    <tr>\n",
       "      <th>22</th>\n",
       "      <td>False</td>\n",
       "      <td>0</td>\n",
       "      <td>False</td>\n",
       "      <td>True</td>\n",
       "      <td>96</td>\n",
       "      <td>True</td>\n",
       "    </tr>\n",
       "  </tbody>\n",
       "</table>\n",
       "</div>"
      ],
      "text/plain": [
       "    use_cleaned_docs  number_of_additional_conv_layers  \\\n",
       "22             False                                 0   \n",
       "\n",
       "    use_pre_trained_embedding  trainable_for_embedding  number_of_filters  \\\n",
       "22                      False                     True                 96   \n",
       "\n",
       "    use_dropout  \n",
       "22         True  "
      ]
     },
     "metadata": {},
     "output_type": "display_data"
    },
    {
     "name": "stdout",
     "output_type": "stream",
     "text": [
      "Fitted tokenizer on 25000 documents\n",
      "Top 5 most common words are: [('the', 336148), ('and', 164097), ('a', 163040), ('of', 145847), ('to', 135708)]\n",
      "_________________________________________________________________\n",
      "Layer (type)                 Output Shape              Param #   \n",
      "=================================================================\n",
      "embedding_1 (Embedding)      (None, 2470, 200)         17716600  \n",
      "_________________________________________________________________\n",
      "dropout_1 (Dropout)          (None, 2470, 200)         0         \n",
      "_________________________________________________________________\n",
      "conv1d_1 (Conv1D)            (None, 2466, 96)          96096     \n",
      "_________________________________________________________________\n",
      "max_pooling1d_1 (MaxPooling1 (None, 246, 96)           0         \n",
      "_________________________________________________________________\n",
      "dropout_2 (Dropout)          (None, 246, 96)           0         \n",
      "_________________________________________________________________\n",
      "flatten_1 (Flatten)          (None, 23616)             0         \n",
      "_________________________________________________________________\n",
      "dense_1 (Dense)              (None, 128)               3022976   \n",
      "_________________________________________________________________\n",
      "dense_2 (Dense)              (None, 1)                 129       \n",
      "=================================================================\n",
      "Total params: 20,835,801\n",
      "Trainable params: 20,835,801\n",
      "Non-trainable params: 0\n",
      "_________________________________________________________________\n",
      "Train on 25000 samples, validate on 25000 samples\n"
     ]
    },
    {
     "data": {
      "application/vnd.jupyter.widget-view+json": {
       "model_id": "40cbe01b1cc649ecac6de311400c1933",
       "version_major": 2,
       "version_minor": 0
      },
      "text/plain": [
       "HBox(children=(IntProgress(value=0, description='Training', max=16, style=ProgressStyle(description_width='ini…"
      ]
     },
     "metadata": {},
     "output_type": "display_data"
    },
    {
     "name": "stdout",
     "output_type": "stream",
     "text": [
      "Epoch 1/16\n"
     ]
    },
    {
     "data": {
      "application/vnd.jupyter.widget-view+json": {
       "model_id": "",
       "version_major": 2,
       "version_minor": 0
      },
      "text/plain": [
       "HBox(children=(IntProgress(value=0, description='Epoch 0', max=25000, style=ProgressStyle(description_width='i…"
      ]
     },
     "metadata": {},
     "output_type": "display_data"
    },
    {
     "name": "stdout",
     "output_type": "stream",
     "text": [
      " - 20s - loss: 0.5752 - acc: 0.6496 - val_loss: 0.3135 - val_acc: 0.8721\n",
      "\n",
      "Epoch 00001: val_acc did not improve from 0.90076\n",
      "Epoch 2/16\n"
     ]
    },
    {
     "data": {
      "application/vnd.jupyter.widget-view+json": {
       "model_id": "",
       "version_major": 2,
       "version_minor": 0
      },
      "text/plain": [
       "HBox(children=(IntProgress(value=0, description='Epoch 1', max=25000, style=ProgressStyle(description_width='i…"
      ]
     },
     "metadata": {},
     "output_type": "display_data"
    },
    {
     "name": "stdout",
     "output_type": "stream",
     "text": [
      " - 19s - loss: 0.2211 - acc: 0.9164 - val_loss: 0.2868 - val_acc: 0.8835\n",
      "\n",
      "Epoch 00002: val_acc did not improve from 0.90076\n",
      "Epoch 3/16\n"
     ]
    },
    {
     "data": {
      "application/vnd.jupyter.widget-view+json": {
       "model_id": "a75aaf8475b840959a6f33fd3b2158d0",
       "version_major": 2,
       "version_minor": 0
      },
      "text/plain": [
       "HBox(children=(IntProgress(value=0, description='Epoch 2', max=25000, style=ProgressStyle(description_width='i…"
      ]
     },
     "metadata": {},
     "output_type": "display_data"
    }
   ],
   "source": [
    "exp_result = []\n",
    "exp_model_config = []\n",
    "\n",
    "for i, exp_cond in enumerate(exp_conditions):\n",
    "    K.clear_session()\n",
    "    config = tf.ConfigProto()\n",
    "    config.gpu_options.allow_growth = True\n",
    "    sess = tf.Session(config=config)\n",
    "    K.set_session(sess)\n",
    "    display(exp_cond_df[i:i+1])\n",
    "    history = build_and_train_model(**exp_cond)\n",
    "    print(history)\n",
    "    exp_result.append(history)\n"
   ]
  },
  {
   "cell_type": "code",
   "execution_count": null,
   "metadata": {
    "scrolled": false
   },
   "outputs": [],
   "source": [
    "%matplotlib notebook\n",
    "\n",
    "import matplotlib.pyplot as plt\n",
    "\n",
    "for history in exp_result:\n",
    "    plt.figure()\n",
    "    # summarize history for accuracy\n",
    "    plt.plot(history.history['acc'])\n",
    "    plt.plot(history.history['val_acc'])\n",
    "    plt.plot(history.history['loss'])\n",
    "    plt.plot(history.history['val_loss'])\n",
    "\n",
    "    plt.title('Model accuracy and loss')\n",
    "    plt.ylabel('accuracy or loss')\n",
    "    plt.xlabel('epoch')\n",
    "    plt.legend(['train_acc', 'test_acc', 'train_loss', 'test_loss'], loc='upper left')\n",
    "    plt.show()\n",
    "    \n",
    "    \n",
    "    # Plot training & validation loss values\n",
    "#     plt.figure()\n",
    "#     plt.plot(history.history['loss'])\n",
    "#     plt.plot(history.history['val_loss'])\n",
    "#     plt.title('Model loss')\n",
    "#     plt.ylabel('loss')\n",
    "#     plt.xlabel('epoch')\n",
    "#     plt.legend(['train', 'test'], loc='upper left')\n",
    "#     plt.show()"
   ]
  },
  {
   "cell_type": "code",
   "execution_count": null,
   "metadata": {},
   "outputs": [],
   "source": [
    "# evaluate\n",
    "# loss, acc = model.evaluate(x_test, y_test, verbose=0)\n",
    "# print('Test Accuracy: %f' % (acc*100))"
   ]
  }
 ],
 "metadata": {
  "kernelspec": {
   "display_name": "Python 3",
   "language": "python",
   "name": "python3"
  },
  "language_info": {
   "codemirror_mode": {
    "name": "ipython",
    "version": 3
   },
   "file_extension": ".py",
   "mimetype": "text/x-python",
   "name": "python",
   "nbconvert_exporter": "python",
   "pygments_lexer": "ipython3",
   "version": "3.7.3"
  }
 },
 "nbformat": 4,
 "nbformat_minor": 2
}
